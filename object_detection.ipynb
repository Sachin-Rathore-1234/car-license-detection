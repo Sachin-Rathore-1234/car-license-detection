{
  "nbformat": 4,
  "nbformat_minor": 0,
  "metadata": {
    "colab": {
      "provenance": [],
      "gpuType": "T4"
    },
    "kernelspec": {
      "name": "python3",
      "display_name": "Python 3"
    },
    "language_info": {
      "name": "python"
    },
    "accelerator": "GPU"
  },
  "cells": [
    {
      "cell_type": "code",
      "execution_count": 1,
      "metadata": {
        "id": "dmFLc1kIxxMs"
      },
      "outputs": [],
      "source": [
        "import os\n",
        "import cv2\n",
        "import shutil\n",
        "import numpy as np\n",
        "import pandas as pd\n",
        "from glob import glob\n",
        "import matplotlib.pyplot as plt\n",
        "import xml.etree.ElementTree as xet\n",
        "from sklearn.model_selection import train_test_split"
      ]
    },
    {
      "cell_type": "code",
      "source": [
        "import os\n",
        "import cv2\n",
        "import shutil\n",
        "import numpy as np\n",
        "import pandas as pd\n",
        "from glob import glob\n",
        "import matplotlib.pyplot as plt\n",
        "import xml.etree.ElementTree as xet\n",
        "from sklearn.model_selection import train_test_split\n",
        "\n",
        "\n",
        "\n",
        "import torch\n",
        "\n",
        "print(f'{torch.cuda.is_available() = }')\n",
        "print(f'{torch.cuda.device_count() = }')"
      ],
      "metadata": {
        "colab": {
          "base_uri": "https://localhost:8080/"
        },
        "id": "BnWOinnYzhq8",
        "outputId": "c959b130-2660-4d16-bc7f-807711b92be2"
      },
      "execution_count": 2,
      "outputs": [
        {
          "output_type": "stream",
          "name": "stdout",
          "text": [
            "torch.cuda.is_available() = True\n",
            "torch.cuda.device_count() = 1\n"
          ]
        }
      ]
    },
    {
      "cell_type": "code",
      "source": [
        "!pip install ultralytics"
      ],
      "metadata": {
        "colab": {
          "base_uri": "https://localhost:8080/"
        },
        "id": "ie61Ckr7zk-c",
        "outputId": "105b2da4-1bee-46ad-c009-f854aa16a851"
      },
      "execution_count": 30,
      "outputs": [
        {
          "output_type": "stream",
          "name": "stdout",
          "text": [
            "Collecting ultralytics\n",
            "  Downloading ultralytics-8.3.159-py3-none-any.whl.metadata (37 kB)\n",
            "Requirement already satisfied: numpy>=1.23.0 in /usr/local/lib/python3.11/dist-packages (from ultralytics) (2.0.2)\n",
            "Requirement already satisfied: matplotlib>=3.3.0 in /usr/local/lib/python3.11/dist-packages (from ultralytics) (3.10.0)\n",
            "Requirement already satisfied: opencv-python>=4.6.0 in /usr/local/lib/python3.11/dist-packages (from ultralytics) (4.11.0.86)\n",
            "Requirement already satisfied: pillow>=7.1.2 in /usr/local/lib/python3.11/dist-packages (from ultralytics) (11.2.1)\n",
            "Requirement already satisfied: pyyaml>=5.3.1 in /usr/local/lib/python3.11/dist-packages (from ultralytics) (6.0.2)\n",
            "Requirement already satisfied: requests>=2.23.0 in /usr/local/lib/python3.11/dist-packages (from ultralytics) (2.32.3)\n",
            "Requirement already satisfied: scipy>=1.4.1 in /usr/local/lib/python3.11/dist-packages (from ultralytics) (1.15.3)\n",
            "Requirement already satisfied: torch>=1.8.0 in /usr/local/lib/python3.11/dist-packages (from ultralytics) (2.6.0+cu124)\n",
            "Requirement already satisfied: torchvision>=0.9.0 in /usr/local/lib/python3.11/dist-packages (from ultralytics) (0.21.0+cu124)\n",
            "Requirement already satisfied: tqdm>=4.64.0 in /usr/local/lib/python3.11/dist-packages (from ultralytics) (4.67.1)\n",
            "Requirement already satisfied: psutil in /usr/local/lib/python3.11/dist-packages (from ultralytics) (5.9.5)\n",
            "Requirement already satisfied: py-cpuinfo in /usr/local/lib/python3.11/dist-packages (from ultralytics) (9.0.0)\n",
            "Requirement already satisfied: pandas>=1.1.4 in /usr/local/lib/python3.11/dist-packages (from ultralytics) (2.2.2)\n",
            "Collecting ultralytics-thop>=2.0.0 (from ultralytics)\n",
            "  Downloading ultralytics_thop-2.0.14-py3-none-any.whl.metadata (9.4 kB)\n",
            "Requirement already satisfied: contourpy>=1.0.1 in /usr/local/lib/python3.11/dist-packages (from matplotlib>=3.3.0->ultralytics) (1.3.2)\n",
            "Requirement already satisfied: cycler>=0.10 in /usr/local/lib/python3.11/dist-packages (from matplotlib>=3.3.0->ultralytics) (0.12.1)\n",
            "Requirement already satisfied: fonttools>=4.22.0 in /usr/local/lib/python3.11/dist-packages (from matplotlib>=3.3.0->ultralytics) (4.58.4)\n",
            "Requirement already satisfied: kiwisolver>=1.3.1 in /usr/local/lib/python3.11/dist-packages (from matplotlib>=3.3.0->ultralytics) (1.4.8)\n",
            "Requirement already satisfied: packaging>=20.0 in /usr/local/lib/python3.11/dist-packages (from matplotlib>=3.3.0->ultralytics) (24.2)\n",
            "Requirement already satisfied: pyparsing>=2.3.1 in /usr/local/lib/python3.11/dist-packages (from matplotlib>=3.3.0->ultralytics) (3.2.3)\n",
            "Requirement already satisfied: python-dateutil>=2.7 in /usr/local/lib/python3.11/dist-packages (from matplotlib>=3.3.0->ultralytics) (2.9.0.post0)\n",
            "Requirement already satisfied: pytz>=2020.1 in /usr/local/lib/python3.11/dist-packages (from pandas>=1.1.4->ultralytics) (2025.2)\n",
            "Requirement already satisfied: tzdata>=2022.7 in /usr/local/lib/python3.11/dist-packages (from pandas>=1.1.4->ultralytics) (2025.2)\n",
            "Requirement already satisfied: charset-normalizer<4,>=2 in /usr/local/lib/python3.11/dist-packages (from requests>=2.23.0->ultralytics) (3.4.2)\n",
            "Requirement already satisfied: idna<4,>=2.5 in /usr/local/lib/python3.11/dist-packages (from requests>=2.23.0->ultralytics) (3.10)\n",
            "Requirement already satisfied: urllib3<3,>=1.21.1 in /usr/local/lib/python3.11/dist-packages (from requests>=2.23.0->ultralytics) (2.4.0)\n",
            "Requirement already satisfied: certifi>=2017.4.17 in /usr/local/lib/python3.11/dist-packages (from requests>=2.23.0->ultralytics) (2025.6.15)\n",
            "Requirement already satisfied: filelock in /usr/local/lib/python3.11/dist-packages (from torch>=1.8.0->ultralytics) (3.18.0)\n",
            "Requirement already satisfied: typing-extensions>=4.10.0 in /usr/local/lib/python3.11/dist-packages (from torch>=1.8.0->ultralytics) (4.14.0)\n",
            "Requirement already satisfied: networkx in /usr/local/lib/python3.11/dist-packages (from torch>=1.8.0->ultralytics) (3.5)\n",
            "Requirement already satisfied: jinja2 in /usr/local/lib/python3.11/dist-packages (from torch>=1.8.0->ultralytics) (3.1.6)\n",
            "Requirement already satisfied: fsspec in /usr/local/lib/python3.11/dist-packages (from torch>=1.8.0->ultralytics) (2025.3.2)\n",
            "Collecting nvidia-cuda-nvrtc-cu12==12.4.127 (from torch>=1.8.0->ultralytics)\n",
            "  Downloading nvidia_cuda_nvrtc_cu12-12.4.127-py3-none-manylinux2014_x86_64.whl.metadata (1.5 kB)\n",
            "Collecting nvidia-cuda-runtime-cu12==12.4.127 (from torch>=1.8.0->ultralytics)\n",
            "  Downloading nvidia_cuda_runtime_cu12-12.4.127-py3-none-manylinux2014_x86_64.whl.metadata (1.5 kB)\n",
            "Collecting nvidia-cuda-cupti-cu12==12.4.127 (from torch>=1.8.0->ultralytics)\n",
            "  Downloading nvidia_cuda_cupti_cu12-12.4.127-py3-none-manylinux2014_x86_64.whl.metadata (1.6 kB)\n",
            "Collecting nvidia-cudnn-cu12==9.1.0.70 (from torch>=1.8.0->ultralytics)\n",
            "  Downloading nvidia_cudnn_cu12-9.1.0.70-py3-none-manylinux2014_x86_64.whl.metadata (1.6 kB)\n",
            "Collecting nvidia-cublas-cu12==12.4.5.8 (from torch>=1.8.0->ultralytics)\n",
            "  Downloading nvidia_cublas_cu12-12.4.5.8-py3-none-manylinux2014_x86_64.whl.metadata (1.5 kB)\n",
            "Collecting nvidia-cufft-cu12==11.2.1.3 (from torch>=1.8.0->ultralytics)\n",
            "  Downloading nvidia_cufft_cu12-11.2.1.3-py3-none-manylinux2014_x86_64.whl.metadata (1.5 kB)\n",
            "Collecting nvidia-curand-cu12==10.3.5.147 (from torch>=1.8.0->ultralytics)\n",
            "  Downloading nvidia_curand_cu12-10.3.5.147-py3-none-manylinux2014_x86_64.whl.metadata (1.5 kB)\n",
            "Collecting nvidia-cusolver-cu12==11.6.1.9 (from torch>=1.8.0->ultralytics)\n",
            "  Downloading nvidia_cusolver_cu12-11.6.1.9-py3-none-manylinux2014_x86_64.whl.metadata (1.6 kB)\n",
            "Collecting nvidia-cusparse-cu12==12.3.1.170 (from torch>=1.8.0->ultralytics)\n",
            "  Downloading nvidia_cusparse_cu12-12.3.1.170-py3-none-manylinux2014_x86_64.whl.metadata (1.6 kB)\n",
            "Requirement already satisfied: nvidia-cusparselt-cu12==0.6.2 in /usr/local/lib/python3.11/dist-packages (from torch>=1.8.0->ultralytics) (0.6.2)\n",
            "Requirement already satisfied: nvidia-nccl-cu12==2.21.5 in /usr/local/lib/python3.11/dist-packages (from torch>=1.8.0->ultralytics) (2.21.5)\n",
            "Requirement already satisfied: nvidia-nvtx-cu12==12.4.127 in /usr/local/lib/python3.11/dist-packages (from torch>=1.8.0->ultralytics) (12.4.127)\n",
            "Collecting nvidia-nvjitlink-cu12==12.4.127 (from torch>=1.8.0->ultralytics)\n",
            "  Downloading nvidia_nvjitlink_cu12-12.4.127-py3-none-manylinux2014_x86_64.whl.metadata (1.5 kB)\n",
            "Requirement already satisfied: triton==3.2.0 in /usr/local/lib/python3.11/dist-packages (from torch>=1.8.0->ultralytics) (3.2.0)\n",
            "Requirement already satisfied: sympy==1.13.1 in /usr/local/lib/python3.11/dist-packages (from torch>=1.8.0->ultralytics) (1.13.1)\n",
            "Requirement already satisfied: mpmath<1.4,>=1.1.0 in /usr/local/lib/python3.11/dist-packages (from sympy==1.13.1->torch>=1.8.0->ultralytics) (1.3.0)\n",
            "Requirement already satisfied: six>=1.5 in /usr/local/lib/python3.11/dist-packages (from python-dateutil>=2.7->matplotlib>=3.3.0->ultralytics) (1.17.0)\n",
            "Requirement already satisfied: MarkupSafe>=2.0 in /usr/local/lib/python3.11/dist-packages (from jinja2->torch>=1.8.0->ultralytics) (3.0.2)\n",
            "Downloading ultralytics-8.3.159-py3-none-any.whl (1.0 MB)\n",
            "\u001b[2K   \u001b[90m━━━━━━━━━━━━━━━━━━━━━━━━━━━━━━━━━━━━━━━━\u001b[0m \u001b[32m1.0/1.0 MB\u001b[0m \u001b[31m24.2 MB/s\u001b[0m eta \u001b[36m0:00:00\u001b[0m\n",
            "\u001b[?25hDownloading nvidia_cublas_cu12-12.4.5.8-py3-none-manylinux2014_x86_64.whl (363.4 MB)\n",
            "\u001b[2K   \u001b[90m━━━━━━━━━━━━━━━━━━━━━━━━━━━━━━━━━━━━━━━━\u001b[0m \u001b[32m363.4/363.4 MB\u001b[0m \u001b[31m2.8 MB/s\u001b[0m eta \u001b[36m0:00:00\u001b[0m\n",
            "\u001b[?25hDownloading nvidia_cuda_cupti_cu12-12.4.127-py3-none-manylinux2014_x86_64.whl (13.8 MB)\n",
            "\u001b[2K   \u001b[90m━━━━━━━━━━━━━━━━━━━━━━━━━━━━━━━━━━━━━━━━\u001b[0m \u001b[32m13.8/13.8 MB\u001b[0m \u001b[31m115.0 MB/s\u001b[0m eta \u001b[36m0:00:00\u001b[0m\n",
            "\u001b[?25hDownloading nvidia_cuda_nvrtc_cu12-12.4.127-py3-none-manylinux2014_x86_64.whl (24.6 MB)\n",
            "\u001b[2K   \u001b[90m━━━━━━━━━━━━━━━━━━━━━━━━━━━━━━━━━━━━━━━━\u001b[0m \u001b[32m24.6/24.6 MB\u001b[0m \u001b[31m91.5 MB/s\u001b[0m eta \u001b[36m0:00:00\u001b[0m\n",
            "\u001b[?25hDownloading nvidia_cuda_runtime_cu12-12.4.127-py3-none-manylinux2014_x86_64.whl (883 kB)\n",
            "\u001b[2K   \u001b[90m━━━━━━━━━━━━━━━━━━━━━━━━━━━━━━━━━━━━━━━━\u001b[0m \u001b[32m883.7/883.7 kB\u001b[0m \u001b[31m57.4 MB/s\u001b[0m eta \u001b[36m0:00:00\u001b[0m\n",
            "\u001b[?25hDownloading nvidia_cudnn_cu12-9.1.0.70-py3-none-manylinux2014_x86_64.whl (664.8 MB)\n",
            "\u001b[2K   \u001b[90m━━━━━━━━━━━━━━━━━━━━━━━━━━━━━━━━━━━━━━━━\u001b[0m \u001b[32m664.8/664.8 MB\u001b[0m \u001b[31m2.3 MB/s\u001b[0m eta \u001b[36m0:00:00\u001b[0m\n",
            "\u001b[?25hDownloading nvidia_cufft_cu12-11.2.1.3-py3-none-manylinux2014_x86_64.whl (211.5 MB)\n",
            "\u001b[2K   \u001b[90m━━━━━━━━━━━━━━━━━━━━━━━━━━━━━━━━━━━━━━━━\u001b[0m \u001b[32m211.5/211.5 MB\u001b[0m \u001b[31m6.0 MB/s\u001b[0m eta \u001b[36m0:00:00\u001b[0m\n",
            "\u001b[?25hDownloading nvidia_curand_cu12-10.3.5.147-py3-none-manylinux2014_x86_64.whl (56.3 MB)\n",
            "\u001b[2K   \u001b[90m━━━━━━━━━━━━━━━━━━━━━━━━━━━━━━━━━━━━━━━━\u001b[0m \u001b[32m56.3/56.3 MB\u001b[0m \u001b[31m16.9 MB/s\u001b[0m eta \u001b[36m0:00:00\u001b[0m\n",
            "\u001b[?25hDownloading nvidia_cusolver_cu12-11.6.1.9-py3-none-manylinux2014_x86_64.whl (127.9 MB)\n",
            "\u001b[2K   \u001b[90m━━━━━━━━━━━━━━━━━━━━━━━━━━━━━━━━━━━━━━━━\u001b[0m \u001b[32m127.9/127.9 MB\u001b[0m \u001b[31m8.2 MB/s\u001b[0m eta \u001b[36m0:00:00\u001b[0m\n",
            "\u001b[?25hDownloading nvidia_cusparse_cu12-12.3.1.170-py3-none-manylinux2014_x86_64.whl (207.5 MB)\n",
            "\u001b[2K   \u001b[90m━━━━━━━━━━━━━━━━━━━━━━━━━━━━━━━━━━━━━━━━\u001b[0m \u001b[32m207.5/207.5 MB\u001b[0m \u001b[31m6.2 MB/s\u001b[0m eta \u001b[36m0:00:00\u001b[0m\n",
            "\u001b[?25hDownloading nvidia_nvjitlink_cu12-12.4.127-py3-none-manylinux2014_x86_64.whl (21.1 MB)\n",
            "\u001b[2K   \u001b[90m━━━━━━━━━━━━━━━━━━━━━━━━━━━━━━━━━━━━━━━━\u001b[0m \u001b[32m21.1/21.1 MB\u001b[0m \u001b[31m79.3 MB/s\u001b[0m eta \u001b[36m0:00:00\u001b[0m\n",
            "\u001b[?25hDownloading ultralytics_thop-2.0.14-py3-none-any.whl (26 kB)\n",
            "Installing collected packages: nvidia-nvjitlink-cu12, nvidia-curand-cu12, nvidia-cufft-cu12, nvidia-cuda-runtime-cu12, nvidia-cuda-nvrtc-cu12, nvidia-cuda-cupti-cu12, nvidia-cublas-cu12, nvidia-cusparse-cu12, nvidia-cudnn-cu12, nvidia-cusolver-cu12, ultralytics-thop, ultralytics\n",
            "  Attempting uninstall: nvidia-nvjitlink-cu12\n",
            "    Found existing installation: nvidia-nvjitlink-cu12 12.5.82\n",
            "    Uninstalling nvidia-nvjitlink-cu12-12.5.82:\n",
            "      Successfully uninstalled nvidia-nvjitlink-cu12-12.5.82\n",
            "  Attempting uninstall: nvidia-curand-cu12\n",
            "    Found existing installation: nvidia-curand-cu12 10.3.6.82\n",
            "    Uninstalling nvidia-curand-cu12-10.3.6.82:\n",
            "      Successfully uninstalled nvidia-curand-cu12-10.3.6.82\n",
            "  Attempting uninstall: nvidia-cufft-cu12\n",
            "    Found existing installation: nvidia-cufft-cu12 11.2.3.61\n",
            "    Uninstalling nvidia-cufft-cu12-11.2.3.61:\n",
            "      Successfully uninstalled nvidia-cufft-cu12-11.2.3.61\n",
            "  Attempting uninstall: nvidia-cuda-runtime-cu12\n",
            "    Found existing installation: nvidia-cuda-runtime-cu12 12.5.82\n",
            "    Uninstalling nvidia-cuda-runtime-cu12-12.5.82:\n",
            "      Successfully uninstalled nvidia-cuda-runtime-cu12-12.5.82\n",
            "  Attempting uninstall: nvidia-cuda-nvrtc-cu12\n",
            "    Found existing installation: nvidia-cuda-nvrtc-cu12 12.5.82\n",
            "    Uninstalling nvidia-cuda-nvrtc-cu12-12.5.82:\n",
            "      Successfully uninstalled nvidia-cuda-nvrtc-cu12-12.5.82\n",
            "  Attempting uninstall: nvidia-cuda-cupti-cu12\n",
            "    Found existing installation: nvidia-cuda-cupti-cu12 12.5.82\n",
            "    Uninstalling nvidia-cuda-cupti-cu12-12.5.82:\n",
            "      Successfully uninstalled nvidia-cuda-cupti-cu12-12.5.82\n",
            "  Attempting uninstall: nvidia-cublas-cu12\n",
            "    Found existing installation: nvidia-cublas-cu12 12.5.3.2\n",
            "    Uninstalling nvidia-cublas-cu12-12.5.3.2:\n",
            "      Successfully uninstalled nvidia-cublas-cu12-12.5.3.2\n",
            "  Attempting uninstall: nvidia-cusparse-cu12\n",
            "    Found existing installation: nvidia-cusparse-cu12 12.5.1.3\n",
            "    Uninstalling nvidia-cusparse-cu12-12.5.1.3:\n",
            "      Successfully uninstalled nvidia-cusparse-cu12-12.5.1.3\n",
            "  Attempting uninstall: nvidia-cudnn-cu12\n",
            "    Found existing installation: nvidia-cudnn-cu12 9.3.0.75\n",
            "    Uninstalling nvidia-cudnn-cu12-9.3.0.75:\n",
            "      Successfully uninstalled nvidia-cudnn-cu12-9.3.0.75\n",
            "  Attempting uninstall: nvidia-cusolver-cu12\n",
            "    Found existing installation: nvidia-cusolver-cu12 11.6.3.83\n",
            "    Uninstalling nvidia-cusolver-cu12-11.6.3.83:\n",
            "      Successfully uninstalled nvidia-cusolver-cu12-11.6.3.83\n",
            "Successfully installed nvidia-cublas-cu12-12.4.5.8 nvidia-cuda-cupti-cu12-12.4.127 nvidia-cuda-nvrtc-cu12-12.4.127 nvidia-cuda-runtime-cu12-12.4.127 nvidia-cudnn-cu12-9.1.0.70 nvidia-cufft-cu12-11.2.1.3 nvidia-curand-cu12-10.3.5.147 nvidia-cusolver-cu12-11.6.1.9 nvidia-cusparse-cu12-12.3.1.170 nvidia-nvjitlink-cu12-12.4.127 ultralytics-8.3.159 ultralytics-thop-2.0.14\n"
          ]
        }
      ]
    },
    {
      "cell_type": "code",
      "source": [
        "!pip install -U ipywidgets"
      ],
      "metadata": {
        "colab": {
          "base_uri": "https://localhost:8080/"
        },
        "id": "vC6x-B2Lzwvx",
        "outputId": "d2d187ba-fe0c-492e-8bba-0ea485b8fe33"
      },
      "execution_count": 3,
      "outputs": [
        {
          "output_type": "stream",
          "name": "stdout",
          "text": [
            "Requirement already satisfied: ipywidgets in /usr/local/lib/python3.11/dist-packages (7.7.1)\n",
            "Collecting ipywidgets\n",
            "  Downloading ipywidgets-8.1.7-py3-none-any.whl.metadata (2.4 kB)\n",
            "Collecting comm>=0.1.3 (from ipywidgets)\n",
            "  Downloading comm-0.2.2-py3-none-any.whl.metadata (3.7 kB)\n",
            "Requirement already satisfied: ipython>=6.1.0 in /usr/local/lib/python3.11/dist-packages (from ipywidgets) (7.34.0)\n",
            "Requirement already satisfied: traitlets>=4.3.1 in /usr/local/lib/python3.11/dist-packages (from ipywidgets) (5.7.1)\n",
            "Collecting widgetsnbextension~=4.0.14 (from ipywidgets)\n",
            "  Downloading widgetsnbextension-4.0.14-py3-none-any.whl.metadata (1.6 kB)\n",
            "Requirement already satisfied: jupyterlab_widgets~=3.0.15 in /usr/local/lib/python3.11/dist-packages (from ipywidgets) (3.0.15)\n",
            "Requirement already satisfied: setuptools>=18.5 in /usr/local/lib/python3.11/dist-packages (from ipython>=6.1.0->ipywidgets) (75.2.0)\n",
            "Collecting jedi>=0.16 (from ipython>=6.1.0->ipywidgets)\n",
            "  Downloading jedi-0.19.2-py2.py3-none-any.whl.metadata (22 kB)\n",
            "Requirement already satisfied: decorator in /usr/local/lib/python3.11/dist-packages (from ipython>=6.1.0->ipywidgets) (4.4.2)\n",
            "Requirement already satisfied: pickleshare in /usr/local/lib/python3.11/dist-packages (from ipython>=6.1.0->ipywidgets) (0.7.5)\n",
            "Requirement already satisfied: prompt-toolkit!=3.0.0,!=3.0.1,<3.1.0,>=2.0.0 in /usr/local/lib/python3.11/dist-packages (from ipython>=6.1.0->ipywidgets) (3.0.51)\n",
            "Requirement already satisfied: pygments in /usr/local/lib/python3.11/dist-packages (from ipython>=6.1.0->ipywidgets) (2.19.1)\n",
            "Requirement already satisfied: backcall in /usr/local/lib/python3.11/dist-packages (from ipython>=6.1.0->ipywidgets) (0.2.0)\n",
            "Requirement already satisfied: matplotlib-inline in /usr/local/lib/python3.11/dist-packages (from ipython>=6.1.0->ipywidgets) (0.1.7)\n",
            "Requirement already satisfied: pexpect>4.3 in /usr/local/lib/python3.11/dist-packages (from ipython>=6.1.0->ipywidgets) (4.9.0)\n",
            "Requirement already satisfied: parso<0.9.0,>=0.8.4 in /usr/local/lib/python3.11/dist-packages (from jedi>=0.16->ipython>=6.1.0->ipywidgets) (0.8.4)\n",
            "Requirement already satisfied: ptyprocess>=0.5 in /usr/local/lib/python3.11/dist-packages (from pexpect>4.3->ipython>=6.1.0->ipywidgets) (0.7.0)\n",
            "Requirement already satisfied: wcwidth in /usr/local/lib/python3.11/dist-packages (from prompt-toolkit!=3.0.0,!=3.0.1,<3.1.0,>=2.0.0->ipython>=6.1.0->ipywidgets) (0.2.13)\n",
            "Downloading ipywidgets-8.1.7-py3-none-any.whl (139 kB)\n",
            "\u001b[2K   \u001b[90m━━━━━━━━━━━━━━━━━━━━━━━━━━━━━━━━━━━━━━━━\u001b[0m \u001b[32m139.8/139.8 kB\u001b[0m \u001b[31m6.4 MB/s\u001b[0m eta \u001b[36m0:00:00\u001b[0m\n",
            "\u001b[?25hDownloading comm-0.2.2-py3-none-any.whl (7.2 kB)\n",
            "Downloading widgetsnbextension-4.0.14-py3-none-any.whl (2.2 MB)\n",
            "\u001b[2K   \u001b[90m━━━━━━━━━━━━━━━━━━━━━━━━━━━━━━━━━━━━━━━━\u001b[0m \u001b[32m2.2/2.2 MB\u001b[0m \u001b[31m55.8 MB/s\u001b[0m eta \u001b[36m0:00:00\u001b[0m\n",
            "\u001b[?25hDownloading jedi-0.19.2-py2.py3-none-any.whl (1.6 MB)\n",
            "\u001b[2K   \u001b[90m━━━━━━━━━━━━━━━━━━━━━━━━━━━━━━━━━━━━━━━━\u001b[0m \u001b[32m1.6/1.6 MB\u001b[0m \u001b[31m64.3 MB/s\u001b[0m eta \u001b[36m0:00:00\u001b[0m\n",
            "\u001b[?25hInstalling collected packages: widgetsnbextension, jedi, comm, ipywidgets\n",
            "  Attempting uninstall: widgetsnbextension\n",
            "    Found existing installation: widgetsnbextension 3.6.10\n",
            "    Uninstalling widgetsnbextension-3.6.10:\n",
            "      Successfully uninstalled widgetsnbextension-3.6.10\n",
            "  Attempting uninstall: ipywidgets\n",
            "    Found existing installation: ipywidgets 7.7.1\n",
            "    Uninstalling ipywidgets-7.7.1:\n",
            "      Successfully uninstalled ipywidgets-7.7.1\n",
            "Successfully installed comm-0.2.2 ipywidgets-8.1.7 jedi-0.19.2 widgetsnbextension-4.0.14\n"
          ]
        }
      ]
    },
    {
      "cell_type": "code",
      "source": [
        "\n"
      ],
      "metadata": {
        "id": "8LfO9HBMz3Pm"
      },
      "execution_count": null,
      "outputs": []
    },
    {
      "cell_type": "code",
      "source": [
        "import re\n",
        "\n",
        "def the_number_in_the_string(filename):\n",
        "    \"\"\"\n",
        "    Extracts the first sequence of digits from the given filename string and returns it as an integer.\n",
        "    If no digits are found, returns 0.\n",
        "\n",
        "    Parameters:\n",
        "    filename (str): The input string to search for digits.\n",
        "\n",
        "    Returns:\n",
        "    int: The first sequence of digits found in the input string, or 0 if no digits are found.\n",
        "    \"\"\"\n",
        "    # Search for the first occurrence of one or more digits in the filename\n",
        "    match = re.search(r'(\\d+)', filename)\n",
        "\n",
        "    # If a match is found, return the matched number as an integer\n",
        "    if match:\n",
        "        return int(match.group(0))\n",
        "    # If no match is found, return 0\n",
        "    else:\n",
        "        return 0\n"
      ],
      "metadata": {
        "id": "79UwudJ60A4L"
      },
      "execution_count": 5,
      "outputs": []
    },
    {
      "cell_type": "code",
      "source": [
        "\n",
        "\n",
        "from google.colab import files\n",
        "files.upload()  # Upload kaggle.json file\n",
        "\n",
        "\n"
      ],
      "metadata": {
        "id": "CNDirdfs284X",
        "colab": {
          "base_uri": "https://localhost:8080/",
          "height": 56
        },
        "outputId": "2af71e40-6937-4b0e-bfb7-a5a22764958b"
      },
      "execution_count": 13,
      "outputs": [
        {
          "output_type": "display_data",
          "data": {
            "text/plain": [
              "<IPython.core.display.HTML object>"
            ],
            "text/html": [
              "\n",
              "     <input type=\"file\" id=\"files-c8566948-04cc-4279-b7b7-6e7b9396d8ba\" name=\"files[]\" multiple disabled\n",
              "        style=\"border:none\" />\n",
              "     <output id=\"result-c8566948-04cc-4279-b7b7-6e7b9396d8ba\">\n",
              "      Upload widget is only available when the cell has been executed in the\n",
              "      current browser session. Please rerun this cell to enable.\n",
              "      </output>\n",
              "      <script>// Copyright 2017 Google LLC\n",
              "//\n",
              "// Licensed under the Apache License, Version 2.0 (the \"License\");\n",
              "// you may not use this file except in compliance with the License.\n",
              "// You may obtain a copy of the License at\n",
              "//\n",
              "//      http://www.apache.org/licenses/LICENSE-2.0\n",
              "//\n",
              "// Unless required by applicable law or agreed to in writing, software\n",
              "// distributed under the License is distributed on an \"AS IS\" BASIS,\n",
              "// WITHOUT WARRANTIES OR CONDITIONS OF ANY KIND, either express or implied.\n",
              "// See the License for the specific language governing permissions and\n",
              "// limitations under the License.\n",
              "\n",
              "/**\n",
              " * @fileoverview Helpers for google.colab Python module.\n",
              " */\n",
              "(function(scope) {\n",
              "function span(text, styleAttributes = {}) {\n",
              "  const element = document.createElement('span');\n",
              "  element.textContent = text;\n",
              "  for (const key of Object.keys(styleAttributes)) {\n",
              "    element.style[key] = styleAttributes[key];\n",
              "  }\n",
              "  return element;\n",
              "}\n",
              "\n",
              "// Max number of bytes which will be uploaded at a time.\n",
              "const MAX_PAYLOAD_SIZE = 100 * 1024;\n",
              "\n",
              "function _uploadFiles(inputId, outputId) {\n",
              "  const steps = uploadFilesStep(inputId, outputId);\n",
              "  const outputElement = document.getElementById(outputId);\n",
              "  // Cache steps on the outputElement to make it available for the next call\n",
              "  // to uploadFilesContinue from Python.\n",
              "  outputElement.steps = steps;\n",
              "\n",
              "  return _uploadFilesContinue(outputId);\n",
              "}\n",
              "\n",
              "// This is roughly an async generator (not supported in the browser yet),\n",
              "// where there are multiple asynchronous steps and the Python side is going\n",
              "// to poll for completion of each step.\n",
              "// This uses a Promise to block the python side on completion of each step,\n",
              "// then passes the result of the previous step as the input to the next step.\n",
              "function _uploadFilesContinue(outputId) {\n",
              "  const outputElement = document.getElementById(outputId);\n",
              "  const steps = outputElement.steps;\n",
              "\n",
              "  const next = steps.next(outputElement.lastPromiseValue);\n",
              "  return Promise.resolve(next.value.promise).then((value) => {\n",
              "    // Cache the last promise value to make it available to the next\n",
              "    // step of the generator.\n",
              "    outputElement.lastPromiseValue = value;\n",
              "    return next.value.response;\n",
              "  });\n",
              "}\n",
              "\n",
              "/**\n",
              " * Generator function which is called between each async step of the upload\n",
              " * process.\n",
              " * @param {string} inputId Element ID of the input file picker element.\n",
              " * @param {string} outputId Element ID of the output display.\n",
              " * @return {!Iterable<!Object>} Iterable of next steps.\n",
              " */\n",
              "function* uploadFilesStep(inputId, outputId) {\n",
              "  const inputElement = document.getElementById(inputId);\n",
              "  inputElement.disabled = false;\n",
              "\n",
              "  const outputElement = document.getElementById(outputId);\n",
              "  outputElement.innerHTML = '';\n",
              "\n",
              "  const pickedPromise = new Promise((resolve) => {\n",
              "    inputElement.addEventListener('change', (e) => {\n",
              "      resolve(e.target.files);\n",
              "    });\n",
              "  });\n",
              "\n",
              "  const cancel = document.createElement('button');\n",
              "  inputElement.parentElement.appendChild(cancel);\n",
              "  cancel.textContent = 'Cancel upload';\n",
              "  const cancelPromise = new Promise((resolve) => {\n",
              "    cancel.onclick = () => {\n",
              "      resolve(null);\n",
              "    };\n",
              "  });\n",
              "\n",
              "  // Wait for the user to pick the files.\n",
              "  const files = yield {\n",
              "    promise: Promise.race([pickedPromise, cancelPromise]),\n",
              "    response: {\n",
              "      action: 'starting',\n",
              "    }\n",
              "  };\n",
              "\n",
              "  cancel.remove();\n",
              "\n",
              "  // Disable the input element since further picks are not allowed.\n",
              "  inputElement.disabled = true;\n",
              "\n",
              "  if (!files) {\n",
              "    return {\n",
              "      response: {\n",
              "        action: 'complete',\n",
              "      }\n",
              "    };\n",
              "  }\n",
              "\n",
              "  for (const file of files) {\n",
              "    const li = document.createElement('li');\n",
              "    li.append(span(file.name, {fontWeight: 'bold'}));\n",
              "    li.append(span(\n",
              "        `(${file.type || 'n/a'}) - ${file.size} bytes, ` +\n",
              "        `last modified: ${\n",
              "            file.lastModifiedDate ? file.lastModifiedDate.toLocaleDateString() :\n",
              "                                    'n/a'} - `));\n",
              "    const percent = span('0% done');\n",
              "    li.appendChild(percent);\n",
              "\n",
              "    outputElement.appendChild(li);\n",
              "\n",
              "    const fileDataPromise = new Promise((resolve) => {\n",
              "      const reader = new FileReader();\n",
              "      reader.onload = (e) => {\n",
              "        resolve(e.target.result);\n",
              "      };\n",
              "      reader.readAsArrayBuffer(file);\n",
              "    });\n",
              "    // Wait for the data to be ready.\n",
              "    let fileData = yield {\n",
              "      promise: fileDataPromise,\n",
              "      response: {\n",
              "        action: 'continue',\n",
              "      }\n",
              "    };\n",
              "\n",
              "    // Use a chunked sending to avoid message size limits. See b/62115660.\n",
              "    let position = 0;\n",
              "    do {\n",
              "      const length = Math.min(fileData.byteLength - position, MAX_PAYLOAD_SIZE);\n",
              "      const chunk = new Uint8Array(fileData, position, length);\n",
              "      position += length;\n",
              "\n",
              "      const base64 = btoa(String.fromCharCode.apply(null, chunk));\n",
              "      yield {\n",
              "        response: {\n",
              "          action: 'append',\n",
              "          file: file.name,\n",
              "          data: base64,\n",
              "        },\n",
              "      };\n",
              "\n",
              "      let percentDone = fileData.byteLength === 0 ?\n",
              "          100 :\n",
              "          Math.round((position / fileData.byteLength) * 100);\n",
              "      percent.textContent = `${percentDone}% done`;\n",
              "\n",
              "    } while (position < fileData.byteLength);\n",
              "  }\n",
              "\n",
              "  // All done.\n",
              "  yield {\n",
              "    response: {\n",
              "      action: 'complete',\n",
              "    }\n",
              "  };\n",
              "}\n",
              "\n",
              "scope.google = scope.google || {};\n",
              "scope.google.colab = scope.google.colab || {};\n",
              "scope.google.colab._files = {\n",
              "  _uploadFiles,\n",
              "  _uploadFilesContinue,\n",
              "};\n",
              "})(self);\n",
              "</script> "
            ]
          },
          "metadata": {}
        },
        {
          "output_type": "execute_result",
          "data": {
            "text/plain": [
              "{}"
            ]
          },
          "metadata": {},
          "execution_count": 13
        }
      ]
    },
    {
      "cell_type": "code",
      "source": [
        "!mkdir -p ~/.kaggle\n",
        "!cp kaggle.json ~/.kaggle/\n",
        "!chmod 600 ~/.kaggle/kaggle.json\n"
      ],
      "metadata": {
        "id": "vEluvJm23Aar"
      },
      "execution_count": 14,
      "outputs": []
    },
    {
      "cell_type": "code",
      "source": [
        "!kaggle datasets download -d andrewmvd/car-plate-detection\n",
        "\n"
      ],
      "metadata": {
        "id": "zL1VZZNK3MRR",
        "colab": {
          "base_uri": "https://localhost:8080/"
        },
        "outputId": "dfe84ea6-b9c3-4feb-b5e3-92bda5b42fdd"
      },
      "execution_count": 15,
      "outputs": [
        {
          "output_type": "stream",
          "name": "stdout",
          "text": [
            "Dataset URL: https://www.kaggle.com/datasets/andrewmvd/car-plate-detection\n",
            "License(s): CC0-1.0\n",
            "Downloading car-plate-detection.zip to /content\n",
            " 60% 122M/203M [00:00<00:00, 1.27GB/s]\n",
            "100% 203M/203M [00:00<00:00, 905MB/s] \n"
          ]
        }
      ]
    },
    {
      "cell_type": "code",
      "source": [
        "!unzip car-plate-detection.zip -d car-plate-detection\n"
      ],
      "metadata": {
        "colab": {
          "base_uri": "https://localhost:8080/"
        },
        "id": "X5GVLEscyAHa",
        "outputId": "a53cd8d4-9b8f-4006-fd84-337eec790033"
      },
      "execution_count": 16,
      "outputs": [
        {
          "output_type": "stream",
          "name": "stdout",
          "text": [
            "Archive:  car-plate-detection.zip\n",
            "  inflating: car-plate-detection/annotations/Cars0.xml  \n",
            "  inflating: car-plate-detection/annotations/Cars1.xml  \n",
            "  inflating: car-plate-detection/annotations/Cars10.xml  \n",
            "  inflating: car-plate-detection/annotations/Cars100.xml  \n",
            "  inflating: car-plate-detection/annotations/Cars101.xml  \n",
            "  inflating: car-plate-detection/annotations/Cars102.xml  \n",
            "  inflating: car-plate-detection/annotations/Cars103.xml  \n",
            "  inflating: car-plate-detection/annotations/Cars104.xml  \n",
            "  inflating: car-plate-detection/annotations/Cars105.xml  \n",
            "  inflating: car-plate-detection/annotations/Cars106.xml  \n",
            "  inflating: car-plate-detection/annotations/Cars107.xml  \n",
            "  inflating: car-plate-detection/annotations/Cars108.xml  \n",
            "  inflating: car-plate-detection/annotations/Cars109.xml  \n",
            "  inflating: car-plate-detection/annotations/Cars11.xml  \n",
            "  inflating: car-plate-detection/annotations/Cars110.xml  \n",
            "  inflating: car-plate-detection/annotations/Cars111.xml  \n",
            "  inflating: car-plate-detection/annotations/Cars112.xml  \n",
            "  inflating: car-plate-detection/annotations/Cars113.xml  \n",
            "  inflating: car-plate-detection/annotations/Cars114.xml  \n",
            "  inflating: car-plate-detection/annotations/Cars115.xml  \n",
            "  inflating: car-plate-detection/annotations/Cars116.xml  \n",
            "  inflating: car-plate-detection/annotations/Cars117.xml  \n",
            "  inflating: car-plate-detection/annotations/Cars118.xml  \n",
            "  inflating: car-plate-detection/annotations/Cars119.xml  \n",
            "  inflating: car-plate-detection/annotations/Cars12.xml  \n",
            "  inflating: car-plate-detection/annotations/Cars120.xml  \n",
            "  inflating: car-plate-detection/annotations/Cars121.xml  \n",
            "  inflating: car-plate-detection/annotations/Cars122.xml  \n",
            "  inflating: car-plate-detection/annotations/Cars123.xml  \n",
            "  inflating: car-plate-detection/annotations/Cars124.xml  \n",
            "  inflating: car-plate-detection/annotations/Cars125.xml  \n",
            "  inflating: car-plate-detection/annotations/Cars126.xml  \n",
            "  inflating: car-plate-detection/annotations/Cars127.xml  \n",
            "  inflating: car-plate-detection/annotations/Cars128.xml  \n",
            "  inflating: car-plate-detection/annotations/Cars129.xml  \n",
            "  inflating: car-plate-detection/annotations/Cars13.xml  \n",
            "  inflating: car-plate-detection/annotations/Cars130.xml  \n",
            "  inflating: car-plate-detection/annotations/Cars131.xml  \n",
            "  inflating: car-plate-detection/annotations/Cars132.xml  \n",
            "  inflating: car-plate-detection/annotations/Cars133.xml  \n",
            "  inflating: car-plate-detection/annotations/Cars134.xml  \n",
            "  inflating: car-plate-detection/annotations/Cars135.xml  \n",
            "  inflating: car-plate-detection/annotations/Cars136.xml  \n",
            "  inflating: car-plate-detection/annotations/Cars137.xml  \n",
            "  inflating: car-plate-detection/annotations/Cars138.xml  \n",
            "  inflating: car-plate-detection/annotations/Cars139.xml  \n",
            "  inflating: car-plate-detection/annotations/Cars14.xml  \n",
            "  inflating: car-plate-detection/annotations/Cars140.xml  \n",
            "  inflating: car-plate-detection/annotations/Cars141.xml  \n",
            "  inflating: car-plate-detection/annotations/Cars142.xml  \n",
            "  inflating: car-plate-detection/annotations/Cars143.xml  \n",
            "  inflating: car-plate-detection/annotations/Cars144.xml  \n",
            "  inflating: car-plate-detection/annotations/Cars145.xml  \n",
            "  inflating: car-plate-detection/annotations/Cars146.xml  \n",
            "  inflating: car-plate-detection/annotations/Cars147.xml  \n",
            "  inflating: car-plate-detection/annotations/Cars148.xml  \n",
            "  inflating: car-plate-detection/annotations/Cars149.xml  \n",
            "  inflating: car-plate-detection/annotations/Cars15.xml  \n",
            "  inflating: car-plate-detection/annotations/Cars150.xml  \n",
            "  inflating: car-plate-detection/annotations/Cars151.xml  \n",
            "  inflating: car-plate-detection/annotations/Cars152.xml  \n",
            "  inflating: car-plate-detection/annotations/Cars153.xml  \n",
            "  inflating: car-plate-detection/annotations/Cars154.xml  \n",
            "  inflating: car-plate-detection/annotations/Cars155.xml  \n",
            "  inflating: car-plate-detection/annotations/Cars156.xml  \n",
            "  inflating: car-plate-detection/annotations/Cars157.xml  \n",
            "  inflating: car-plate-detection/annotations/Cars158.xml  \n",
            "  inflating: car-plate-detection/annotations/Cars159.xml  \n",
            "  inflating: car-plate-detection/annotations/Cars16.xml  \n",
            "  inflating: car-plate-detection/annotations/Cars160.xml  \n",
            "  inflating: car-plate-detection/annotations/Cars161.xml  \n",
            "  inflating: car-plate-detection/annotations/Cars162.xml  \n",
            "  inflating: car-plate-detection/annotations/Cars163.xml  \n",
            "  inflating: car-plate-detection/annotations/Cars164.xml  \n",
            "  inflating: car-plate-detection/annotations/Cars165.xml  \n",
            "  inflating: car-plate-detection/annotations/Cars166.xml  \n",
            "  inflating: car-plate-detection/annotations/Cars167.xml  \n",
            "  inflating: car-plate-detection/annotations/Cars168.xml  \n",
            "  inflating: car-plate-detection/annotations/Cars169.xml  \n",
            "  inflating: car-plate-detection/annotations/Cars17.xml  \n",
            "  inflating: car-plate-detection/annotations/Cars170.xml  \n",
            "  inflating: car-plate-detection/annotations/Cars171.xml  \n",
            "  inflating: car-plate-detection/annotations/Cars172.xml  \n",
            "  inflating: car-plate-detection/annotations/Cars173.xml  \n",
            "  inflating: car-plate-detection/annotations/Cars174.xml  \n",
            "  inflating: car-plate-detection/annotations/Cars175.xml  \n",
            "  inflating: car-plate-detection/annotations/Cars176.xml  \n",
            "  inflating: car-plate-detection/annotations/Cars177.xml  \n",
            "  inflating: car-plate-detection/annotations/Cars178.xml  \n",
            "  inflating: car-plate-detection/annotations/Cars179.xml  \n",
            "  inflating: car-plate-detection/annotations/Cars18.xml  \n",
            "  inflating: car-plate-detection/annotations/Cars180.xml  \n",
            "  inflating: car-plate-detection/annotations/Cars181.xml  \n",
            "  inflating: car-plate-detection/annotations/Cars182.xml  \n",
            "  inflating: car-plate-detection/annotations/Cars183.xml  \n",
            "  inflating: car-plate-detection/annotations/Cars184.xml  \n",
            "  inflating: car-plate-detection/annotations/Cars185.xml  \n",
            "  inflating: car-plate-detection/annotations/Cars186.xml  \n",
            "  inflating: car-plate-detection/annotations/Cars187.xml  \n",
            "  inflating: car-plate-detection/annotations/Cars188.xml  \n",
            "  inflating: car-plate-detection/annotations/Cars189.xml  \n",
            "  inflating: car-plate-detection/annotations/Cars19.xml  \n",
            "  inflating: car-plate-detection/annotations/Cars190.xml  \n",
            "  inflating: car-plate-detection/annotations/Cars191.xml  \n",
            "  inflating: car-plate-detection/annotations/Cars192.xml  \n",
            "  inflating: car-plate-detection/annotations/Cars193.xml  \n",
            "  inflating: car-plate-detection/annotations/Cars194.xml  \n",
            "  inflating: car-plate-detection/annotations/Cars195.xml  \n",
            "  inflating: car-plate-detection/annotations/Cars196.xml  \n",
            "  inflating: car-plate-detection/annotations/Cars197.xml  \n",
            "  inflating: car-plate-detection/annotations/Cars198.xml  \n",
            "  inflating: car-plate-detection/annotations/Cars199.xml  \n",
            "  inflating: car-plate-detection/annotations/Cars2.xml  \n",
            "  inflating: car-plate-detection/annotations/Cars20.xml  \n",
            "  inflating: car-plate-detection/annotations/Cars200.xml  \n",
            "  inflating: car-plate-detection/annotations/Cars201.xml  \n",
            "  inflating: car-plate-detection/annotations/Cars202.xml  \n",
            "  inflating: car-plate-detection/annotations/Cars203.xml  \n",
            "  inflating: car-plate-detection/annotations/Cars204.xml  \n",
            "  inflating: car-plate-detection/annotations/Cars205.xml  \n",
            "  inflating: car-plate-detection/annotations/Cars206.xml  \n",
            "  inflating: car-plate-detection/annotations/Cars207.xml  \n",
            "  inflating: car-plate-detection/annotations/Cars208.xml  \n",
            "  inflating: car-plate-detection/annotations/Cars209.xml  \n",
            "  inflating: car-plate-detection/annotations/Cars21.xml  \n",
            "  inflating: car-plate-detection/annotations/Cars210.xml  \n",
            "  inflating: car-plate-detection/annotations/Cars211.xml  \n",
            "  inflating: car-plate-detection/annotations/Cars212.xml  \n",
            "  inflating: car-plate-detection/annotations/Cars213.xml  \n",
            "  inflating: car-plate-detection/annotations/Cars214.xml  \n",
            "  inflating: car-plate-detection/annotations/Cars215.xml  \n",
            "  inflating: car-plate-detection/annotations/Cars216.xml  \n",
            "  inflating: car-plate-detection/annotations/Cars217.xml  \n",
            "  inflating: car-plate-detection/annotations/Cars218.xml  \n",
            "  inflating: car-plate-detection/annotations/Cars219.xml  \n",
            "  inflating: car-plate-detection/annotations/Cars22.xml  \n",
            "  inflating: car-plate-detection/annotations/Cars220.xml  \n",
            "  inflating: car-plate-detection/annotations/Cars221.xml  \n",
            "  inflating: car-plate-detection/annotations/Cars222.xml  \n",
            "  inflating: car-plate-detection/annotations/Cars223.xml  \n",
            "  inflating: car-plate-detection/annotations/Cars224.xml  \n",
            "  inflating: car-plate-detection/annotations/Cars225.xml  \n",
            "  inflating: car-plate-detection/annotations/Cars226.xml  \n",
            "  inflating: car-plate-detection/annotations/Cars227.xml  \n",
            "  inflating: car-plate-detection/annotations/Cars228.xml  \n",
            "  inflating: car-plate-detection/annotations/Cars229.xml  \n",
            "  inflating: car-plate-detection/annotations/Cars23.xml  \n",
            "  inflating: car-plate-detection/annotations/Cars230.xml  \n",
            "  inflating: car-plate-detection/annotations/Cars231.xml  \n",
            "  inflating: car-plate-detection/annotations/Cars232.xml  \n",
            "  inflating: car-plate-detection/annotations/Cars233.xml  \n",
            "  inflating: car-plate-detection/annotations/Cars234.xml  \n",
            "  inflating: car-plate-detection/annotations/Cars235.xml  \n",
            "  inflating: car-plate-detection/annotations/Cars236.xml  \n",
            "  inflating: car-plate-detection/annotations/Cars237.xml  \n",
            "  inflating: car-plate-detection/annotations/Cars238.xml  \n",
            "  inflating: car-plate-detection/annotations/Cars239.xml  \n",
            "  inflating: car-plate-detection/annotations/Cars24.xml  \n",
            "  inflating: car-plate-detection/annotations/Cars240.xml  \n",
            "  inflating: car-plate-detection/annotations/Cars241.xml  \n",
            "  inflating: car-plate-detection/annotations/Cars242.xml  \n",
            "  inflating: car-plate-detection/annotations/Cars243.xml  \n",
            "  inflating: car-plate-detection/annotations/Cars244.xml  \n",
            "  inflating: car-plate-detection/annotations/Cars245.xml  \n",
            "  inflating: car-plate-detection/annotations/Cars246.xml  \n",
            "  inflating: car-plate-detection/annotations/Cars247.xml  \n",
            "  inflating: car-plate-detection/annotations/Cars248.xml  \n",
            "  inflating: car-plate-detection/annotations/Cars249.xml  \n",
            "  inflating: car-plate-detection/annotations/Cars25.xml  \n",
            "  inflating: car-plate-detection/annotations/Cars250.xml  \n",
            "  inflating: car-plate-detection/annotations/Cars251.xml  \n",
            "  inflating: car-plate-detection/annotations/Cars252.xml  \n",
            "  inflating: car-plate-detection/annotations/Cars253.xml  \n",
            "  inflating: car-plate-detection/annotations/Cars254.xml  \n",
            "  inflating: car-plate-detection/annotations/Cars255.xml  \n",
            "  inflating: car-plate-detection/annotations/Cars256.xml  \n",
            "  inflating: car-plate-detection/annotations/Cars257.xml  \n",
            "  inflating: car-plate-detection/annotations/Cars258.xml  \n",
            "  inflating: car-plate-detection/annotations/Cars259.xml  \n",
            "  inflating: car-plate-detection/annotations/Cars26.xml  \n",
            "  inflating: car-plate-detection/annotations/Cars260.xml  \n",
            "  inflating: car-plate-detection/annotations/Cars261.xml  \n",
            "  inflating: car-plate-detection/annotations/Cars262.xml  \n",
            "  inflating: car-plate-detection/annotations/Cars263.xml  \n",
            "  inflating: car-plate-detection/annotations/Cars264.xml  \n",
            "  inflating: car-plate-detection/annotations/Cars265.xml  \n",
            "  inflating: car-plate-detection/annotations/Cars266.xml  \n",
            "  inflating: car-plate-detection/annotations/Cars267.xml  \n",
            "  inflating: car-plate-detection/annotations/Cars268.xml  \n",
            "  inflating: car-plate-detection/annotations/Cars269.xml  \n",
            "  inflating: car-plate-detection/annotations/Cars27.xml  \n",
            "  inflating: car-plate-detection/annotations/Cars270.xml  \n",
            "  inflating: car-plate-detection/annotations/Cars271.xml  \n",
            "  inflating: car-plate-detection/annotations/Cars272.xml  \n",
            "  inflating: car-plate-detection/annotations/Cars273.xml  \n",
            "  inflating: car-plate-detection/annotations/Cars274.xml  \n",
            "  inflating: car-plate-detection/annotations/Cars275.xml  \n",
            "  inflating: car-plate-detection/annotations/Cars276.xml  \n",
            "  inflating: car-plate-detection/annotations/Cars277.xml  \n",
            "  inflating: car-plate-detection/annotations/Cars278.xml  \n",
            "  inflating: car-plate-detection/annotations/Cars279.xml  \n",
            "  inflating: car-plate-detection/annotations/Cars28.xml  \n",
            "  inflating: car-plate-detection/annotations/Cars280.xml  \n",
            "  inflating: car-plate-detection/annotations/Cars281.xml  \n",
            "  inflating: car-plate-detection/annotations/Cars282.xml  \n",
            "  inflating: car-plate-detection/annotations/Cars283.xml  \n",
            "  inflating: car-plate-detection/annotations/Cars284.xml  \n",
            "  inflating: car-plate-detection/annotations/Cars285.xml  \n",
            "  inflating: car-plate-detection/annotations/Cars286.xml  \n",
            "  inflating: car-plate-detection/annotations/Cars287.xml  \n",
            "  inflating: car-plate-detection/annotations/Cars288.xml  \n",
            "  inflating: car-plate-detection/annotations/Cars289.xml  \n",
            "  inflating: car-plate-detection/annotations/Cars29.xml  \n",
            "  inflating: car-plate-detection/annotations/Cars290.xml  \n",
            "  inflating: car-plate-detection/annotations/Cars291.xml  \n",
            "  inflating: car-plate-detection/annotations/Cars292.xml  \n",
            "  inflating: car-plate-detection/annotations/Cars293.xml  \n",
            "  inflating: car-plate-detection/annotations/Cars294.xml  \n",
            "  inflating: car-plate-detection/annotations/Cars295.xml  \n",
            "  inflating: car-plate-detection/annotations/Cars296.xml  \n",
            "  inflating: car-plate-detection/annotations/Cars297.xml  \n",
            "  inflating: car-plate-detection/annotations/Cars298.xml  \n",
            "  inflating: car-plate-detection/annotations/Cars299.xml  \n",
            "  inflating: car-plate-detection/annotations/Cars3.xml  \n",
            "  inflating: car-plate-detection/annotations/Cars30.xml  \n",
            "  inflating: car-plate-detection/annotations/Cars300.xml  \n",
            "  inflating: car-plate-detection/annotations/Cars301.xml  \n",
            "  inflating: car-plate-detection/annotations/Cars302.xml  \n",
            "  inflating: car-plate-detection/annotations/Cars303.xml  \n",
            "  inflating: car-plate-detection/annotations/Cars304.xml  \n",
            "  inflating: car-plate-detection/annotations/Cars305.xml  \n",
            "  inflating: car-plate-detection/annotations/Cars306.xml  \n",
            "  inflating: car-plate-detection/annotations/Cars307.xml  \n",
            "  inflating: car-plate-detection/annotations/Cars308.xml  \n",
            "  inflating: car-plate-detection/annotations/Cars309.xml  \n",
            "  inflating: car-plate-detection/annotations/Cars31.xml  \n",
            "  inflating: car-plate-detection/annotations/Cars310.xml  \n",
            "  inflating: car-plate-detection/annotations/Cars311.xml  \n",
            "  inflating: car-plate-detection/annotations/Cars312.xml  \n",
            "  inflating: car-plate-detection/annotations/Cars313.xml  \n",
            "  inflating: car-plate-detection/annotations/Cars314.xml  \n",
            "  inflating: car-plate-detection/annotations/Cars315.xml  \n",
            "  inflating: car-plate-detection/annotations/Cars316.xml  \n",
            "  inflating: car-plate-detection/annotations/Cars317.xml  \n",
            "  inflating: car-plate-detection/annotations/Cars318.xml  \n",
            "  inflating: car-plate-detection/annotations/Cars319.xml  \n",
            "  inflating: car-plate-detection/annotations/Cars32.xml  \n",
            "  inflating: car-plate-detection/annotations/Cars320.xml  \n",
            "  inflating: car-plate-detection/annotations/Cars321.xml  \n",
            "  inflating: car-plate-detection/annotations/Cars322.xml  \n",
            "  inflating: car-plate-detection/annotations/Cars323.xml  \n",
            "  inflating: car-plate-detection/annotations/Cars324.xml  \n",
            "  inflating: car-plate-detection/annotations/Cars325.xml  \n",
            "  inflating: car-plate-detection/annotations/Cars326.xml  \n",
            "  inflating: car-plate-detection/annotations/Cars327.xml  \n",
            "  inflating: car-plate-detection/annotations/Cars328.xml  \n",
            "  inflating: car-plate-detection/annotations/Cars329.xml  \n",
            "  inflating: car-plate-detection/annotations/Cars33.xml  \n",
            "  inflating: car-plate-detection/annotations/Cars330.xml  \n",
            "  inflating: car-plate-detection/annotations/Cars331.xml  \n",
            "  inflating: car-plate-detection/annotations/Cars332.xml  \n",
            "  inflating: car-plate-detection/annotations/Cars333.xml  \n",
            "  inflating: car-plate-detection/annotations/Cars334.xml  \n",
            "  inflating: car-plate-detection/annotations/Cars335.xml  \n",
            "  inflating: car-plate-detection/annotations/Cars336.xml  \n",
            "  inflating: car-plate-detection/annotations/Cars337.xml  \n",
            "  inflating: car-plate-detection/annotations/Cars338.xml  \n",
            "  inflating: car-plate-detection/annotations/Cars339.xml  \n",
            "  inflating: car-plate-detection/annotations/Cars34.xml  \n",
            "  inflating: car-plate-detection/annotations/Cars340.xml  \n",
            "  inflating: car-plate-detection/annotations/Cars341.xml  \n",
            "  inflating: car-plate-detection/annotations/Cars342.xml  \n",
            "  inflating: car-plate-detection/annotations/Cars343.xml  \n",
            "  inflating: car-plate-detection/annotations/Cars344.xml  \n",
            "  inflating: car-plate-detection/annotations/Cars345.xml  \n",
            "  inflating: car-plate-detection/annotations/Cars346.xml  \n",
            "  inflating: car-plate-detection/annotations/Cars347.xml  \n",
            "  inflating: car-plate-detection/annotations/Cars348.xml  \n",
            "  inflating: car-plate-detection/annotations/Cars349.xml  \n",
            "  inflating: car-plate-detection/annotations/Cars35.xml  \n",
            "  inflating: car-plate-detection/annotations/Cars350.xml  \n",
            "  inflating: car-plate-detection/annotations/Cars351.xml  \n",
            "  inflating: car-plate-detection/annotations/Cars352.xml  \n",
            "  inflating: car-plate-detection/annotations/Cars353.xml  \n",
            "  inflating: car-plate-detection/annotations/Cars354.xml  \n",
            "  inflating: car-plate-detection/annotations/Cars355.xml  \n",
            "  inflating: car-plate-detection/annotations/Cars356.xml  \n",
            "  inflating: car-plate-detection/annotations/Cars357.xml  \n",
            "  inflating: car-plate-detection/annotations/Cars358.xml  \n",
            "  inflating: car-plate-detection/annotations/Cars359.xml  \n",
            "  inflating: car-plate-detection/annotations/Cars36.xml  \n",
            "  inflating: car-plate-detection/annotations/Cars360.xml  \n",
            "  inflating: car-plate-detection/annotations/Cars361.xml  \n",
            "  inflating: car-plate-detection/annotations/Cars362.xml  \n",
            "  inflating: car-plate-detection/annotations/Cars363.xml  \n",
            "  inflating: car-plate-detection/annotations/Cars364.xml  \n",
            "  inflating: car-plate-detection/annotations/Cars365.xml  \n",
            "  inflating: car-plate-detection/annotations/Cars366.xml  \n",
            "  inflating: car-plate-detection/annotations/Cars367.xml  \n",
            "  inflating: car-plate-detection/annotations/Cars368.xml  \n",
            "  inflating: car-plate-detection/annotations/Cars369.xml  \n",
            "  inflating: car-plate-detection/annotations/Cars37.xml  \n",
            "  inflating: car-plate-detection/annotations/Cars370.xml  \n",
            "  inflating: car-plate-detection/annotations/Cars371.xml  \n",
            "  inflating: car-plate-detection/annotations/Cars372.xml  \n",
            "  inflating: car-plate-detection/annotations/Cars373.xml  \n",
            "  inflating: car-plate-detection/annotations/Cars374.xml  \n",
            "  inflating: car-plate-detection/annotations/Cars375.xml  \n",
            "  inflating: car-plate-detection/annotations/Cars376.xml  \n",
            "  inflating: car-plate-detection/annotations/Cars377.xml  \n",
            "  inflating: car-plate-detection/annotations/Cars378.xml  \n",
            "  inflating: car-plate-detection/annotations/Cars379.xml  \n",
            "  inflating: car-plate-detection/annotations/Cars38.xml  \n",
            "  inflating: car-plate-detection/annotations/Cars380.xml  \n",
            "  inflating: car-plate-detection/annotations/Cars381.xml  \n",
            "  inflating: car-plate-detection/annotations/Cars382.xml  \n",
            "  inflating: car-plate-detection/annotations/Cars383.xml  \n",
            "  inflating: car-plate-detection/annotations/Cars384.xml  \n",
            "  inflating: car-plate-detection/annotations/Cars385.xml  \n",
            "  inflating: car-plate-detection/annotations/Cars386.xml  \n",
            "  inflating: car-plate-detection/annotations/Cars387.xml  \n",
            "  inflating: car-plate-detection/annotations/Cars388.xml  \n",
            "  inflating: car-plate-detection/annotations/Cars389.xml  \n",
            "  inflating: car-plate-detection/annotations/Cars39.xml  \n",
            "  inflating: car-plate-detection/annotations/Cars390.xml  \n",
            "  inflating: car-plate-detection/annotations/Cars391.xml  \n",
            "  inflating: car-plate-detection/annotations/Cars392.xml  \n",
            "  inflating: car-plate-detection/annotations/Cars393.xml  \n",
            "  inflating: car-plate-detection/annotations/Cars394.xml  \n",
            "  inflating: car-plate-detection/annotations/Cars395.xml  \n",
            "  inflating: car-plate-detection/annotations/Cars396.xml  \n",
            "  inflating: car-plate-detection/annotations/Cars397.xml  \n",
            "  inflating: car-plate-detection/annotations/Cars398.xml  \n",
            "  inflating: car-plate-detection/annotations/Cars399.xml  \n",
            "  inflating: car-plate-detection/annotations/Cars4.xml  \n",
            "  inflating: car-plate-detection/annotations/Cars40.xml  \n",
            "  inflating: car-plate-detection/annotations/Cars400.xml  \n",
            "  inflating: car-plate-detection/annotations/Cars401.xml  \n",
            "  inflating: car-plate-detection/annotations/Cars402.xml  \n",
            "  inflating: car-plate-detection/annotations/Cars403.xml  \n",
            "  inflating: car-plate-detection/annotations/Cars404.xml  \n",
            "  inflating: car-plate-detection/annotations/Cars405.xml  \n",
            "  inflating: car-plate-detection/annotations/Cars406.xml  \n",
            "  inflating: car-plate-detection/annotations/Cars407.xml  \n",
            "  inflating: car-plate-detection/annotations/Cars408.xml  \n",
            "  inflating: car-plate-detection/annotations/Cars409.xml  \n",
            "  inflating: car-plate-detection/annotations/Cars41.xml  \n",
            "  inflating: car-plate-detection/annotations/Cars410.xml  \n",
            "  inflating: car-plate-detection/annotations/Cars411.xml  \n",
            "  inflating: car-plate-detection/annotations/Cars412.xml  \n",
            "  inflating: car-plate-detection/annotations/Cars413.xml  \n",
            "  inflating: car-plate-detection/annotations/Cars414.xml  \n",
            "  inflating: car-plate-detection/annotations/Cars415.xml  \n",
            "  inflating: car-plate-detection/annotations/Cars416.xml  \n",
            "  inflating: car-plate-detection/annotations/Cars417.xml  \n",
            "  inflating: car-plate-detection/annotations/Cars418.xml  \n",
            "  inflating: car-plate-detection/annotations/Cars419.xml  \n",
            "  inflating: car-plate-detection/annotations/Cars42.xml  \n",
            "  inflating: car-plate-detection/annotations/Cars420.xml  \n",
            "  inflating: car-plate-detection/annotations/Cars421.xml  \n",
            "  inflating: car-plate-detection/annotations/Cars422.xml  \n",
            "  inflating: car-plate-detection/annotations/Cars423.xml  \n",
            "  inflating: car-plate-detection/annotations/Cars424.xml  \n",
            "  inflating: car-plate-detection/annotations/Cars425.xml  \n",
            "  inflating: car-plate-detection/annotations/Cars426.xml  \n",
            "  inflating: car-plate-detection/annotations/Cars427.xml  \n",
            "  inflating: car-plate-detection/annotations/Cars428.xml  \n",
            "  inflating: car-plate-detection/annotations/Cars429.xml  \n",
            "  inflating: car-plate-detection/annotations/Cars43.xml  \n",
            "  inflating: car-plate-detection/annotations/Cars430.xml  \n",
            "  inflating: car-plate-detection/annotations/Cars431.xml  \n",
            "  inflating: car-plate-detection/annotations/Cars432.xml  \n",
            "  inflating: car-plate-detection/annotations/Cars44.xml  \n",
            "  inflating: car-plate-detection/annotations/Cars45.xml  \n",
            "  inflating: car-plate-detection/annotations/Cars46.xml  \n",
            "  inflating: car-plate-detection/annotations/Cars47.xml  \n",
            "  inflating: car-plate-detection/annotations/Cars48.xml  \n",
            "  inflating: car-plate-detection/annotations/Cars49.xml  \n",
            "  inflating: car-plate-detection/annotations/Cars5.xml  \n",
            "  inflating: car-plate-detection/annotations/Cars50.xml  \n",
            "  inflating: car-plate-detection/annotations/Cars51.xml  \n",
            "  inflating: car-plate-detection/annotations/Cars52.xml  \n",
            "  inflating: car-plate-detection/annotations/Cars53.xml  \n",
            "  inflating: car-plate-detection/annotations/Cars54.xml  \n",
            "  inflating: car-plate-detection/annotations/Cars55.xml  \n",
            "  inflating: car-plate-detection/annotations/Cars56.xml  \n",
            "  inflating: car-plate-detection/annotations/Cars57.xml  \n",
            "  inflating: car-plate-detection/annotations/Cars58.xml  \n",
            "  inflating: car-plate-detection/annotations/Cars59.xml  \n",
            "  inflating: car-plate-detection/annotations/Cars6.xml  \n",
            "  inflating: car-plate-detection/annotations/Cars60.xml  \n",
            "  inflating: car-plate-detection/annotations/Cars61.xml  \n",
            "  inflating: car-plate-detection/annotations/Cars62.xml  \n",
            "  inflating: car-plate-detection/annotations/Cars63.xml  \n",
            "  inflating: car-plate-detection/annotations/Cars64.xml  \n",
            "  inflating: car-plate-detection/annotations/Cars65.xml  \n",
            "  inflating: car-plate-detection/annotations/Cars66.xml  \n",
            "  inflating: car-plate-detection/annotations/Cars67.xml  \n",
            "  inflating: car-plate-detection/annotations/Cars68.xml  \n",
            "  inflating: car-plate-detection/annotations/Cars69.xml  \n",
            "  inflating: car-plate-detection/annotations/Cars7.xml  \n",
            "  inflating: car-plate-detection/annotations/Cars70.xml  \n",
            "  inflating: car-plate-detection/annotations/Cars71.xml  \n",
            "  inflating: car-plate-detection/annotations/Cars72.xml  \n",
            "  inflating: car-plate-detection/annotations/Cars73.xml  \n",
            "  inflating: car-plate-detection/annotations/Cars74.xml  \n",
            "  inflating: car-plate-detection/annotations/Cars75.xml  \n",
            "  inflating: car-plate-detection/annotations/Cars76.xml  \n",
            "  inflating: car-plate-detection/annotations/Cars77.xml  \n",
            "  inflating: car-plate-detection/annotations/Cars78.xml  \n",
            "  inflating: car-plate-detection/annotations/Cars79.xml  \n",
            "  inflating: car-plate-detection/annotations/Cars8.xml  \n",
            "  inflating: car-plate-detection/annotations/Cars80.xml  \n",
            "  inflating: car-plate-detection/annotations/Cars81.xml  \n",
            "  inflating: car-plate-detection/annotations/Cars82.xml  \n",
            "  inflating: car-plate-detection/annotations/Cars83.xml  \n",
            "  inflating: car-plate-detection/annotations/Cars84.xml  \n",
            "  inflating: car-plate-detection/annotations/Cars85.xml  \n",
            "  inflating: car-plate-detection/annotations/Cars86.xml  \n",
            "  inflating: car-plate-detection/annotations/Cars87.xml  \n",
            "  inflating: car-plate-detection/annotations/Cars88.xml  \n",
            "  inflating: car-plate-detection/annotations/Cars89.xml  \n",
            "  inflating: car-plate-detection/annotations/Cars9.xml  \n",
            "  inflating: car-plate-detection/annotations/Cars90.xml  \n",
            "  inflating: car-plate-detection/annotations/Cars91.xml  \n",
            "  inflating: car-plate-detection/annotations/Cars92.xml  \n",
            "  inflating: car-plate-detection/annotations/Cars93.xml  \n",
            "  inflating: car-plate-detection/annotations/Cars94.xml  \n",
            "  inflating: car-plate-detection/annotations/Cars95.xml  \n",
            "  inflating: car-plate-detection/annotations/Cars96.xml  \n",
            "  inflating: car-plate-detection/annotations/Cars97.xml  \n",
            "  inflating: car-plate-detection/annotations/Cars98.xml  \n",
            "  inflating: car-plate-detection/annotations/Cars99.xml  \n",
            "  inflating: car-plate-detection/images/Cars0.png  \n",
            "  inflating: car-plate-detection/images/Cars1.png  \n",
            "  inflating: car-plate-detection/images/Cars10.png  \n",
            "  inflating: car-plate-detection/images/Cars100.png  \n",
            "  inflating: car-plate-detection/images/Cars101.png  \n",
            "  inflating: car-plate-detection/images/Cars102.png  \n",
            "  inflating: car-plate-detection/images/Cars103.png  \n",
            "  inflating: car-plate-detection/images/Cars104.png  \n",
            "  inflating: car-plate-detection/images/Cars105.png  \n",
            "  inflating: car-plate-detection/images/Cars106.png  \n",
            "  inflating: car-plate-detection/images/Cars107.png  \n",
            "  inflating: car-plate-detection/images/Cars108.png  \n",
            "  inflating: car-plate-detection/images/Cars109.png  \n",
            "  inflating: car-plate-detection/images/Cars11.png  \n",
            "  inflating: car-plate-detection/images/Cars110.png  \n",
            "  inflating: car-plate-detection/images/Cars111.png  \n",
            "  inflating: car-plate-detection/images/Cars112.png  \n",
            "  inflating: car-plate-detection/images/Cars113.png  \n",
            "  inflating: car-plate-detection/images/Cars114.png  \n",
            "  inflating: car-plate-detection/images/Cars115.png  \n",
            "  inflating: car-plate-detection/images/Cars116.png  \n",
            "  inflating: car-plate-detection/images/Cars117.png  \n",
            "  inflating: car-plate-detection/images/Cars118.png  \n",
            "  inflating: car-plate-detection/images/Cars119.png  \n",
            "  inflating: car-plate-detection/images/Cars12.png  \n",
            "  inflating: car-plate-detection/images/Cars120.png  \n",
            "  inflating: car-plate-detection/images/Cars121.png  \n",
            "  inflating: car-plate-detection/images/Cars122.png  \n",
            "  inflating: car-plate-detection/images/Cars123.png  \n",
            "  inflating: car-plate-detection/images/Cars124.png  \n",
            "  inflating: car-plate-detection/images/Cars125.png  \n",
            "  inflating: car-plate-detection/images/Cars126.png  \n",
            "  inflating: car-plate-detection/images/Cars127.png  \n",
            "  inflating: car-plate-detection/images/Cars128.png  \n",
            "  inflating: car-plate-detection/images/Cars129.png  \n",
            "  inflating: car-plate-detection/images/Cars13.png  \n",
            "  inflating: car-plate-detection/images/Cars130.png  \n",
            "  inflating: car-plate-detection/images/Cars131.png  \n",
            "  inflating: car-plate-detection/images/Cars132.png  \n",
            "  inflating: car-plate-detection/images/Cars133.png  \n",
            "  inflating: car-plate-detection/images/Cars134.png  \n",
            "  inflating: car-plate-detection/images/Cars135.png  \n",
            "  inflating: car-plate-detection/images/Cars136.png  \n",
            "  inflating: car-plate-detection/images/Cars137.png  \n",
            "  inflating: car-plate-detection/images/Cars138.png  \n",
            "  inflating: car-plate-detection/images/Cars139.png  \n",
            "  inflating: car-plate-detection/images/Cars14.png  \n",
            "  inflating: car-plate-detection/images/Cars140.png  \n",
            "  inflating: car-plate-detection/images/Cars141.png  \n",
            "  inflating: car-plate-detection/images/Cars142.png  \n",
            "  inflating: car-plate-detection/images/Cars143.png  \n",
            "  inflating: car-plate-detection/images/Cars144.png  \n",
            "  inflating: car-plate-detection/images/Cars145.png  \n",
            "  inflating: car-plate-detection/images/Cars146.png  \n",
            "  inflating: car-plate-detection/images/Cars147.png  \n",
            "  inflating: car-plate-detection/images/Cars148.png  \n",
            "  inflating: car-plate-detection/images/Cars149.png  \n",
            "  inflating: car-plate-detection/images/Cars15.png  \n",
            "  inflating: car-plate-detection/images/Cars150.png  \n",
            "  inflating: car-plate-detection/images/Cars151.png  \n",
            "  inflating: car-plate-detection/images/Cars152.png  \n",
            "  inflating: car-plate-detection/images/Cars153.png  \n",
            "  inflating: car-plate-detection/images/Cars154.png  \n",
            "  inflating: car-plate-detection/images/Cars155.png  \n",
            "  inflating: car-plate-detection/images/Cars156.png  \n",
            "  inflating: car-plate-detection/images/Cars157.png  \n",
            "  inflating: car-plate-detection/images/Cars158.png  \n",
            "  inflating: car-plate-detection/images/Cars159.png  \n",
            "  inflating: car-plate-detection/images/Cars16.png  \n",
            "  inflating: car-plate-detection/images/Cars160.png  \n",
            "  inflating: car-plate-detection/images/Cars161.png  \n",
            "  inflating: car-plate-detection/images/Cars162.png  \n",
            "  inflating: car-plate-detection/images/Cars163.png  \n",
            "  inflating: car-plate-detection/images/Cars164.png  \n",
            "  inflating: car-plate-detection/images/Cars165.png  \n",
            "  inflating: car-plate-detection/images/Cars166.png  \n",
            "  inflating: car-plate-detection/images/Cars167.png  \n",
            "  inflating: car-plate-detection/images/Cars168.png  \n",
            "  inflating: car-plate-detection/images/Cars169.png  \n",
            "  inflating: car-plate-detection/images/Cars17.png  \n",
            "  inflating: car-plate-detection/images/Cars170.png  \n",
            "  inflating: car-plate-detection/images/Cars171.png  \n",
            "  inflating: car-plate-detection/images/Cars172.png  \n",
            "  inflating: car-plate-detection/images/Cars173.png  \n",
            "  inflating: car-plate-detection/images/Cars174.png  \n",
            "  inflating: car-plate-detection/images/Cars175.png  \n",
            "  inflating: car-plate-detection/images/Cars176.png  \n",
            "  inflating: car-plate-detection/images/Cars177.png  \n",
            "  inflating: car-plate-detection/images/Cars178.png  \n",
            "  inflating: car-plate-detection/images/Cars179.png  \n",
            "  inflating: car-plate-detection/images/Cars18.png  \n",
            "  inflating: car-plate-detection/images/Cars180.png  \n",
            "  inflating: car-plate-detection/images/Cars181.png  \n",
            "  inflating: car-plate-detection/images/Cars182.png  \n",
            "  inflating: car-plate-detection/images/Cars183.png  \n",
            "  inflating: car-plate-detection/images/Cars184.png  \n",
            "  inflating: car-plate-detection/images/Cars185.png  \n",
            "  inflating: car-plate-detection/images/Cars186.png  \n",
            "  inflating: car-plate-detection/images/Cars187.png  \n",
            "  inflating: car-plate-detection/images/Cars188.png  \n",
            "  inflating: car-plate-detection/images/Cars189.png  \n",
            "  inflating: car-plate-detection/images/Cars19.png  \n",
            "  inflating: car-plate-detection/images/Cars190.png  \n",
            "  inflating: car-plate-detection/images/Cars191.png  \n",
            "  inflating: car-plate-detection/images/Cars192.png  \n",
            "  inflating: car-plate-detection/images/Cars193.png  \n",
            "  inflating: car-plate-detection/images/Cars194.png  \n",
            "  inflating: car-plate-detection/images/Cars195.png  \n",
            "  inflating: car-plate-detection/images/Cars196.png  \n",
            "  inflating: car-plate-detection/images/Cars197.png  \n",
            "  inflating: car-plate-detection/images/Cars198.png  \n",
            "  inflating: car-plate-detection/images/Cars199.png  \n",
            "  inflating: car-plate-detection/images/Cars2.png  \n",
            "  inflating: car-plate-detection/images/Cars20.png  \n",
            "  inflating: car-plate-detection/images/Cars200.png  \n",
            "  inflating: car-plate-detection/images/Cars201.png  \n",
            "  inflating: car-plate-detection/images/Cars202.png  \n",
            "  inflating: car-plate-detection/images/Cars203.png  \n",
            "  inflating: car-plate-detection/images/Cars204.png  \n",
            "  inflating: car-plate-detection/images/Cars205.png  \n",
            "  inflating: car-plate-detection/images/Cars206.png  \n",
            "  inflating: car-plate-detection/images/Cars207.png  \n",
            "  inflating: car-plate-detection/images/Cars208.png  \n",
            "  inflating: car-plate-detection/images/Cars209.png  \n",
            "  inflating: car-plate-detection/images/Cars21.png  \n",
            "  inflating: car-plate-detection/images/Cars210.png  \n",
            "  inflating: car-plate-detection/images/Cars211.png  \n",
            "  inflating: car-plate-detection/images/Cars212.png  \n",
            "  inflating: car-plate-detection/images/Cars213.png  \n",
            "  inflating: car-plate-detection/images/Cars214.png  \n",
            "  inflating: car-plate-detection/images/Cars215.png  \n",
            "  inflating: car-plate-detection/images/Cars216.png  \n",
            "  inflating: car-plate-detection/images/Cars217.png  \n",
            "  inflating: car-plate-detection/images/Cars218.png  \n",
            "  inflating: car-plate-detection/images/Cars219.png  \n",
            "  inflating: car-plate-detection/images/Cars22.png  \n",
            "  inflating: car-plate-detection/images/Cars220.png  \n",
            "  inflating: car-plate-detection/images/Cars221.png  \n",
            "  inflating: car-plate-detection/images/Cars222.png  \n",
            "  inflating: car-plate-detection/images/Cars223.png  \n",
            "  inflating: car-plate-detection/images/Cars224.png  \n",
            "  inflating: car-plate-detection/images/Cars225.png  \n",
            "  inflating: car-plate-detection/images/Cars226.png  \n",
            "  inflating: car-plate-detection/images/Cars227.png  \n",
            "  inflating: car-plate-detection/images/Cars228.png  \n",
            "  inflating: car-plate-detection/images/Cars229.png  \n",
            "  inflating: car-plate-detection/images/Cars23.png  \n",
            "  inflating: car-plate-detection/images/Cars230.png  \n",
            "  inflating: car-plate-detection/images/Cars231.png  \n",
            "  inflating: car-plate-detection/images/Cars232.png  \n",
            "  inflating: car-plate-detection/images/Cars233.png  \n",
            "  inflating: car-plate-detection/images/Cars234.png  \n",
            "  inflating: car-plate-detection/images/Cars235.png  \n",
            "  inflating: car-plate-detection/images/Cars236.png  \n",
            "  inflating: car-plate-detection/images/Cars237.png  \n",
            "  inflating: car-plate-detection/images/Cars238.png  \n",
            "  inflating: car-plate-detection/images/Cars239.png  \n",
            "  inflating: car-plate-detection/images/Cars24.png  \n",
            "  inflating: car-plate-detection/images/Cars240.png  \n",
            "  inflating: car-plate-detection/images/Cars241.png  \n",
            "  inflating: car-plate-detection/images/Cars242.png  \n",
            "  inflating: car-plate-detection/images/Cars243.png  \n",
            "  inflating: car-plate-detection/images/Cars244.png  \n",
            "  inflating: car-plate-detection/images/Cars245.png  \n",
            "  inflating: car-plate-detection/images/Cars246.png  \n",
            "  inflating: car-plate-detection/images/Cars247.png  \n",
            "  inflating: car-plate-detection/images/Cars248.png  \n",
            "  inflating: car-plate-detection/images/Cars249.png  \n",
            "  inflating: car-plate-detection/images/Cars25.png  \n",
            "  inflating: car-plate-detection/images/Cars250.png  \n",
            "  inflating: car-plate-detection/images/Cars251.png  \n",
            "  inflating: car-plate-detection/images/Cars252.png  \n",
            "  inflating: car-plate-detection/images/Cars253.png  \n",
            "  inflating: car-plate-detection/images/Cars254.png  \n",
            "  inflating: car-plate-detection/images/Cars255.png  \n",
            "  inflating: car-plate-detection/images/Cars256.png  \n",
            "  inflating: car-plate-detection/images/Cars257.png  \n",
            "  inflating: car-plate-detection/images/Cars258.png  \n",
            "  inflating: car-plate-detection/images/Cars259.png  \n",
            "  inflating: car-plate-detection/images/Cars26.png  \n",
            "  inflating: car-plate-detection/images/Cars260.png  \n",
            "  inflating: car-plate-detection/images/Cars261.png  \n",
            "  inflating: car-plate-detection/images/Cars262.png  \n",
            "  inflating: car-plate-detection/images/Cars263.png  \n",
            "  inflating: car-plate-detection/images/Cars264.png  \n",
            "  inflating: car-plate-detection/images/Cars265.png  \n",
            "  inflating: car-plate-detection/images/Cars266.png  \n",
            "  inflating: car-plate-detection/images/Cars267.png  \n",
            "  inflating: car-plate-detection/images/Cars268.png  \n",
            "  inflating: car-plate-detection/images/Cars269.png  \n",
            "  inflating: car-plate-detection/images/Cars27.png  \n",
            "  inflating: car-plate-detection/images/Cars270.png  \n",
            "  inflating: car-plate-detection/images/Cars271.png  \n",
            "  inflating: car-plate-detection/images/Cars272.png  \n",
            "  inflating: car-plate-detection/images/Cars273.png  \n",
            "  inflating: car-plate-detection/images/Cars274.png  \n",
            "  inflating: car-plate-detection/images/Cars275.png  \n",
            "  inflating: car-plate-detection/images/Cars276.png  \n",
            "  inflating: car-plate-detection/images/Cars277.png  \n",
            "  inflating: car-plate-detection/images/Cars278.png  \n",
            "  inflating: car-plate-detection/images/Cars279.png  \n",
            "  inflating: car-plate-detection/images/Cars28.png  \n",
            "  inflating: car-plate-detection/images/Cars280.png  \n",
            "  inflating: car-plate-detection/images/Cars281.png  \n",
            "  inflating: car-plate-detection/images/Cars282.png  \n",
            "  inflating: car-plate-detection/images/Cars283.png  \n",
            "  inflating: car-plate-detection/images/Cars284.png  \n",
            "  inflating: car-plate-detection/images/Cars285.png  \n",
            "  inflating: car-plate-detection/images/Cars286.png  \n",
            "  inflating: car-plate-detection/images/Cars287.png  \n",
            "  inflating: car-plate-detection/images/Cars288.png  \n",
            "  inflating: car-plate-detection/images/Cars289.png  \n",
            "  inflating: car-plate-detection/images/Cars29.png  \n",
            "  inflating: car-plate-detection/images/Cars290.png  \n",
            "  inflating: car-plate-detection/images/Cars291.png  \n",
            "  inflating: car-plate-detection/images/Cars292.png  \n",
            "  inflating: car-plate-detection/images/Cars293.png  \n",
            "  inflating: car-plate-detection/images/Cars294.png  \n",
            "  inflating: car-plate-detection/images/Cars295.png  \n",
            "  inflating: car-plate-detection/images/Cars296.png  \n",
            "  inflating: car-plate-detection/images/Cars297.png  \n",
            "  inflating: car-plate-detection/images/Cars298.png  \n",
            "  inflating: car-plate-detection/images/Cars299.png  \n",
            "  inflating: car-plate-detection/images/Cars3.png  \n",
            "  inflating: car-plate-detection/images/Cars30.png  \n",
            "  inflating: car-plate-detection/images/Cars300.png  \n",
            "  inflating: car-plate-detection/images/Cars301.png  \n",
            "  inflating: car-plate-detection/images/Cars302.png  \n",
            "  inflating: car-plate-detection/images/Cars303.png  \n",
            "  inflating: car-plate-detection/images/Cars304.png  \n",
            "  inflating: car-plate-detection/images/Cars305.png  \n",
            "  inflating: car-plate-detection/images/Cars306.png  \n",
            "  inflating: car-plate-detection/images/Cars307.png  \n",
            "  inflating: car-plate-detection/images/Cars308.png  \n",
            "  inflating: car-plate-detection/images/Cars309.png  \n",
            "  inflating: car-plate-detection/images/Cars31.png  \n",
            "  inflating: car-plate-detection/images/Cars310.png  \n",
            "  inflating: car-plate-detection/images/Cars311.png  \n",
            "  inflating: car-plate-detection/images/Cars312.png  \n",
            "  inflating: car-plate-detection/images/Cars313.png  \n",
            "  inflating: car-plate-detection/images/Cars314.png  \n",
            "  inflating: car-plate-detection/images/Cars315.png  \n",
            "  inflating: car-plate-detection/images/Cars316.png  \n",
            "  inflating: car-plate-detection/images/Cars317.png  \n",
            "  inflating: car-plate-detection/images/Cars318.png  \n",
            "  inflating: car-plate-detection/images/Cars319.png  \n",
            "  inflating: car-plate-detection/images/Cars32.png  \n",
            "  inflating: car-plate-detection/images/Cars320.png  \n",
            "  inflating: car-plate-detection/images/Cars321.png  \n",
            "  inflating: car-plate-detection/images/Cars322.png  \n",
            "  inflating: car-plate-detection/images/Cars323.png  \n",
            "  inflating: car-plate-detection/images/Cars324.png  \n",
            "  inflating: car-plate-detection/images/Cars325.png  \n",
            "  inflating: car-plate-detection/images/Cars326.png  \n",
            "  inflating: car-plate-detection/images/Cars327.png  \n",
            "  inflating: car-plate-detection/images/Cars328.png  \n",
            "  inflating: car-plate-detection/images/Cars329.png  \n",
            "  inflating: car-plate-detection/images/Cars33.png  \n",
            "  inflating: car-plate-detection/images/Cars330.png  \n",
            "  inflating: car-plate-detection/images/Cars331.png  \n",
            "  inflating: car-plate-detection/images/Cars332.png  \n",
            "  inflating: car-plate-detection/images/Cars333.png  \n",
            "  inflating: car-plate-detection/images/Cars334.png  \n",
            "  inflating: car-plate-detection/images/Cars335.png  \n",
            "  inflating: car-plate-detection/images/Cars336.png  \n",
            "  inflating: car-plate-detection/images/Cars337.png  \n",
            "  inflating: car-plate-detection/images/Cars338.png  \n",
            "  inflating: car-plate-detection/images/Cars339.png  \n",
            "  inflating: car-plate-detection/images/Cars34.png  \n",
            "  inflating: car-plate-detection/images/Cars340.png  \n",
            "  inflating: car-plate-detection/images/Cars341.png  \n",
            "  inflating: car-plate-detection/images/Cars342.png  \n",
            "  inflating: car-plate-detection/images/Cars343.png  \n",
            "  inflating: car-plate-detection/images/Cars344.png  \n",
            "  inflating: car-plate-detection/images/Cars345.png  \n",
            "  inflating: car-plate-detection/images/Cars346.png  \n",
            "  inflating: car-plate-detection/images/Cars347.png  \n",
            "  inflating: car-plate-detection/images/Cars348.png  \n",
            "  inflating: car-plate-detection/images/Cars349.png  \n",
            "  inflating: car-plate-detection/images/Cars35.png  \n",
            "  inflating: car-plate-detection/images/Cars350.png  \n",
            "  inflating: car-plate-detection/images/Cars351.png  \n",
            "  inflating: car-plate-detection/images/Cars352.png  \n",
            "  inflating: car-plate-detection/images/Cars353.png  \n",
            "  inflating: car-plate-detection/images/Cars354.png  \n",
            "  inflating: car-plate-detection/images/Cars355.png  \n",
            "  inflating: car-plate-detection/images/Cars356.png  \n",
            "  inflating: car-plate-detection/images/Cars357.png  \n",
            "  inflating: car-plate-detection/images/Cars358.png  \n",
            "  inflating: car-plate-detection/images/Cars359.png  \n",
            "  inflating: car-plate-detection/images/Cars36.png  \n",
            "  inflating: car-plate-detection/images/Cars360.png  \n",
            "  inflating: car-plate-detection/images/Cars361.png  \n",
            "  inflating: car-plate-detection/images/Cars362.png  \n",
            "  inflating: car-plate-detection/images/Cars363.png  \n",
            "  inflating: car-plate-detection/images/Cars364.png  \n",
            "  inflating: car-plate-detection/images/Cars365.png  \n",
            "  inflating: car-plate-detection/images/Cars366.png  \n",
            "  inflating: car-plate-detection/images/Cars367.png  \n",
            "  inflating: car-plate-detection/images/Cars368.png  \n",
            "  inflating: car-plate-detection/images/Cars369.png  \n",
            "  inflating: car-plate-detection/images/Cars37.png  \n",
            "  inflating: car-plate-detection/images/Cars370.png  \n",
            "  inflating: car-plate-detection/images/Cars371.png  \n",
            "  inflating: car-plate-detection/images/Cars372.png  \n",
            "  inflating: car-plate-detection/images/Cars373.png  \n",
            "  inflating: car-plate-detection/images/Cars374.png  \n",
            "  inflating: car-plate-detection/images/Cars375.png  \n",
            "  inflating: car-plate-detection/images/Cars376.png  \n",
            "  inflating: car-plate-detection/images/Cars377.png  \n",
            "  inflating: car-plate-detection/images/Cars378.png  \n",
            "  inflating: car-plate-detection/images/Cars379.png  \n",
            "  inflating: car-plate-detection/images/Cars38.png  \n",
            "  inflating: car-plate-detection/images/Cars380.png  \n",
            "  inflating: car-plate-detection/images/Cars381.png  \n",
            "  inflating: car-plate-detection/images/Cars382.png  \n",
            "  inflating: car-plate-detection/images/Cars383.png  \n",
            "  inflating: car-plate-detection/images/Cars384.png  \n",
            "  inflating: car-plate-detection/images/Cars385.png  \n",
            "  inflating: car-plate-detection/images/Cars386.png  \n",
            "  inflating: car-plate-detection/images/Cars387.png  \n",
            "  inflating: car-plate-detection/images/Cars388.png  \n",
            "  inflating: car-plate-detection/images/Cars389.png  \n",
            "  inflating: car-plate-detection/images/Cars39.png  \n",
            "  inflating: car-plate-detection/images/Cars390.png  \n",
            "  inflating: car-plate-detection/images/Cars391.png  \n",
            "  inflating: car-plate-detection/images/Cars392.png  \n",
            "  inflating: car-plate-detection/images/Cars393.png  \n",
            "  inflating: car-plate-detection/images/Cars394.png  \n",
            "  inflating: car-plate-detection/images/Cars395.png  \n",
            "  inflating: car-plate-detection/images/Cars396.png  \n",
            "  inflating: car-plate-detection/images/Cars397.png  \n",
            "  inflating: car-plate-detection/images/Cars398.png  \n",
            "  inflating: car-plate-detection/images/Cars399.png  \n",
            "  inflating: car-plate-detection/images/Cars4.png  \n",
            "  inflating: car-plate-detection/images/Cars40.png  \n",
            "  inflating: car-plate-detection/images/Cars400.png  \n",
            "  inflating: car-plate-detection/images/Cars401.png  \n",
            "  inflating: car-plate-detection/images/Cars402.png  \n",
            "  inflating: car-plate-detection/images/Cars403.png  \n",
            "  inflating: car-plate-detection/images/Cars404.png  \n",
            "  inflating: car-plate-detection/images/Cars405.png  \n",
            "  inflating: car-plate-detection/images/Cars406.png  \n",
            "  inflating: car-plate-detection/images/Cars407.png  \n",
            "  inflating: car-plate-detection/images/Cars408.png  \n",
            "  inflating: car-plate-detection/images/Cars409.png  \n",
            "  inflating: car-plate-detection/images/Cars41.png  \n",
            "  inflating: car-plate-detection/images/Cars410.png  \n",
            "  inflating: car-plate-detection/images/Cars411.png  \n",
            "  inflating: car-plate-detection/images/Cars412.png  \n",
            "  inflating: car-plate-detection/images/Cars413.png  \n",
            "  inflating: car-plate-detection/images/Cars414.png  \n",
            "  inflating: car-plate-detection/images/Cars415.png  \n",
            "  inflating: car-plate-detection/images/Cars416.png  \n",
            "  inflating: car-plate-detection/images/Cars417.png  \n",
            "  inflating: car-plate-detection/images/Cars418.png  \n",
            "  inflating: car-plate-detection/images/Cars419.png  \n",
            "  inflating: car-plate-detection/images/Cars42.png  \n",
            "  inflating: car-plate-detection/images/Cars420.png  \n",
            "  inflating: car-plate-detection/images/Cars421.png  \n",
            "  inflating: car-plate-detection/images/Cars422.png  \n",
            "  inflating: car-plate-detection/images/Cars423.png  \n",
            "  inflating: car-plate-detection/images/Cars424.png  \n",
            "  inflating: car-plate-detection/images/Cars425.png  \n",
            "  inflating: car-plate-detection/images/Cars426.png  \n",
            "  inflating: car-plate-detection/images/Cars427.png  \n",
            "  inflating: car-plate-detection/images/Cars428.png  \n",
            "  inflating: car-plate-detection/images/Cars429.png  \n",
            "  inflating: car-plate-detection/images/Cars43.png  \n",
            "  inflating: car-plate-detection/images/Cars430.png  \n",
            "  inflating: car-plate-detection/images/Cars431.png  \n",
            "  inflating: car-plate-detection/images/Cars432.png  \n",
            "  inflating: car-plate-detection/images/Cars44.png  \n",
            "  inflating: car-plate-detection/images/Cars45.png  \n",
            "  inflating: car-plate-detection/images/Cars46.png  \n",
            "  inflating: car-plate-detection/images/Cars47.png  \n",
            "  inflating: car-plate-detection/images/Cars48.png  \n",
            "  inflating: car-plate-detection/images/Cars49.png  \n",
            "  inflating: car-plate-detection/images/Cars5.png  \n",
            "  inflating: car-plate-detection/images/Cars50.png  \n",
            "  inflating: car-plate-detection/images/Cars51.png  \n",
            "  inflating: car-plate-detection/images/Cars52.png  \n",
            "  inflating: car-plate-detection/images/Cars53.png  \n",
            "  inflating: car-plate-detection/images/Cars54.png  \n",
            "  inflating: car-plate-detection/images/Cars55.png  \n",
            "  inflating: car-plate-detection/images/Cars56.png  \n",
            "  inflating: car-plate-detection/images/Cars57.png  \n",
            "  inflating: car-plate-detection/images/Cars58.png  \n",
            "  inflating: car-plate-detection/images/Cars59.png  \n",
            "  inflating: car-plate-detection/images/Cars6.png  \n",
            "  inflating: car-plate-detection/images/Cars60.png  \n",
            "  inflating: car-plate-detection/images/Cars61.png  \n",
            "  inflating: car-plate-detection/images/Cars62.png  \n",
            "  inflating: car-plate-detection/images/Cars63.png  \n",
            "  inflating: car-plate-detection/images/Cars64.png  \n",
            "  inflating: car-plate-detection/images/Cars65.png  \n",
            "  inflating: car-plate-detection/images/Cars66.png  \n",
            "  inflating: car-plate-detection/images/Cars67.png  \n",
            "  inflating: car-plate-detection/images/Cars68.png  \n",
            "  inflating: car-plate-detection/images/Cars69.png  \n",
            "  inflating: car-plate-detection/images/Cars7.png  \n",
            "  inflating: car-plate-detection/images/Cars70.png  \n",
            "  inflating: car-plate-detection/images/Cars71.png  \n",
            "  inflating: car-plate-detection/images/Cars72.png  \n",
            "  inflating: car-plate-detection/images/Cars73.png  \n",
            "  inflating: car-plate-detection/images/Cars74.png  \n",
            "  inflating: car-plate-detection/images/Cars75.png  \n",
            "  inflating: car-plate-detection/images/Cars76.png  \n",
            "  inflating: car-plate-detection/images/Cars77.png  \n",
            "  inflating: car-plate-detection/images/Cars78.png  \n",
            "  inflating: car-plate-detection/images/Cars79.png  \n",
            "  inflating: car-plate-detection/images/Cars8.png  \n",
            "  inflating: car-plate-detection/images/Cars80.png  \n",
            "  inflating: car-plate-detection/images/Cars81.png  \n",
            "  inflating: car-plate-detection/images/Cars82.png  \n",
            "  inflating: car-plate-detection/images/Cars83.png  \n",
            "  inflating: car-plate-detection/images/Cars84.png  \n",
            "  inflating: car-plate-detection/images/Cars85.png  \n",
            "  inflating: car-plate-detection/images/Cars86.png  \n",
            "  inflating: car-plate-detection/images/Cars87.png  \n",
            "  inflating: car-plate-detection/images/Cars88.png  \n",
            "  inflating: car-plate-detection/images/Cars89.png  \n",
            "  inflating: car-plate-detection/images/Cars9.png  \n",
            "  inflating: car-plate-detection/images/Cars90.png  \n",
            "  inflating: car-plate-detection/images/Cars91.png  \n",
            "  inflating: car-plate-detection/images/Cars92.png  \n",
            "  inflating: car-plate-detection/images/Cars93.png  \n",
            "  inflating: car-plate-detection/images/Cars94.png  \n",
            "  inflating: car-plate-detection/images/Cars95.png  \n",
            "  inflating: car-plate-detection/images/Cars96.png  \n",
            "  inflating: car-plate-detection/images/Cars97.png  \n",
            "  inflating: car-plate-detection/images/Cars98.png  \n",
            "  inflating: car-plate-detection/images/Cars99.png  \n"
          ]
        }
      ]
    },
    {
      "cell_type": "code",
      "source": [
        "dataset_path='/content/car-plate-detection'"
      ],
      "metadata": {
        "id": "PQ_Vj7MkyeiJ"
      },
      "execution_count": 17,
      "outputs": []
    },
    {
      "cell_type": "code",
      "source": [
        "xml_files = glob(f'{dataset_path}/annotations/*.xml')"
      ],
      "metadata": {
        "id": "yG8IGzR6yK5J"
      },
      "execution_count": 18,
      "outputs": []
    },
    {
      "cell_type": "code",
      "source": [
        "import os\n",
        "import cv2\n",
        "import pandas as pd\n",
        "import xml.etree.ElementTree as xet\n",
        "from glob import glob\n",
        "\n",
        "# Initialize a dictionary to store labels and image information\n",
        "labels_dict = dict(\n",
        "    img_path=[],\n",
        "    xmin=[],\n",
        "    xmax=[],\n",
        "    ymin=[],\n",
        "    ymax=[],\n",
        "    img_w=[],\n",
        "    img_h=[]\n",
        ")\n",
        "\n",
        "# Get the list of XML files from the annotations directory\n",
        "xml_files = glob(f'{dataset_path}/annotations/*.xml')\n",
        "\n",
        "# Process each XML file, sorted by the numerical value in the filename\n",
        "for filename in sorted(xml_files, key=the_number_in_the_string):\n",
        "    # Parse the XML file\n",
        "    info = xet.parse(filename)\n",
        "    root = info.getroot()\n",
        "\n",
        "    # Find the 'object' element in the XML and extract bounding box information\n",
        "    member_object = root.find('object')\n",
        "    labels_info = member_object.find('bndbox')\n",
        "    xmin = int(labels_info.find('xmin').text)\n",
        "    xmax = int(labels_info.find('xmax').text)\n",
        "    ymin = int(labels_info.find('ymin').text)\n",
        "    ymax = int(labels_info.find('ymax').text)\n",
        "\n",
        "    # Get the image filename and construct the full path to the image\n",
        "    img_name = root.find('filename').text\n",
        "    img_path = os.path.join(dataset_path, 'images', img_name)\n",
        "\n",
        "    # Append the extracted information to the respective lists in the dictionary\n",
        "    labels_dict['img_path'].append(img_path)\n",
        "    labels_dict['xmin'].append(xmin)\n",
        "    labels_dict['xmax'].append(xmax)\n",
        "    labels_dict['ymin'].append(ymin)\n",
        "    labels_dict['ymax'].append(ymax)\n",
        "\n",
        "    # Read the image to get its dimensions\n",
        "    height, width, _ = cv2.imread(img_path).shape\n",
        "    labels_dict['img_w'].append(width)\n",
        "    labels_dict['img_h'].append(height)\n",
        "\n",
        "# Convert the dictionary to a pandas DataFrame\n",
        "alldata = pd.DataFrame(labels_dict)\n",
        "\n",
        "# Display the DataFrame\n",
        "alldata"
      ],
      "metadata": {
        "colab": {
          "base_uri": "https://localhost:8080/",
          "height": 424
        },
        "id": "g8HhawNzylIK",
        "outputId": "c9a7cbed-4a2d-4c0e-dd68-cced0bab967a"
      },
      "execution_count": 19,
      "outputs": [
        {
          "output_type": "execute_result",
          "data": {
            "text/plain": [
              "                                            img_path  xmin  xmax  ymin  ymax  \\\n",
              "0      /content/car-plate-detection/images/Cars0.png   226   419   125   173   \n",
              "1      /content/car-plate-detection/images/Cars1.png   134   262   128   160   \n",
              "2      /content/car-plate-detection/images/Cars2.png   229   270   176   193   \n",
              "3      /content/car-plate-detection/images/Cars3.png   142   261   128   157   \n",
              "4      /content/car-plate-detection/images/Cars4.png   156   503    82   253   \n",
              "..                                               ...   ...   ...   ...   ...   \n",
              "428  /content/car-plate-detection/images/Cars428.png   142   258   128   157   \n",
              "429  /content/car-plate-detection/images/Cars429.png    86   208   166   195   \n",
              "430  /content/car-plate-detection/images/Cars430.png    38   116   159   197   \n",
              "431  /content/car-plate-detection/images/Cars431.png    55   343    82   147   \n",
              "432  /content/car-plate-detection/images/Cars432.png    95   196   258   284   \n",
              "\n",
              "     img_w  img_h  \n",
              "0      500    268  \n",
              "1      400    248  \n",
              "2      400    400  \n",
              "3      400    225  \n",
              "4      590    350  \n",
              "..     ...    ...  \n",
              "428    400    225  \n",
              "429    301    400  \n",
              "430    400    225  \n",
              "431    400    192  \n",
              "432    467    300  \n",
              "\n",
              "[433 rows x 7 columns]"
            ],
            "text/html": [
              "\n",
              "  <div id=\"df-81b741bc-087b-4700-a360-9bbed8a05201\" class=\"colab-df-container\">\n",
              "    <div>\n",
              "<style scoped>\n",
              "    .dataframe tbody tr th:only-of-type {\n",
              "        vertical-align: middle;\n",
              "    }\n",
              "\n",
              "    .dataframe tbody tr th {\n",
              "        vertical-align: top;\n",
              "    }\n",
              "\n",
              "    .dataframe thead th {\n",
              "        text-align: right;\n",
              "    }\n",
              "</style>\n",
              "<table border=\"1\" class=\"dataframe\">\n",
              "  <thead>\n",
              "    <tr style=\"text-align: right;\">\n",
              "      <th></th>\n",
              "      <th>img_path</th>\n",
              "      <th>xmin</th>\n",
              "      <th>xmax</th>\n",
              "      <th>ymin</th>\n",
              "      <th>ymax</th>\n",
              "      <th>img_w</th>\n",
              "      <th>img_h</th>\n",
              "    </tr>\n",
              "  </thead>\n",
              "  <tbody>\n",
              "    <tr>\n",
              "      <th>0</th>\n",
              "      <td>/content/car-plate-detection/images/Cars0.png</td>\n",
              "      <td>226</td>\n",
              "      <td>419</td>\n",
              "      <td>125</td>\n",
              "      <td>173</td>\n",
              "      <td>500</td>\n",
              "      <td>268</td>\n",
              "    </tr>\n",
              "    <tr>\n",
              "      <th>1</th>\n",
              "      <td>/content/car-plate-detection/images/Cars1.png</td>\n",
              "      <td>134</td>\n",
              "      <td>262</td>\n",
              "      <td>128</td>\n",
              "      <td>160</td>\n",
              "      <td>400</td>\n",
              "      <td>248</td>\n",
              "    </tr>\n",
              "    <tr>\n",
              "      <th>2</th>\n",
              "      <td>/content/car-plate-detection/images/Cars2.png</td>\n",
              "      <td>229</td>\n",
              "      <td>270</td>\n",
              "      <td>176</td>\n",
              "      <td>193</td>\n",
              "      <td>400</td>\n",
              "      <td>400</td>\n",
              "    </tr>\n",
              "    <tr>\n",
              "      <th>3</th>\n",
              "      <td>/content/car-plate-detection/images/Cars3.png</td>\n",
              "      <td>142</td>\n",
              "      <td>261</td>\n",
              "      <td>128</td>\n",
              "      <td>157</td>\n",
              "      <td>400</td>\n",
              "      <td>225</td>\n",
              "    </tr>\n",
              "    <tr>\n",
              "      <th>4</th>\n",
              "      <td>/content/car-plate-detection/images/Cars4.png</td>\n",
              "      <td>156</td>\n",
              "      <td>503</td>\n",
              "      <td>82</td>\n",
              "      <td>253</td>\n",
              "      <td>590</td>\n",
              "      <td>350</td>\n",
              "    </tr>\n",
              "    <tr>\n",
              "      <th>...</th>\n",
              "      <td>...</td>\n",
              "      <td>...</td>\n",
              "      <td>...</td>\n",
              "      <td>...</td>\n",
              "      <td>...</td>\n",
              "      <td>...</td>\n",
              "      <td>...</td>\n",
              "    </tr>\n",
              "    <tr>\n",
              "      <th>428</th>\n",
              "      <td>/content/car-plate-detection/images/Cars428.png</td>\n",
              "      <td>142</td>\n",
              "      <td>258</td>\n",
              "      <td>128</td>\n",
              "      <td>157</td>\n",
              "      <td>400</td>\n",
              "      <td>225</td>\n",
              "    </tr>\n",
              "    <tr>\n",
              "      <th>429</th>\n",
              "      <td>/content/car-plate-detection/images/Cars429.png</td>\n",
              "      <td>86</td>\n",
              "      <td>208</td>\n",
              "      <td>166</td>\n",
              "      <td>195</td>\n",
              "      <td>301</td>\n",
              "      <td>400</td>\n",
              "    </tr>\n",
              "    <tr>\n",
              "      <th>430</th>\n",
              "      <td>/content/car-plate-detection/images/Cars430.png</td>\n",
              "      <td>38</td>\n",
              "      <td>116</td>\n",
              "      <td>159</td>\n",
              "      <td>197</td>\n",
              "      <td>400</td>\n",
              "      <td>225</td>\n",
              "    </tr>\n",
              "    <tr>\n",
              "      <th>431</th>\n",
              "      <td>/content/car-plate-detection/images/Cars431.png</td>\n",
              "      <td>55</td>\n",
              "      <td>343</td>\n",
              "      <td>82</td>\n",
              "      <td>147</td>\n",
              "      <td>400</td>\n",
              "      <td>192</td>\n",
              "    </tr>\n",
              "    <tr>\n",
              "      <th>432</th>\n",
              "      <td>/content/car-plate-detection/images/Cars432.png</td>\n",
              "      <td>95</td>\n",
              "      <td>196</td>\n",
              "      <td>258</td>\n",
              "      <td>284</td>\n",
              "      <td>467</td>\n",
              "      <td>300</td>\n",
              "    </tr>\n",
              "  </tbody>\n",
              "</table>\n",
              "<p>433 rows × 7 columns</p>\n",
              "</div>\n",
              "    <div class=\"colab-df-buttons\">\n",
              "\n",
              "  <div class=\"colab-df-container\">\n",
              "    <button class=\"colab-df-convert\" onclick=\"convertToInteractive('df-81b741bc-087b-4700-a360-9bbed8a05201')\"\n",
              "            title=\"Convert this dataframe to an interactive table.\"\n",
              "            style=\"display:none;\">\n",
              "\n",
              "  <svg xmlns=\"http://www.w3.org/2000/svg\" height=\"24px\" viewBox=\"0 -960 960 960\">\n",
              "    <path d=\"M120-120v-720h720v720H120Zm60-500h600v-160H180v160Zm220 220h160v-160H400v160Zm0 220h160v-160H400v160ZM180-400h160v-160H180v160Zm440 0h160v-160H620v160ZM180-180h160v-160H180v160Zm440 0h160v-160H620v160Z\"/>\n",
              "  </svg>\n",
              "    </button>\n",
              "\n",
              "  <style>\n",
              "    .colab-df-container {\n",
              "      display:flex;\n",
              "      gap: 12px;\n",
              "    }\n",
              "\n",
              "    .colab-df-convert {\n",
              "      background-color: #E8F0FE;\n",
              "      border: none;\n",
              "      border-radius: 50%;\n",
              "      cursor: pointer;\n",
              "      display: none;\n",
              "      fill: #1967D2;\n",
              "      height: 32px;\n",
              "      padding: 0 0 0 0;\n",
              "      width: 32px;\n",
              "    }\n",
              "\n",
              "    .colab-df-convert:hover {\n",
              "      background-color: #E2EBFA;\n",
              "      box-shadow: 0px 1px 2px rgba(60, 64, 67, 0.3), 0px 1px 3px 1px rgba(60, 64, 67, 0.15);\n",
              "      fill: #174EA6;\n",
              "    }\n",
              "\n",
              "    .colab-df-buttons div {\n",
              "      margin-bottom: 4px;\n",
              "    }\n",
              "\n",
              "    [theme=dark] .colab-df-convert {\n",
              "      background-color: #3B4455;\n",
              "      fill: #D2E3FC;\n",
              "    }\n",
              "\n",
              "    [theme=dark] .colab-df-convert:hover {\n",
              "      background-color: #434B5C;\n",
              "      box-shadow: 0px 1px 3px 1px rgba(0, 0, 0, 0.15);\n",
              "      filter: drop-shadow(0px 1px 2px rgba(0, 0, 0, 0.3));\n",
              "      fill: #FFFFFF;\n",
              "    }\n",
              "  </style>\n",
              "\n",
              "    <script>\n",
              "      const buttonEl =\n",
              "        document.querySelector('#df-81b741bc-087b-4700-a360-9bbed8a05201 button.colab-df-convert');\n",
              "      buttonEl.style.display =\n",
              "        google.colab.kernel.accessAllowed ? 'block' : 'none';\n",
              "\n",
              "      async function convertToInteractive(key) {\n",
              "        const element = document.querySelector('#df-81b741bc-087b-4700-a360-9bbed8a05201');\n",
              "        const dataTable =\n",
              "          await google.colab.kernel.invokeFunction('convertToInteractive',\n",
              "                                                    [key], {});\n",
              "        if (!dataTable) return;\n",
              "\n",
              "        const docLinkHtml = 'Like what you see? Visit the ' +\n",
              "          '<a target=\"_blank\" href=https://colab.research.google.com/notebooks/data_table.ipynb>data table notebook</a>'\n",
              "          + ' to learn more about interactive tables.';\n",
              "        element.innerHTML = '';\n",
              "        dataTable['output_type'] = 'display_data';\n",
              "        await google.colab.output.renderOutput(dataTable, element);\n",
              "        const docLink = document.createElement('div');\n",
              "        docLink.innerHTML = docLinkHtml;\n",
              "        element.appendChild(docLink);\n",
              "      }\n",
              "    </script>\n",
              "  </div>\n",
              "\n",
              "\n",
              "    <div id=\"df-9e5ec423-446c-4dd0-939a-305caeaaaf36\">\n",
              "      <button class=\"colab-df-quickchart\" onclick=\"quickchart('df-9e5ec423-446c-4dd0-939a-305caeaaaf36')\"\n",
              "                title=\"Suggest charts\"\n",
              "                style=\"display:none;\">\n",
              "\n",
              "<svg xmlns=\"http://www.w3.org/2000/svg\" height=\"24px\"viewBox=\"0 0 24 24\"\n",
              "     width=\"24px\">\n",
              "    <g>\n",
              "        <path d=\"M19 3H5c-1.1 0-2 .9-2 2v14c0 1.1.9 2 2 2h14c1.1 0 2-.9 2-2V5c0-1.1-.9-2-2-2zM9 17H7v-7h2v7zm4 0h-2V7h2v10zm4 0h-2v-4h2v4z\"/>\n",
              "    </g>\n",
              "</svg>\n",
              "      </button>\n",
              "\n",
              "<style>\n",
              "  .colab-df-quickchart {\n",
              "      --bg-color: #E8F0FE;\n",
              "      --fill-color: #1967D2;\n",
              "      --hover-bg-color: #E2EBFA;\n",
              "      --hover-fill-color: #174EA6;\n",
              "      --disabled-fill-color: #AAA;\n",
              "      --disabled-bg-color: #DDD;\n",
              "  }\n",
              "\n",
              "  [theme=dark] .colab-df-quickchart {\n",
              "      --bg-color: #3B4455;\n",
              "      --fill-color: #D2E3FC;\n",
              "      --hover-bg-color: #434B5C;\n",
              "      --hover-fill-color: #FFFFFF;\n",
              "      --disabled-bg-color: #3B4455;\n",
              "      --disabled-fill-color: #666;\n",
              "  }\n",
              "\n",
              "  .colab-df-quickchart {\n",
              "    background-color: var(--bg-color);\n",
              "    border: none;\n",
              "    border-radius: 50%;\n",
              "    cursor: pointer;\n",
              "    display: none;\n",
              "    fill: var(--fill-color);\n",
              "    height: 32px;\n",
              "    padding: 0;\n",
              "    width: 32px;\n",
              "  }\n",
              "\n",
              "  .colab-df-quickchart:hover {\n",
              "    background-color: var(--hover-bg-color);\n",
              "    box-shadow: 0 1px 2px rgba(60, 64, 67, 0.3), 0 1px 3px 1px rgba(60, 64, 67, 0.15);\n",
              "    fill: var(--button-hover-fill-color);\n",
              "  }\n",
              "\n",
              "  .colab-df-quickchart-complete:disabled,\n",
              "  .colab-df-quickchart-complete:disabled:hover {\n",
              "    background-color: var(--disabled-bg-color);\n",
              "    fill: var(--disabled-fill-color);\n",
              "    box-shadow: none;\n",
              "  }\n",
              "\n",
              "  .colab-df-spinner {\n",
              "    border: 2px solid var(--fill-color);\n",
              "    border-color: transparent;\n",
              "    border-bottom-color: var(--fill-color);\n",
              "    animation:\n",
              "      spin 1s steps(1) infinite;\n",
              "  }\n",
              "\n",
              "  @keyframes spin {\n",
              "    0% {\n",
              "      border-color: transparent;\n",
              "      border-bottom-color: var(--fill-color);\n",
              "      border-left-color: var(--fill-color);\n",
              "    }\n",
              "    20% {\n",
              "      border-color: transparent;\n",
              "      border-left-color: var(--fill-color);\n",
              "      border-top-color: var(--fill-color);\n",
              "    }\n",
              "    30% {\n",
              "      border-color: transparent;\n",
              "      border-left-color: var(--fill-color);\n",
              "      border-top-color: var(--fill-color);\n",
              "      border-right-color: var(--fill-color);\n",
              "    }\n",
              "    40% {\n",
              "      border-color: transparent;\n",
              "      border-right-color: var(--fill-color);\n",
              "      border-top-color: var(--fill-color);\n",
              "    }\n",
              "    60% {\n",
              "      border-color: transparent;\n",
              "      border-right-color: var(--fill-color);\n",
              "    }\n",
              "    80% {\n",
              "      border-color: transparent;\n",
              "      border-right-color: var(--fill-color);\n",
              "      border-bottom-color: var(--fill-color);\n",
              "    }\n",
              "    90% {\n",
              "      border-color: transparent;\n",
              "      border-bottom-color: var(--fill-color);\n",
              "    }\n",
              "  }\n",
              "</style>\n",
              "\n",
              "      <script>\n",
              "        async function quickchart(key) {\n",
              "          const quickchartButtonEl =\n",
              "            document.querySelector('#' + key + ' button');\n",
              "          quickchartButtonEl.disabled = true;  // To prevent multiple clicks.\n",
              "          quickchartButtonEl.classList.add('colab-df-spinner');\n",
              "          try {\n",
              "            const charts = await google.colab.kernel.invokeFunction(\n",
              "                'suggestCharts', [key], {});\n",
              "          } catch (error) {\n",
              "            console.error('Error during call to suggestCharts:', error);\n",
              "          }\n",
              "          quickchartButtonEl.classList.remove('colab-df-spinner');\n",
              "          quickchartButtonEl.classList.add('colab-df-quickchart-complete');\n",
              "        }\n",
              "        (() => {\n",
              "          let quickchartButtonEl =\n",
              "            document.querySelector('#df-9e5ec423-446c-4dd0-939a-305caeaaaf36 button');\n",
              "          quickchartButtonEl.style.display =\n",
              "            google.colab.kernel.accessAllowed ? 'block' : 'none';\n",
              "        })();\n",
              "      </script>\n",
              "    </div>\n",
              "\n",
              "  <div id=\"id_34a1c63c-92ca-4fea-aa21-8a1e28c18325\">\n",
              "    <style>\n",
              "      .colab-df-generate {\n",
              "        background-color: #E8F0FE;\n",
              "        border: none;\n",
              "        border-radius: 50%;\n",
              "        cursor: pointer;\n",
              "        display: none;\n",
              "        fill: #1967D2;\n",
              "        height: 32px;\n",
              "        padding: 0 0 0 0;\n",
              "        width: 32px;\n",
              "      }\n",
              "\n",
              "      .colab-df-generate:hover {\n",
              "        background-color: #E2EBFA;\n",
              "        box-shadow: 0px 1px 2px rgba(60, 64, 67, 0.3), 0px 1px 3px 1px rgba(60, 64, 67, 0.15);\n",
              "        fill: #174EA6;\n",
              "      }\n",
              "\n",
              "      [theme=dark] .colab-df-generate {\n",
              "        background-color: #3B4455;\n",
              "        fill: #D2E3FC;\n",
              "      }\n",
              "\n",
              "      [theme=dark] .colab-df-generate:hover {\n",
              "        background-color: #434B5C;\n",
              "        box-shadow: 0px 1px 3px 1px rgba(0, 0, 0, 0.15);\n",
              "        filter: drop-shadow(0px 1px 2px rgba(0, 0, 0, 0.3));\n",
              "        fill: #FFFFFF;\n",
              "      }\n",
              "    </style>\n",
              "    <button class=\"colab-df-generate\" onclick=\"generateWithVariable('alldata')\"\n",
              "            title=\"Generate code using this dataframe.\"\n",
              "            style=\"display:none;\">\n",
              "\n",
              "  <svg xmlns=\"http://www.w3.org/2000/svg\" height=\"24px\"viewBox=\"0 0 24 24\"\n",
              "       width=\"24px\">\n",
              "    <path d=\"M7,19H8.4L18.45,9,17,7.55,7,17.6ZM5,21V16.75L18.45,3.32a2,2,0,0,1,2.83,0l1.4,1.43a1.91,1.91,0,0,1,.58,1.4,1.91,1.91,0,0,1-.58,1.4L9.25,21ZM18.45,9,17,7.55Zm-12,3A5.31,5.31,0,0,0,4.9,8.1,5.31,5.31,0,0,0,1,6.5,5.31,5.31,0,0,0,4.9,4.9,5.31,5.31,0,0,0,6.5,1,5.31,5.31,0,0,0,8.1,4.9,5.31,5.31,0,0,0,12,6.5,5.46,5.46,0,0,0,6.5,12Z\"/>\n",
              "  </svg>\n",
              "    </button>\n",
              "    <script>\n",
              "      (() => {\n",
              "      const buttonEl =\n",
              "        document.querySelector('#id_34a1c63c-92ca-4fea-aa21-8a1e28c18325 button.colab-df-generate');\n",
              "      buttonEl.style.display =\n",
              "        google.colab.kernel.accessAllowed ? 'block' : 'none';\n",
              "\n",
              "      buttonEl.onclick = () => {\n",
              "        google.colab.notebook.generateWithVariable('alldata');\n",
              "      }\n",
              "      })();\n",
              "    </script>\n",
              "  </div>\n",
              "\n",
              "    </div>\n",
              "  </div>\n"
            ],
            "application/vnd.google.colaboratory.intrinsic+json": {
              "type": "dataframe",
              "variable_name": "alldata",
              "summary": "{\n  \"name\": \"alldata\",\n  \"rows\": 433,\n  \"fields\": [\n    {\n      \"column\": \"img_path\",\n      \"properties\": {\n        \"dtype\": \"string\",\n        \"num_unique_values\": 433,\n        \"samples\": [\n          \"/content/car-plate-detection/images/Cars425.png\",\n          \"/content/car-plate-detection/images/Cars75.png\",\n          \"/content/car-plate-detection/images/Cars181.png\"\n        ],\n        \"semantic_type\": \"\",\n        \"description\": \"\"\n      }\n    },\n    {\n      \"column\": \"xmin\",\n      \"properties\": {\n        \"dtype\": \"number\",\n        \"std\": 82,\n        \"min\": 0,\n        \"max\": 541,\n        \"num_unique_values\": 218,\n        \"samples\": [\n          247,\n          211,\n          59\n        ],\n        \"semantic_type\": \"\",\n        \"description\": \"\"\n      }\n    },\n    {\n      \"column\": \"xmax\",\n      \"properties\": {\n        \"dtype\": \"number\",\n        \"std\": 92,\n        \"min\": 27,\n        \"max\": 598,\n        \"num_unique_values\": 235,\n        \"samples\": [\n          326,\n          107,\n          253\n        ],\n        \"semantic_type\": \"\",\n        \"description\": \"\"\n      }\n    },\n    {\n      \"column\": \"ymin\",\n      \"properties\": {\n        \"dtype\": \"number\",\n        \"std\": 54,\n        \"min\": 5,\n        \"max\": 405,\n        \"num_unique_values\": 180,\n        \"samples\": [\n          165,\n          117,\n          282\n        ],\n        \"semantic_type\": \"\",\n        \"description\": \"\"\n      }\n    },\n    {\n      \"column\": \"ymax\",\n      \"properties\": {\n        \"dtype\": \"number\",\n        \"std\": 51,\n        \"min\": 65,\n        \"max\": 439,\n        \"num_unique_values\": 169,\n        \"samples\": [\n          76,\n          167,\n          123\n        ],\n        \"semantic_type\": \"\",\n        \"description\": \"\"\n      }\n    },\n    {\n      \"column\": \"img_w\",\n      \"properties\": {\n        \"dtype\": \"number\",\n        \"std\": 68,\n        \"min\": 225,\n        \"max\": 600,\n        \"num_unique_values\": 40,\n        \"samples\": [\n          530,\n          375,\n          370\n        ],\n        \"semantic_type\": \"\",\n        \"description\": \"\"\n      }\n    },\n    {\n      \"column\": \"img_h\",\n      \"properties\": {\n        \"dtype\": \"number\",\n        \"std\": 66,\n        \"min\": 141,\n        \"max\": 531,\n        \"num_unique_values\": 103,\n        \"samples\": [\n          242,\n          478,\n          223\n        ],\n        \"semantic_type\": \"\",\n        \"description\": \"\"\n      }\n    }\n  ]\n}"
            }
          },
          "metadata": {},
          "execution_count": 19
        }
      ]
    },
    {
      "cell_type": "code",
      "source": [
        "from sklearn.model_selection import train_test_split\n",
        "\n",
        "# Split the data into training and test sets\n",
        "# Use 10% of the data for the test set\n",
        "train, test = train_test_split(alldata, test_size=1/10, random_state=42)\n",
        "\n",
        "# Split the training data further into training and validation sets\n",
        "# Use 8/9 of the remaining data for the training set, resulting in an 80/10/10 split overall\n",
        "train, val = train_test_split(train, train_size=8/9, random_state=42)\n",
        "\n",
        "# Print the number of samples in each set\n",
        "print(f'''\n",
        "      len(train) = {len(train)}\n",
        "      len(val) = {len(val)}\n",
        "      len(test) = {len(test)}\n",
        "''')\n"
      ],
      "metadata": {
        "colab": {
          "base_uri": "https://localhost:8080/"
        },
        "id": "90xswoOgzhhY",
        "outputId": "5a231330-a5e5-4eea-b2f9-e6fcd8b5585f"
      },
      "execution_count": 23,
      "outputs": [
        {
          "output_type": "stream",
          "name": "stdout",
          "text": [
            "\n",
            "      len(train) = 345\n",
            "      len(val) = 44\n",
            "      len(test) = 44\n",
            "\n"
          ]
        }
      ]
    },
    {
      "cell_type": "code",
      "source": [
        "train"
      ],
      "metadata": {
        "colab": {
          "base_uri": "https://localhost:8080/",
          "height": 424
        },
        "id": "h0QnHudH19h0",
        "outputId": "2bd243fc-af0a-4ab9-b6a3-5df7a260833c"
      },
      "execution_count": 24,
      "outputs": [
        {
          "output_type": "execute_result",
          "data": {
            "text/plain": [
              "                                            img_path  xmin  xmax  ymin  ymax  \\\n",
              "124  /content/car-plate-detection/images/Cars124.png   305   320   256   267   \n",
              "315  /content/car-plate-detection/images/Cars315.png    12   385    98   181   \n",
              "282  /content/car-plate-detection/images/Cars282.png    37   319   145   203   \n",
              "236  /content/car-plate-detection/images/Cars236.png   223   250   106   119   \n",
              "112  /content/car-plate-detection/images/Cars112.png    49   164   135   191   \n",
              "..                                               ...   ...   ...   ...   ...   \n",
              "110  /content/car-plate-detection/images/Cars110.png   286   328   133   159   \n",
              "255  /content/car-plate-detection/images/Cars255.png   116   273   156   188   \n",
              "292  /content/car-plate-detection/images/Cars292.png    91   137   187   208   \n",
              "54    /content/car-plate-detection/images/Cars54.png   148   257    61   118   \n",
              "199  /content/car-plate-detection/images/Cars199.png    59   310    88   158   \n",
              "\n",
              "     img_w  img_h  \n",
              "124    400    267  \n",
              "315    400    300  \n",
              "282    350    263  \n",
              "236    400    176  \n",
              "112    240    400  \n",
              "..     ...    ...  \n",
              "110    400    267  \n",
              "255    400    267  \n",
              "292    400    267  \n",
              "54     400    300  \n",
              "199    400    266  \n",
              "\n",
              "[345 rows x 7 columns]"
            ],
            "text/html": [
              "\n",
              "  <div id=\"df-0620e2ef-d2a0-4372-b72b-d03be2b2fb38\" class=\"colab-df-container\">\n",
              "    <div>\n",
              "<style scoped>\n",
              "    .dataframe tbody tr th:only-of-type {\n",
              "        vertical-align: middle;\n",
              "    }\n",
              "\n",
              "    .dataframe tbody tr th {\n",
              "        vertical-align: top;\n",
              "    }\n",
              "\n",
              "    .dataframe thead th {\n",
              "        text-align: right;\n",
              "    }\n",
              "</style>\n",
              "<table border=\"1\" class=\"dataframe\">\n",
              "  <thead>\n",
              "    <tr style=\"text-align: right;\">\n",
              "      <th></th>\n",
              "      <th>img_path</th>\n",
              "      <th>xmin</th>\n",
              "      <th>xmax</th>\n",
              "      <th>ymin</th>\n",
              "      <th>ymax</th>\n",
              "      <th>img_w</th>\n",
              "      <th>img_h</th>\n",
              "    </tr>\n",
              "  </thead>\n",
              "  <tbody>\n",
              "    <tr>\n",
              "      <th>124</th>\n",
              "      <td>/content/car-plate-detection/images/Cars124.png</td>\n",
              "      <td>305</td>\n",
              "      <td>320</td>\n",
              "      <td>256</td>\n",
              "      <td>267</td>\n",
              "      <td>400</td>\n",
              "      <td>267</td>\n",
              "    </tr>\n",
              "    <tr>\n",
              "      <th>315</th>\n",
              "      <td>/content/car-plate-detection/images/Cars315.png</td>\n",
              "      <td>12</td>\n",
              "      <td>385</td>\n",
              "      <td>98</td>\n",
              "      <td>181</td>\n",
              "      <td>400</td>\n",
              "      <td>300</td>\n",
              "    </tr>\n",
              "    <tr>\n",
              "      <th>282</th>\n",
              "      <td>/content/car-plate-detection/images/Cars282.png</td>\n",
              "      <td>37</td>\n",
              "      <td>319</td>\n",
              "      <td>145</td>\n",
              "      <td>203</td>\n",
              "      <td>350</td>\n",
              "      <td>263</td>\n",
              "    </tr>\n",
              "    <tr>\n",
              "      <th>236</th>\n",
              "      <td>/content/car-plate-detection/images/Cars236.png</td>\n",
              "      <td>223</td>\n",
              "      <td>250</td>\n",
              "      <td>106</td>\n",
              "      <td>119</td>\n",
              "      <td>400</td>\n",
              "      <td>176</td>\n",
              "    </tr>\n",
              "    <tr>\n",
              "      <th>112</th>\n",
              "      <td>/content/car-plate-detection/images/Cars112.png</td>\n",
              "      <td>49</td>\n",
              "      <td>164</td>\n",
              "      <td>135</td>\n",
              "      <td>191</td>\n",
              "      <td>240</td>\n",
              "      <td>400</td>\n",
              "    </tr>\n",
              "    <tr>\n",
              "      <th>...</th>\n",
              "      <td>...</td>\n",
              "      <td>...</td>\n",
              "      <td>...</td>\n",
              "      <td>...</td>\n",
              "      <td>...</td>\n",
              "      <td>...</td>\n",
              "      <td>...</td>\n",
              "    </tr>\n",
              "    <tr>\n",
              "      <th>110</th>\n",
              "      <td>/content/car-plate-detection/images/Cars110.png</td>\n",
              "      <td>286</td>\n",
              "      <td>328</td>\n",
              "      <td>133</td>\n",
              "      <td>159</td>\n",
              "      <td>400</td>\n",
              "      <td>267</td>\n",
              "    </tr>\n",
              "    <tr>\n",
              "      <th>255</th>\n",
              "      <td>/content/car-plate-detection/images/Cars255.png</td>\n",
              "      <td>116</td>\n",
              "      <td>273</td>\n",
              "      <td>156</td>\n",
              "      <td>188</td>\n",
              "      <td>400</td>\n",
              "      <td>267</td>\n",
              "    </tr>\n",
              "    <tr>\n",
              "      <th>292</th>\n",
              "      <td>/content/car-plate-detection/images/Cars292.png</td>\n",
              "      <td>91</td>\n",
              "      <td>137</td>\n",
              "      <td>187</td>\n",
              "      <td>208</td>\n",
              "      <td>400</td>\n",
              "      <td>267</td>\n",
              "    </tr>\n",
              "    <tr>\n",
              "      <th>54</th>\n",
              "      <td>/content/car-plate-detection/images/Cars54.png</td>\n",
              "      <td>148</td>\n",
              "      <td>257</td>\n",
              "      <td>61</td>\n",
              "      <td>118</td>\n",
              "      <td>400</td>\n",
              "      <td>300</td>\n",
              "    </tr>\n",
              "    <tr>\n",
              "      <th>199</th>\n",
              "      <td>/content/car-plate-detection/images/Cars199.png</td>\n",
              "      <td>59</td>\n",
              "      <td>310</td>\n",
              "      <td>88</td>\n",
              "      <td>158</td>\n",
              "      <td>400</td>\n",
              "      <td>266</td>\n",
              "    </tr>\n",
              "  </tbody>\n",
              "</table>\n",
              "<p>345 rows × 7 columns</p>\n",
              "</div>\n",
              "    <div class=\"colab-df-buttons\">\n",
              "\n",
              "  <div class=\"colab-df-container\">\n",
              "    <button class=\"colab-df-convert\" onclick=\"convertToInteractive('df-0620e2ef-d2a0-4372-b72b-d03be2b2fb38')\"\n",
              "            title=\"Convert this dataframe to an interactive table.\"\n",
              "            style=\"display:none;\">\n",
              "\n",
              "  <svg xmlns=\"http://www.w3.org/2000/svg\" height=\"24px\" viewBox=\"0 -960 960 960\">\n",
              "    <path d=\"M120-120v-720h720v720H120Zm60-500h600v-160H180v160Zm220 220h160v-160H400v160Zm0 220h160v-160H400v160ZM180-400h160v-160H180v160Zm440 0h160v-160H620v160ZM180-180h160v-160H180v160Zm440 0h160v-160H620v160Z\"/>\n",
              "  </svg>\n",
              "    </button>\n",
              "\n",
              "  <style>\n",
              "    .colab-df-container {\n",
              "      display:flex;\n",
              "      gap: 12px;\n",
              "    }\n",
              "\n",
              "    .colab-df-convert {\n",
              "      background-color: #E8F0FE;\n",
              "      border: none;\n",
              "      border-radius: 50%;\n",
              "      cursor: pointer;\n",
              "      display: none;\n",
              "      fill: #1967D2;\n",
              "      height: 32px;\n",
              "      padding: 0 0 0 0;\n",
              "      width: 32px;\n",
              "    }\n",
              "\n",
              "    .colab-df-convert:hover {\n",
              "      background-color: #E2EBFA;\n",
              "      box-shadow: 0px 1px 2px rgba(60, 64, 67, 0.3), 0px 1px 3px 1px rgba(60, 64, 67, 0.15);\n",
              "      fill: #174EA6;\n",
              "    }\n",
              "\n",
              "    .colab-df-buttons div {\n",
              "      margin-bottom: 4px;\n",
              "    }\n",
              "\n",
              "    [theme=dark] .colab-df-convert {\n",
              "      background-color: #3B4455;\n",
              "      fill: #D2E3FC;\n",
              "    }\n",
              "\n",
              "    [theme=dark] .colab-df-convert:hover {\n",
              "      background-color: #434B5C;\n",
              "      box-shadow: 0px 1px 3px 1px rgba(0, 0, 0, 0.15);\n",
              "      filter: drop-shadow(0px 1px 2px rgba(0, 0, 0, 0.3));\n",
              "      fill: #FFFFFF;\n",
              "    }\n",
              "  </style>\n",
              "\n",
              "    <script>\n",
              "      const buttonEl =\n",
              "        document.querySelector('#df-0620e2ef-d2a0-4372-b72b-d03be2b2fb38 button.colab-df-convert');\n",
              "      buttonEl.style.display =\n",
              "        google.colab.kernel.accessAllowed ? 'block' : 'none';\n",
              "\n",
              "      async function convertToInteractive(key) {\n",
              "        const element = document.querySelector('#df-0620e2ef-d2a0-4372-b72b-d03be2b2fb38');\n",
              "        const dataTable =\n",
              "          await google.colab.kernel.invokeFunction('convertToInteractive',\n",
              "                                                    [key], {});\n",
              "        if (!dataTable) return;\n",
              "\n",
              "        const docLinkHtml = 'Like what you see? Visit the ' +\n",
              "          '<a target=\"_blank\" href=https://colab.research.google.com/notebooks/data_table.ipynb>data table notebook</a>'\n",
              "          + ' to learn more about interactive tables.';\n",
              "        element.innerHTML = '';\n",
              "        dataTable['output_type'] = 'display_data';\n",
              "        await google.colab.output.renderOutput(dataTable, element);\n",
              "        const docLink = document.createElement('div');\n",
              "        docLink.innerHTML = docLinkHtml;\n",
              "        element.appendChild(docLink);\n",
              "      }\n",
              "    </script>\n",
              "  </div>\n",
              "\n",
              "\n",
              "    <div id=\"df-be14fc0b-606c-431d-b177-1771f3eb447f\">\n",
              "      <button class=\"colab-df-quickchart\" onclick=\"quickchart('df-be14fc0b-606c-431d-b177-1771f3eb447f')\"\n",
              "                title=\"Suggest charts\"\n",
              "                style=\"display:none;\">\n",
              "\n",
              "<svg xmlns=\"http://www.w3.org/2000/svg\" height=\"24px\"viewBox=\"0 0 24 24\"\n",
              "     width=\"24px\">\n",
              "    <g>\n",
              "        <path d=\"M19 3H5c-1.1 0-2 .9-2 2v14c0 1.1.9 2 2 2h14c1.1 0 2-.9 2-2V5c0-1.1-.9-2-2-2zM9 17H7v-7h2v7zm4 0h-2V7h2v10zm4 0h-2v-4h2v4z\"/>\n",
              "    </g>\n",
              "</svg>\n",
              "      </button>\n",
              "\n",
              "<style>\n",
              "  .colab-df-quickchart {\n",
              "      --bg-color: #E8F0FE;\n",
              "      --fill-color: #1967D2;\n",
              "      --hover-bg-color: #E2EBFA;\n",
              "      --hover-fill-color: #174EA6;\n",
              "      --disabled-fill-color: #AAA;\n",
              "      --disabled-bg-color: #DDD;\n",
              "  }\n",
              "\n",
              "  [theme=dark] .colab-df-quickchart {\n",
              "      --bg-color: #3B4455;\n",
              "      --fill-color: #D2E3FC;\n",
              "      --hover-bg-color: #434B5C;\n",
              "      --hover-fill-color: #FFFFFF;\n",
              "      --disabled-bg-color: #3B4455;\n",
              "      --disabled-fill-color: #666;\n",
              "  }\n",
              "\n",
              "  .colab-df-quickchart {\n",
              "    background-color: var(--bg-color);\n",
              "    border: none;\n",
              "    border-radius: 50%;\n",
              "    cursor: pointer;\n",
              "    display: none;\n",
              "    fill: var(--fill-color);\n",
              "    height: 32px;\n",
              "    padding: 0;\n",
              "    width: 32px;\n",
              "  }\n",
              "\n",
              "  .colab-df-quickchart:hover {\n",
              "    background-color: var(--hover-bg-color);\n",
              "    box-shadow: 0 1px 2px rgba(60, 64, 67, 0.3), 0 1px 3px 1px rgba(60, 64, 67, 0.15);\n",
              "    fill: var(--button-hover-fill-color);\n",
              "  }\n",
              "\n",
              "  .colab-df-quickchart-complete:disabled,\n",
              "  .colab-df-quickchart-complete:disabled:hover {\n",
              "    background-color: var(--disabled-bg-color);\n",
              "    fill: var(--disabled-fill-color);\n",
              "    box-shadow: none;\n",
              "  }\n",
              "\n",
              "  .colab-df-spinner {\n",
              "    border: 2px solid var(--fill-color);\n",
              "    border-color: transparent;\n",
              "    border-bottom-color: var(--fill-color);\n",
              "    animation:\n",
              "      spin 1s steps(1) infinite;\n",
              "  }\n",
              "\n",
              "  @keyframes spin {\n",
              "    0% {\n",
              "      border-color: transparent;\n",
              "      border-bottom-color: var(--fill-color);\n",
              "      border-left-color: var(--fill-color);\n",
              "    }\n",
              "    20% {\n",
              "      border-color: transparent;\n",
              "      border-left-color: var(--fill-color);\n",
              "      border-top-color: var(--fill-color);\n",
              "    }\n",
              "    30% {\n",
              "      border-color: transparent;\n",
              "      border-left-color: var(--fill-color);\n",
              "      border-top-color: var(--fill-color);\n",
              "      border-right-color: var(--fill-color);\n",
              "    }\n",
              "    40% {\n",
              "      border-color: transparent;\n",
              "      border-right-color: var(--fill-color);\n",
              "      border-top-color: var(--fill-color);\n",
              "    }\n",
              "    60% {\n",
              "      border-color: transparent;\n",
              "      border-right-color: var(--fill-color);\n",
              "    }\n",
              "    80% {\n",
              "      border-color: transparent;\n",
              "      border-right-color: var(--fill-color);\n",
              "      border-bottom-color: var(--fill-color);\n",
              "    }\n",
              "    90% {\n",
              "      border-color: transparent;\n",
              "      border-bottom-color: var(--fill-color);\n",
              "    }\n",
              "  }\n",
              "</style>\n",
              "\n",
              "      <script>\n",
              "        async function quickchart(key) {\n",
              "          const quickchartButtonEl =\n",
              "            document.querySelector('#' + key + ' button');\n",
              "          quickchartButtonEl.disabled = true;  // To prevent multiple clicks.\n",
              "          quickchartButtonEl.classList.add('colab-df-spinner');\n",
              "          try {\n",
              "            const charts = await google.colab.kernel.invokeFunction(\n",
              "                'suggestCharts', [key], {});\n",
              "          } catch (error) {\n",
              "            console.error('Error during call to suggestCharts:', error);\n",
              "          }\n",
              "          quickchartButtonEl.classList.remove('colab-df-spinner');\n",
              "          quickchartButtonEl.classList.add('colab-df-quickchart-complete');\n",
              "        }\n",
              "        (() => {\n",
              "          let quickchartButtonEl =\n",
              "            document.querySelector('#df-be14fc0b-606c-431d-b177-1771f3eb447f button');\n",
              "          quickchartButtonEl.style.display =\n",
              "            google.colab.kernel.accessAllowed ? 'block' : 'none';\n",
              "        })();\n",
              "      </script>\n",
              "    </div>\n",
              "\n",
              "  <div id=\"id_68d316dc-736f-4e46-86da-c1c7d27a45b6\">\n",
              "    <style>\n",
              "      .colab-df-generate {\n",
              "        background-color: #E8F0FE;\n",
              "        border: none;\n",
              "        border-radius: 50%;\n",
              "        cursor: pointer;\n",
              "        display: none;\n",
              "        fill: #1967D2;\n",
              "        height: 32px;\n",
              "        padding: 0 0 0 0;\n",
              "        width: 32px;\n",
              "      }\n",
              "\n",
              "      .colab-df-generate:hover {\n",
              "        background-color: #E2EBFA;\n",
              "        box-shadow: 0px 1px 2px rgba(60, 64, 67, 0.3), 0px 1px 3px 1px rgba(60, 64, 67, 0.15);\n",
              "        fill: #174EA6;\n",
              "      }\n",
              "\n",
              "      [theme=dark] .colab-df-generate {\n",
              "        background-color: #3B4455;\n",
              "        fill: #D2E3FC;\n",
              "      }\n",
              "\n",
              "      [theme=dark] .colab-df-generate:hover {\n",
              "        background-color: #434B5C;\n",
              "        box-shadow: 0px 1px 3px 1px rgba(0, 0, 0, 0.15);\n",
              "        filter: drop-shadow(0px 1px 2px rgba(0, 0, 0, 0.3));\n",
              "        fill: #FFFFFF;\n",
              "      }\n",
              "    </style>\n",
              "    <button class=\"colab-df-generate\" onclick=\"generateWithVariable('train')\"\n",
              "            title=\"Generate code using this dataframe.\"\n",
              "            style=\"display:none;\">\n",
              "\n",
              "  <svg xmlns=\"http://www.w3.org/2000/svg\" height=\"24px\"viewBox=\"0 0 24 24\"\n",
              "       width=\"24px\">\n",
              "    <path d=\"M7,19H8.4L18.45,9,17,7.55,7,17.6ZM5,21V16.75L18.45,3.32a2,2,0,0,1,2.83,0l1.4,1.43a1.91,1.91,0,0,1,.58,1.4,1.91,1.91,0,0,1-.58,1.4L9.25,21ZM18.45,9,17,7.55Zm-12,3A5.31,5.31,0,0,0,4.9,8.1,5.31,5.31,0,0,0,1,6.5,5.31,5.31,0,0,0,4.9,4.9,5.31,5.31,0,0,0,6.5,1,5.31,5.31,0,0,0,8.1,4.9,5.31,5.31,0,0,0,12,6.5,5.46,5.46,0,0,0,6.5,12Z\"/>\n",
              "  </svg>\n",
              "    </button>\n",
              "    <script>\n",
              "      (() => {\n",
              "      const buttonEl =\n",
              "        document.querySelector('#id_68d316dc-736f-4e46-86da-c1c7d27a45b6 button.colab-df-generate');\n",
              "      buttonEl.style.display =\n",
              "        google.colab.kernel.accessAllowed ? 'block' : 'none';\n",
              "\n",
              "      buttonEl.onclick = () => {\n",
              "        google.colab.notebook.generateWithVariable('train');\n",
              "      }\n",
              "      })();\n",
              "    </script>\n",
              "  </div>\n",
              "\n",
              "    </div>\n",
              "  </div>\n"
            ],
            "application/vnd.google.colaboratory.intrinsic+json": {
              "type": "dataframe",
              "variable_name": "train",
              "summary": "{\n  \"name\": \"train\",\n  \"rows\": 345,\n  \"fields\": [\n    {\n      \"column\": \"img_path\",\n      \"properties\": {\n        \"dtype\": \"string\",\n        \"num_unique_values\": 345,\n        \"samples\": [\n          \"/content/car-plate-detection/images/Cars186.png\",\n          \"/content/car-plate-detection/images/Cars387.png\",\n          \"/content/car-plate-detection/images/Cars178.png\"\n        ],\n        \"semantic_type\": \"\",\n        \"description\": \"\"\n      }\n    },\n    {\n      \"column\": \"xmin\",\n      \"properties\": {\n        \"dtype\": \"number\",\n        \"std\": 85,\n        \"min\": 0,\n        \"max\": 541,\n        \"num_unique_values\": 198,\n        \"samples\": [\n          336,\n          306,\n          264\n        ],\n        \"semantic_type\": \"\",\n        \"description\": \"\"\n      }\n    },\n    {\n      \"column\": \"xmax\",\n      \"properties\": {\n        \"dtype\": \"number\",\n        \"std\": 94,\n        \"min\": 27,\n        \"max\": 598,\n        \"num_unique_values\": 210,\n        \"samples\": [\n          375,\n          57,\n          43\n        ],\n        \"semantic_type\": \"\",\n        \"description\": \"\"\n      }\n    },\n    {\n      \"column\": \"ymin\",\n      \"properties\": {\n        \"dtype\": \"number\",\n        \"std\": 55,\n        \"min\": 5,\n        \"max\": 405,\n        \"num_unique_values\": 164,\n        \"samples\": [\n          29,\n          405,\n          154\n        ],\n        \"semantic_type\": \"\",\n        \"description\": \"\"\n      }\n    },\n    {\n      \"column\": \"ymax\",\n      \"properties\": {\n        \"dtype\": \"number\",\n        \"std\": 53,\n        \"min\": 76,\n        \"max\": 439,\n        \"num_unique_values\": 156,\n        \"samples\": [\n          214,\n          148,\n          137\n        ],\n        \"semantic_type\": \"\",\n        \"description\": \"\"\n      }\n    },\n    {\n      \"column\": \"img_w\",\n      \"properties\": {\n        \"dtype\": \"number\",\n        \"std\": 70,\n        \"min\": 240,\n        \"max\": 600,\n        \"num_unique_values\": 36,\n        \"samples\": [\n          508,\n          560,\n          467\n        ],\n        \"semantic_type\": \"\",\n        \"description\": \"\"\n      }\n    },\n    {\n      \"column\": \"img_h\",\n      \"properties\": {\n        \"dtype\": \"number\",\n        \"std\": 68,\n        \"min\": 141,\n        \"max\": 531,\n        \"num_unique_values\": 96,\n        \"samples\": [\n          424,\n          417,\n          229\n        ],\n        \"semantic_type\": \"\",\n        \"description\": \"\"\n      }\n    }\n  ]\n}"
            }
          },
          "metadata": {},
          "execution_count": 24
        }
      ]
    },
    {
      "cell_type": "code",
      "source": [
        "def make_split_folder_in_yolo_format(split_name, split_df):\n",
        "    \"\"\"\n",
        "    Creates a folder structure for a dataset split (train/val/test) in YOLO format.\n",
        "\n",
        "    Parameters:\n",
        "    split_name (str): The name of the split (e.g., 'train', 'val', 'test').\n",
        "    split_df (pd.DataFrame): The DataFrame containing the data for the split.\n",
        "\n",
        "    The function will create 'labels' and 'images' subdirectories under 'datasets/cars_license_plate/{split_name}',\n",
        "    and save the corresponding labels and images in YOLO format.\n",
        "    \"\"\"\n",
        "    labels_path = os.path.join('datasets', 'cars_license_plate_new', split_name, 'labels')\n",
        "    images_path = os.path.join('datasets', 'cars_license_plate_new', split_name, 'images')\n",
        "\n",
        "    # Create directories for labels and images\n",
        "    os.makedirs(labels_path)\n",
        "    os.makedirs(images_path)\n",
        "\n",
        "    # Iterate over each row in the DataFrame\n",
        "    for _, row in split_df.iterrows():\n",
        "        img_name, img_extension = os.path.splitext(os.path.basename(row['img_path']))\n",
        "\n",
        "        # Calculate YOLO format bounding box coordinates\n",
        "        x_center = (row['xmin'] + row['xmax']) / 2 / row['img_w']\n",
        "        y_center = (row['ymin'] + row['ymax']) / 2 / row['img_h']\n",
        "        width = (row['xmax'] - row['xmin']) / row['img_w']\n",
        "        height = (row['ymax'] - row['ymin']) / row['img_h']\n",
        "\n",
        "        # Save the label in YOLO format\n",
        "        label_path = os.path.join(labels_path, f'{img_name}.txt')\n",
        "        with open(label_path, 'w') as file:\n",
        "            file.write(f\"0 {x_center:.4f} {y_center:.4f} {width:.4f} {height:.4f}\\n\")\n",
        "\n",
        "        # Copy the image to the images directory\n",
        "        shutil.copy(row['img_path'], os.path.join(images_path, img_name + img_extension))\n",
        "\n",
        "    print(f\"Created '{images_path}' and '{labels_path}'\")"
      ],
      "metadata": {
        "id": "NZeyWgoB2CTP"
      },
      "execution_count": 25,
      "outputs": []
    },
    {
      "cell_type": "code",
      "source": [
        "make_split_folder_in_yolo_format(\"train\", train)\n",
        "make_split_folder_in_yolo_format(\"val\", val)\n",
        "make_split_folder_in_yolo_format(\"test\", test)"
      ],
      "metadata": {
        "colab": {
          "base_uri": "https://localhost:8080/"
        },
        "id": "DshNgfNl2Ibb",
        "outputId": "53c8f90e-38f2-4a1a-e6bb-ce0d3f74eff4"
      },
      "execution_count": 26,
      "outputs": [
        {
          "output_type": "stream",
          "name": "stdout",
          "text": [
            "Created 'datasets/cars_license_plate_new/train/images' and 'datasets/cars_license_plate_new/train/labels'\n",
            "Created 'datasets/cars_license_plate_new/val/images' and 'datasets/cars_license_plate_new/val/labels'\n",
            "Created 'datasets/cars_license_plate_new/test/images' and 'datasets/cars_license_plate_new/test/labels'\n"
          ]
        }
      ]
    },
    {
      "cell_type": "code",
      "source": [
        "import os\n",
        "import cv2\n",
        "import matplotlib.pyplot as plt\n",
        "\n",
        "# Directory paths\n",
        "image_dir = '/content/datasets/cars_license_plate_new/train/images'\n",
        "label_dir = '/content/datasets/cars_license_plate_new/train/labels'\n",
        "\n",
        "# Get the first image file\n",
        "image_files = sorted(os.listdir(image_dir))\n",
        "first_image_file = image_files[0]\n",
        "\n",
        "# Construct paths for the image and its corresponding label\n",
        "image_path = os.path.join(image_dir, first_image_file)\n",
        "label_path = os.path.join(label_dir, os.path.splitext(first_image_file)[0] + '.txt')\n",
        "\n",
        "# Load the image using OpenCV\n",
        "image = cv2.imread(image_path)\n",
        "# Convert the image from BGR (OpenCV default) to RGB (matplotlib default)\n",
        "image = cv2.cvtColor(image, cv2.COLOR_BGR2RGB)\n",
        "\n",
        "# Read the label file to get bounding box information\n",
        "with open(label_path, 'r') as f:\n",
        "    lines = f.readlines()\n",
        "\n",
        "# Plot the bounding box on the image\n",
        "for line in lines:\n",
        "    # Parse the label file line to extract bounding box information\n",
        "    class_id, x_center, y_center, width, height = map(float, line.strip().split())\n",
        "    img_height, img_width, _ = image.shape\n",
        "\n",
        "    # Convert YOLO format to bounding box format\n",
        "    x_center *= img_width\n",
        "    y_center *= img_height\n",
        "    width *= img_width\n",
        "    height *= img_height\n",
        "\n",
        "    # Calculate the top-left and bottom-right coordinates of the bounding box\n",
        "    x1 = int(x_center - width / 2)\n",
        "    y1 = int(y_center - height / 2)\n",
        "    x2 = int(x_center + width / 2)\n",
        "    y2 = int(y_center + height / 2)\n",
        "\n",
        "    # Draw the bounding box on the image using a green rectangle\n",
        "    cv2.rectangle(image, (x1, y1), (x2, y2), (0, 255, 0), 2)\n",
        "\n",
        "# Display the image with bounding box using matplotlib\n",
        "plt.imshow(image)\n",
        "plt.axis('off')  # Hide the axis\n",
        "plt.show()  # Display the image"
      ],
      "metadata": {
        "colab": {
          "base_uri": "https://localhost:8080/",
          "height": 344
        },
        "id": "mVPZEJbV2gpK",
        "outputId": "1c07ad49-00ae-475e-df22-d3cc21f8c746"
      },
      "execution_count": 27,
      "outputs": [
        {
          "output_type": "display_data",
          "data": {
            "text/plain": [
              "<Figure size 640x480 with 1 Axes>"
            ],
            "image/png": "[encoded data removed]"
          },
          "metadata": {}
        }
      ]
    },
    {
      "cell_type": "code",
      "source": [
        "# Define the content of the datasets.yaml file\n",
        "datasets_yaml = '''\n",
        "path: cars_license_plate_new\n",
        "\n",
        "train: train/images\n",
        "val: val/images\n",
        "test: test/images\n",
        "\n",
        "# number of classes\n",
        "nc: 1\n",
        "\n",
        "# class names\n",
        "names: ['license_plate']\n",
        "'''\n",
        "\n",
        "# Write the content to the datasets.yaml file\n",
        "with open('datasets.yaml', 'w') as file:\n",
        "    file.write(datasets_yaml)\n"
      ],
      "metadata": {
        "id": "8vPiCjaO43Ta"
      },
      "execution_count": 2,
      "outputs": []
    },
    {
      "cell_type": "code",
      "source": [
        "from ultralytics import YOLO\n",
        "model = YOLO('yolov8n.pt')"
      ],
      "metadata": {
        "id": "foyzCxja43Qy"
      },
      "execution_count": 1,
      "outputs": []
    },
    {
      "cell_type": "code",
      "source": [
        "model.train(\n",
        "    data='datasets.yaml',  # Path to the dataset configuration file\n",
        "    epochs=100,            # Number of training epochs\n",
        "    batch=16,              # Batch size\n",
        "    device='cuda',         # Use GPU for training\n",
        "    imgsz=320,             # Image size (width and height) for training\n",
        "    cache=True             # Cache images for faster training\n",
        ")"
      ],
      "metadata": {
        "colab": {
          "base_uri": "https://localhost:8080/"
        },
        "id": "Ph0N7oPj43Nq",
        "outputId": "557c6aff-2e96-4912-a345-a6d404787889"
      },
      "execution_count": 3,
      "outputs": [
        {
          "output_type": "stream",
          "name": "stdout",
          "text": [
            "Ultralytics 8.3.159 🚀 Python-3.11.13 torch-2.6.0+cu124 CUDA:0 (Tesla T4, 15095MiB)\n",
            "\u001b[34m\u001b[1mengine/trainer: \u001b[0magnostic_nms=False, amp=True, augment=False, auto_augment=randaugment, batch=16, bgr=0.0, box=7.5, cache=True, cfg=None, classes=None, close_mosaic=10, cls=0.5, conf=None, copy_paste=0.0, copy_paste_mode=flip, cos_lr=False, cutmix=0.0, data=datasets.yaml, degrees=0.0, deterministic=True, device=0, dfl=1.5, dnn=False, dropout=0.0, dynamic=False, embed=None, epochs=100, erasing=0.4, exist_ok=False, fliplr=0.5, flipud=0.0, format=torchscript, fraction=1.0, freeze=None, half=False, hsv_h=0.015, hsv_s=0.7, hsv_v=0.4, imgsz=320, int8=False, iou=0.7, keras=False, kobj=1.0, line_width=None, lr0=0.01, lrf=0.01, mask_ratio=4, max_det=300, mixup=0.0, mode=train, model=yolov8n.pt, momentum=0.937, mosaic=1.0, multi_scale=False, name=train2, nbs=64, nms=False, opset=None, optimize=False, optimizer=auto, overlap_mask=True, patience=100, perspective=0.0, plots=True, pose=12.0, pretrained=True, profile=False, project=None, rect=False, resume=False, retina_masks=False, save=True, save_conf=False, save_crop=False, save_dir=runs/detect/train2, save_frames=False, save_json=False, save_period=-1, save_txt=False, scale=0.5, seed=0, shear=0.0, show=False, show_boxes=True, show_conf=True, show_labels=True, simplify=True, single_cls=False, source=None, split=val, stream_buffer=False, task=detect, time=None, tracker=botsort.yaml, translate=0.1, val=True, verbose=True, vid_stride=1, visualize=False, warmup_bias_lr=0.1, warmup_epochs=3.0, warmup_momentum=0.8, weight_decay=0.0005, workers=8, workspace=None\n",
            "Overriding model.yaml nc=80 with nc=1\n",
            "\n",
            "                   from  n    params  module                                       arguments                     \n",
            "  0                  -1  1       464  ultralytics.nn.modules.conv.Conv             [3, 16, 3, 2]                 \n",
            "  1                  -1  1      4672  ultralytics.nn.modules.conv.Conv             [16, 32, 3, 2]                \n",
            "  2                  -1  1      7360  ultralytics.nn.modules.block.C2f             [32, 32, 1, True]             \n",
            "  3                  -1  1     18560  ultralytics.nn.modules.conv.Conv             [32, 64, 3, 2]                \n",
            "  4                  -1  2     49664  ultralytics.nn.modules.block.C2f             [64, 64, 2, True]             \n",
            "  5                  -1  1     73984  ultralytics.nn.modules.conv.Conv             [64, 128, 3, 2]               \n",
            "  6                  -1  2    197632  ultralytics.nn.modules.block.C2f             [128, 128, 2, True]           \n",
            "  7                  -1  1    295424  ultralytics.nn.modules.conv.Conv             [128, 256, 3, 2]              \n",
            "  8                  -1  1    460288  ultralytics.nn.modules.block.C2f             [256, 256, 1, True]           \n",
            "  9                  -1  1    164608  ultralytics.nn.modules.block.SPPF            [256, 256, 5]                 \n",
            " 10                  -1  1         0  torch.nn.modules.upsampling.Upsample         [None, 2, 'nearest']          \n",
            " 11             [-1, 6]  1         0  ultralytics.nn.modules.conv.Concat           [1]                           \n",
            " 12                  -1  1    148224  ultralytics.nn.modules.block.C2f             [384, 128, 1]                 \n",
            " 13                  -1  1         0  torch.nn.modules.upsampling.Upsample         [None, 2, 'nearest']          \n",
            " 14             [-1, 4]  1         0  ultralytics.nn.modules.conv.Concat           [1]                           \n",
            " 15                  -1  1     37248  ultralytics.nn.modules.block.C2f             [192, 64, 1]                  \n",
            " 16                  -1  1     36992  ultralytics.nn.modules.conv.Conv             [64, 64, 3, 2]                \n",
            " 17            [-1, 12]  1         0  ultralytics.nn.modules.conv.Concat           [1]                           \n",
            " 18                  -1  1    123648  ultralytics.nn.modules.block.C2f             [192, 128, 1]                 \n",
            " 19                  -1  1    147712  ultralytics.nn.modules.conv.Conv             [128, 128, 3, 2]              \n",
            " 20             [-1, 9]  1         0  ultralytics.nn.modules.conv.Concat           [1]                           \n",
            " 21                  -1  1    493056  ultralytics.nn.modules.block.C2f             [384, 256, 1]                 \n",
            " 22        [15, 18, 21]  1    751507  ultralytics.nn.modules.head.Detect           [1, [64, 128, 256]]           \n",
            "Model summary: 129 layers, 3,011,043 parameters, 3,011,027 gradients, 8.2 GFLOPs\n",
            "\n",
            "Transferred 319/355 items from pretrained weights\n",
            "Freezing layer 'model.22.dfl.conv.weight'\n",
            "\u001b[34m\u001b[1mAMP: \u001b[0mrunning Automatic Mixed Precision (AMP) checks...\n",
            "\u001b[34m\u001b[1mAMP: \u001b[0mchecks passed ✅\n",
            "\u001b[34m\u001b[1mtrain: \u001b[0mFast image access ✅ (ping: 0.0±0.0 ms, read: 105.2±24.3 MB/s, size: 607.4 KB)\n"
          ]
        },
        {
          "output_type": "stream",
          "name": "stderr",
          "text": [
            "\u001b[34m\u001b[1mtrain: \u001b[0mScanning /content/datasets/cars_license_plate_new/train/labels... 345 images, 0 backgrounds, 0 corrupt: 100%|██████████| 345/345 [00:01<00:00, 238.30it/s]"
          ]
        },
        {
          "output_type": "stream",
          "name": "stdout",
          "text": [
            "\u001b[34m\u001b[1mtrain: \u001b[0mNew cache created: /content/datasets/cars_license_plate_new/train/labels.cache\n"
          ]
        },
        {
          "output_type": "stream",
          "name": "stderr",
          "text": [
            "\n"
          ]
        },
        {
          "output_type": "stream",
          "name": "stdout",
          "text": [
            "WARNING ⚠️ cache='ram' may produce non-deterministic training results. Consider cache='disk' as a deterministic alternative if your disk space allows.\n"
          ]
        },
        {
          "output_type": "stream",
          "name": "stderr",
          "text": [
            "\u001b[34m\u001b[1mtrain: \u001b[0mCaching images (0.1GB RAM): 100%|██████████| 345/345 [00:04<00:00, 83.77it/s]\n"
          ]
        },
        {
          "output_type": "stream",
          "name": "stdout",
          "text": [
            "\u001b[34m\u001b[1malbumentations: \u001b[0mBlur(p=0.01, blur_limit=(3, 7)), MedianBlur(p=0.01, blur_limit=(3, 7)), ToGray(p=0.01, method='weighted_average', num_output_channels=3), CLAHE(p=0.01, clip_limit=(1.0, 4.0), tile_grid_size=(8, 8))\n",
            "\u001b[34m\u001b[1mval: \u001b[0mFast image access ✅ (ping: 0.0±0.0 ms, read: 62.9±28.0 MB/s, size: 402.1 KB)\n"
          ]
        },
        {
          "output_type": "stream",
          "name": "stderr",
          "text": [
            "\u001b[34m\u001b[1mval: \u001b[0mScanning /content/datasets/cars_license_plate_new/val/labels... 44 images, 0 backgrounds, 0 corrupt: 100%|██████████| 44/44 [00:00<00:00, 208.07it/s]"
          ]
        },
        {
          "output_type": "stream",
          "name": "stdout",
          "text": [
            "\u001b[34m\u001b[1mval: \u001b[0mNew cache created: /content/datasets/cars_license_plate_new/val/labels.cache\n"
          ]
        },
        {
          "output_type": "stream",
          "name": "stderr",
          "text": [
            "\n"
          ]
        },
        {
          "output_type": "stream",
          "name": "stdout",
          "text": [
            "WARNING ⚠️ cache='ram' may produce non-deterministic training results. Consider cache='disk' as a deterministic alternative if your disk space allows.\n"
          ]
        },
        {
          "output_type": "stream",
          "name": "stderr",
          "text": [
            "\u001b[34m\u001b[1mval: \u001b[0mCaching images (0.0GB RAM): 100%|██████████| 44/44 [00:00<00:00, 83.76it/s]\n"
          ]
        },
        {
          "output_type": "stream",
          "name": "stdout",
          "text": [
            "Plotting labels to runs/detect/train2/labels.jpg... \n",
            "\u001b[34m\u001b[1moptimizer:\u001b[0m 'optimizer=auto' found, ignoring 'lr0=0.01' and 'momentum=0.937' and determining best 'optimizer', 'lr0' and 'momentum' automatically... \n",
            "\u001b[34m\u001b[1moptimizer:\u001b[0m AdamW(lr=0.002, momentum=0.9) with parameter groups 57 weight(decay=0.0), 64 weight(decay=0.0005), 63 bias(decay=0.0)\n",
            "Image sizes 320 train, 320 val\n",
            "Using 2 dataloader workers\n",
            "Logging results to \u001b[1mruns/detect/train2\u001b[0m\n",
            "Starting training for 100 epochs...\n",
            "\n",
            "      Epoch    GPU_mem   box_loss   cls_loss   dfl_loss  Instances       Size\n"
          ]
        },
        {
          "output_type": "stream",
          "name": "stderr",
          "text": [
            "      1/100     0.576G       1.75      2.994      1.345         11        320: 100%|██████████| 22/22 [00:04<00:00,  4.78it/s]\n",
            "                 Class     Images  Instances      Box(P          R      mAP50  mAP50-95): 100%|██████████| 2/2 [00:01<00:00,  1.52it/s]"
          ]
        },
        {
          "output_type": "stream",
          "name": "stdout",
          "text": [
            "                   all         44         44    0.00357      0.932      0.266      0.133\n"
          ]
        },
        {
          "output_type": "stream",
          "name": "stderr",
          "text": [
            "\n"
          ]
        },
        {
          "output_type": "stream",
          "name": "stdout",
          "text": [
            "\n",
            "      Epoch    GPU_mem   box_loss   cls_loss   dfl_loss  Instances       Size\n"
          ]
        },
        {
          "output_type": "stream",
          "name": "stderr",
          "text": [
            "      2/100     0.617G      1.536       1.61      1.142         19        320: 100%|██████████| 22/22 [00:02<00:00,  9.09it/s]\n",
            "                 Class     Images  Instances      Box(P          R      mAP50  mAP50-95): 100%|██████████| 2/2 [00:00<00:00,  9.99it/s]"
          ]
        },
        {
          "output_type": "stream",
          "name": "stdout",
          "text": [
            "                   all         44         44    0.00462      0.909      0.539      0.231\n"
          ]
        },
        {
          "output_type": "stream",
          "name": "stderr",
          "text": [
            "\n"
          ]
        },
        {
          "output_type": "stream",
          "name": "stdout",
          "text": [
            "\n",
            "      Epoch    GPU_mem   box_loss   cls_loss   dfl_loss  Instances       Size\n"
          ]
        },
        {
          "output_type": "stream",
          "name": "stderr",
          "text": [
            "      3/100     0.643G      1.486      1.401      1.137         16        320: 100%|██████████| 22/22 [00:02<00:00,  9.24it/s]\n",
            "                 Class     Images  Instances      Box(P          R      mAP50  mAP50-95): 100%|██████████| 2/2 [00:00<00:00,  7.34it/s]"
          ]
        },
        {
          "output_type": "stream",
          "name": "stdout",
          "text": [
            "                   all         44         44      0.887      0.178      0.397      0.185\n"
          ]
        },
        {
          "output_type": "stream",
          "name": "stderr",
          "text": [
            "\n"
          ]
        },
        {
          "output_type": "stream",
          "name": "stdout",
          "text": [
            "\n",
            "      Epoch    GPU_mem   box_loss   cls_loss   dfl_loss  Instances       Size\n"
          ]
        },
        {
          "output_type": "stream",
          "name": "stderr",
          "text": [
            "      4/100      0.66G      1.578      1.397      1.164         13        320: 100%|██████████| 22/22 [00:03<00:00,  6.90it/s]\n",
            "                 Class     Images  Instances      Box(P          R      mAP50  mAP50-95): 100%|██████████| 2/2 [00:00<00:00,  9.83it/s]"
          ]
        },
        {
          "output_type": "stream",
          "name": "stdout",
          "text": [
            "                   all         44         44      0.151       0.25      0.116     0.0528\n"
          ]
        },
        {
          "output_type": "stream",
          "name": "stderr",
          "text": [
            "\n"
          ]
        },
        {
          "output_type": "stream",
          "name": "stdout",
          "text": [
            "\n",
            "      Epoch    GPU_mem   box_loss   cls_loss   dfl_loss  Instances       Size\n"
          ]
        },
        {
          "output_type": "stream",
          "name": "stderr",
          "text": [
            "      5/100     0.678G      1.646      1.337      1.175         24        320: 100%|██████████| 22/22 [00:02<00:00,  9.05it/s]\n",
            "                 Class     Images  Instances      Box(P          R      mAP50  mAP50-95): 100%|██████████| 2/2 [00:00<00:00,  9.84it/s]"
          ]
        },
        {
          "output_type": "stream",
          "name": "stdout",
          "text": [
            "                   all         44         44      0.175      0.182     0.0903     0.0432\n"
          ]
        },
        {
          "output_type": "stream",
          "name": "stderr",
          "text": [
            "\n"
          ]
        },
        {
          "output_type": "stream",
          "name": "stdout",
          "text": [
            "\n",
            "      Epoch    GPU_mem   box_loss   cls_loss   dfl_loss  Instances       Size\n"
          ]
        },
        {
          "output_type": "stream",
          "name": "stderr",
          "text": [
            "      6/100     0.695G      1.502      1.282      1.186         14        320: 100%|██████████| 22/22 [00:02<00:00,  9.35it/s]\n",
            "                 Class     Images  Instances      Box(P          R      mAP50  mAP50-95): 100%|██████████| 2/2 [00:00<00:00, 10.12it/s]\n"
          ]
        },
        {
          "output_type": "stream",
          "name": "stdout",
          "text": [
            "                   all         44         44      0.545        0.3      0.374      0.184\n",
            "\n",
            "      Epoch    GPU_mem   box_loss   cls_loss   dfl_loss  Instances       Size\n"
          ]
        },
        {
          "output_type": "stream",
          "name": "stderr",
          "text": [
            "      7/100     0.711G       1.49      1.194      1.196         19        320: 100%|██████████| 22/22 [00:02<00:00,  9.53it/s]\n",
            "                 Class     Images  Instances      Box(P          R      mAP50  mAP50-95): 100%|██████████| 2/2 [00:00<00:00,  9.67it/s]"
          ]
        },
        {
          "output_type": "stream",
          "name": "stdout",
          "text": [
            "                   all         44         44      0.512      0.545      0.512      0.275\n"
          ]
        },
        {
          "output_type": "stream",
          "name": "stderr",
          "text": [
            "\n"
          ]
        },
        {
          "output_type": "stream",
          "name": "stdout",
          "text": [
            "\n",
            "      Epoch    GPU_mem   box_loss   cls_loss   dfl_loss  Instances       Size\n"
          ]
        },
        {
          "output_type": "stream",
          "name": "stderr",
          "text": [
            "      8/100     0.729G      1.511      1.159      1.189         20        320: 100%|██████████| 22/22 [00:03<00:00,  6.51it/s]\n",
            "                 Class     Images  Instances      Box(P          R      mAP50  mAP50-95): 100%|██████████| 2/2 [00:00<00:00,  9.95it/s]"
          ]
        },
        {
          "output_type": "stream",
          "name": "stdout",
          "text": [
            "                   all         44         44       0.84      0.705      0.786      0.411\n"
          ]
        },
        {
          "output_type": "stream",
          "name": "stderr",
          "text": [
            "\n"
          ]
        },
        {
          "output_type": "stream",
          "name": "stdout",
          "text": [
            "\n",
            "      Epoch    GPU_mem   box_loss   cls_loss   dfl_loss  Instances       Size\n"
          ]
        },
        {
          "output_type": "stream",
          "name": "stderr",
          "text": [
            "      9/100     0.746G      1.532      1.124      1.205         16        320: 100%|██████████| 22/22 [00:02<00:00,  9.19it/s]\n",
            "                 Class     Images  Instances      Box(P          R      mAP50  mAP50-95): 100%|██████████| 2/2 [00:00<00:00,  9.92it/s]"
          ]
        },
        {
          "output_type": "stream",
          "name": "stdout",
          "text": [
            "                   all         44         44        0.8      0.705      0.713      0.379\n"
          ]
        },
        {
          "output_type": "stream",
          "name": "stderr",
          "text": [
            "\n"
          ]
        },
        {
          "output_type": "stream",
          "name": "stdout",
          "text": [
            "\n",
            "      Epoch    GPU_mem   box_loss   cls_loss   dfl_loss  Instances       Size\n"
          ]
        },
        {
          "output_type": "stream",
          "name": "stderr",
          "text": [
            "     10/100     0.762G      1.451      1.073      1.157         21        320: 100%|██████████| 22/22 [00:02<00:00,  9.31it/s]\n",
            "                 Class     Images  Instances      Box(P          R      mAP50  mAP50-95): 100%|██████████| 2/2 [00:00<00:00,  9.02it/s]"
          ]
        },
        {
          "output_type": "stream",
          "name": "stdout",
          "text": [
            "                   all         44         44      0.758      0.864      0.812       0.46\n"
          ]
        },
        {
          "output_type": "stream",
          "name": "stderr",
          "text": [
            "\n"
          ]
        },
        {
          "output_type": "stream",
          "name": "stdout",
          "text": [
            "\n",
            "      Epoch    GPU_mem   box_loss   cls_loss   dfl_loss  Instances       Size\n"
          ]
        },
        {
          "output_type": "stream",
          "name": "stderr",
          "text": [
            "     11/100     0.779G      1.471      1.086       1.14         13        320: 100%|██████████| 22/22 [00:02<00:00,  9.50it/s]\n",
            "                 Class     Images  Instances      Box(P          R      mAP50  mAP50-95): 100%|██████████| 2/2 [00:00<00:00,  9.88it/s]"
          ]
        },
        {
          "output_type": "stream",
          "name": "stdout",
          "text": [
            "                   all         44         44      0.725      0.781      0.789      0.442\n"
          ]
        },
        {
          "output_type": "stream",
          "name": "stderr",
          "text": [
            "\n"
          ]
        },
        {
          "output_type": "stream",
          "name": "stdout",
          "text": [
            "\n",
            "      Epoch    GPU_mem   box_loss   cls_loss   dfl_loss  Instances       Size\n"
          ]
        },
        {
          "output_type": "stream",
          "name": "stderr",
          "text": [
            "     12/100     0.797G      1.486      1.043      1.157         22        320: 100%|██████████| 22/22 [00:03<00:00,  6.34it/s]\n",
            "                 Class     Images  Instances      Box(P          R      mAP50  mAP50-95): 100%|██████████| 2/2 [00:00<00:00,  9.92it/s]"
          ]
        },
        {
          "output_type": "stream",
          "name": "stdout",
          "text": [
            "                   all         44         44      0.856      0.812      0.819      0.439\n"
          ]
        },
        {
          "output_type": "stream",
          "name": "stderr",
          "text": [
            "\n"
          ]
        },
        {
          "output_type": "stream",
          "name": "stdout",
          "text": [
            "\n",
            "      Epoch    GPU_mem   box_loss   cls_loss   dfl_loss  Instances       Size\n"
          ]
        },
        {
          "output_type": "stream",
          "name": "stderr",
          "text": [
            "     13/100     0.812G      1.406     0.9867      1.136         24        320: 100%|██████████| 22/22 [00:02<00:00,  9.43it/s]\n",
            "                 Class     Images  Instances      Box(P          R      mAP50  mAP50-95): 100%|██████████| 2/2 [00:00<00:00,  9.13it/s]"
          ]
        },
        {
          "output_type": "stream",
          "name": "stdout",
          "text": [
            "                   all         44         44      0.284      0.386      0.314      0.159\n"
          ]
        },
        {
          "output_type": "stream",
          "name": "stderr",
          "text": [
            "\n"
          ]
        },
        {
          "output_type": "stream",
          "name": "stdout",
          "text": [
            "\n",
            "      Epoch    GPU_mem   box_loss   cls_loss   dfl_loss  Instances       Size\n"
          ]
        },
        {
          "output_type": "stream",
          "name": "stderr",
          "text": [
            "     14/100     0.832G      1.385      1.005      1.123         24        320: 100%|██████████| 22/22 [00:02<00:00,  9.19it/s]\n",
            "                 Class     Images  Instances      Box(P          R      mAP50  mAP50-95): 100%|██████████| 2/2 [00:00<00:00, 10.35it/s]"
          ]
        },
        {
          "output_type": "stream",
          "name": "stdout",
          "text": [
            "                   all         44         44      0.728      0.791       0.77      0.428\n"
          ]
        },
        {
          "output_type": "stream",
          "name": "stderr",
          "text": [
            "\n"
          ]
        },
        {
          "output_type": "stream",
          "name": "stdout",
          "text": [
            "\n",
            "      Epoch    GPU_mem   box_loss   cls_loss   dfl_loss  Instances       Size\n"
          ]
        },
        {
          "output_type": "stream",
          "name": "stderr",
          "text": [
            "     15/100     0.848G      1.394     0.9896      1.115         12        320: 100%|██████████| 22/22 [00:02<00:00,  9.40it/s]\n",
            "                 Class     Images  Instances      Box(P          R      mAP50  mAP50-95): 100%|██████████| 2/2 [00:00<00:00, 10.18it/s]\n"
          ]
        },
        {
          "output_type": "stream",
          "name": "stdout",
          "text": [
            "                   all         44         44      0.883      0.859      0.867      0.475\n",
            "\n",
            "      Epoch    GPU_mem   box_loss   cls_loss   dfl_loss  Instances       Size\n"
          ]
        },
        {
          "output_type": "stream",
          "name": "stderr",
          "text": [
            "     16/100     0.865G      1.403     0.9511       1.14         17        320: 100%|██████████| 22/22 [00:03<00:00,  6.76it/s]\n",
            "                 Class     Images  Instances      Box(P          R      mAP50  mAP50-95): 100%|██████████| 2/2 [00:00<00:00,  6.28it/s]"
          ]
        },
        {
          "output_type": "stream",
          "name": "stdout",
          "text": [
            "                   all         44         44      0.752      0.897      0.861      0.465\n"
          ]
        },
        {
          "output_type": "stream",
          "name": "stderr",
          "text": [
            "\n"
          ]
        },
        {
          "output_type": "stream",
          "name": "stdout",
          "text": [
            "\n",
            "      Epoch    GPU_mem   box_loss   cls_loss   dfl_loss  Instances       Size\n"
          ]
        },
        {
          "output_type": "stream",
          "name": "stderr",
          "text": [
            "     17/100     0.883G      1.433     0.9314      1.136         21        320: 100%|██████████| 22/22 [00:02<00:00,  9.52it/s]\n",
            "                 Class     Images  Instances      Box(P          R      mAP50  mAP50-95): 100%|██████████| 2/2 [00:00<00:00, 10.41it/s]"
          ]
        },
        {
          "output_type": "stream",
          "name": "stdout",
          "text": [
            "                   all         44         44      0.799      0.864      0.852      0.416\n"
          ]
        },
        {
          "output_type": "stream",
          "name": "stderr",
          "text": [
            "\n"
          ]
        },
        {
          "output_type": "stream",
          "name": "stdout",
          "text": [
            "\n",
            "      Epoch    GPU_mem   box_loss   cls_loss   dfl_loss  Instances       Size\n"
          ]
        },
        {
          "output_type": "stream",
          "name": "stderr",
          "text": [
            "     18/100     0.898G      1.385      0.916      1.119         14        320: 100%|██████████| 22/22 [00:02<00:00,  9.43it/s]\n",
            "                 Class     Images  Instances      Box(P          R      mAP50  mAP50-95): 100%|██████████| 2/2 [00:00<00:00, 10.11it/s]\n"
          ]
        },
        {
          "output_type": "stream",
          "name": "stdout",
          "text": [
            "                   all         44         44      0.903      0.795       0.85      0.441\n",
            "\n",
            "      Epoch    GPU_mem   box_loss   cls_loss   dfl_loss  Instances       Size\n"
          ]
        },
        {
          "output_type": "stream",
          "name": "stderr",
          "text": [
            "     19/100     0.916G      1.455     0.9463      1.158         12        320: 100%|██████████| 22/22 [00:02<00:00,  9.51it/s]\n",
            "                 Class     Images  Instances      Box(P          R      mAP50  mAP50-95): 100%|██████████| 2/2 [00:00<00:00, 10.26it/s]"
          ]
        },
        {
          "output_type": "stream",
          "name": "stdout",
          "text": [
            "                   all         44         44      0.826       0.86      0.852      0.444\n"
          ]
        },
        {
          "output_type": "stream",
          "name": "stderr",
          "text": [
            "\n"
          ]
        },
        {
          "output_type": "stream",
          "name": "stdout",
          "text": [
            "\n",
            "      Epoch    GPU_mem   box_loss   cls_loss   dfl_loss  Instances       Size\n"
          ]
        },
        {
          "output_type": "stream",
          "name": "stderr",
          "text": [
            "     20/100     0.934G      1.358     0.8859      1.127         19        320: 100%|██████████| 22/22 [00:02<00:00,  7.87it/s]\n",
            "                 Class     Images  Instances      Box(P          R      mAP50  mAP50-95): 100%|██████████| 2/2 [00:00<00:00,  6.66it/s]"
          ]
        },
        {
          "output_type": "stream",
          "name": "stdout",
          "text": [
            "                   all         44         44      0.849      0.841      0.844      0.453\n"
          ]
        },
        {
          "output_type": "stream",
          "name": "stderr",
          "text": [
            "\n"
          ]
        },
        {
          "output_type": "stream",
          "name": "stdout",
          "text": [
            "\n",
            "      Epoch    GPU_mem   box_loss   cls_loss   dfl_loss  Instances       Size\n"
          ]
        },
        {
          "output_type": "stream",
          "name": "stderr",
          "text": [
            "     21/100     0.949G      1.356     0.8824       1.13         18        320: 100%|██████████| 22/22 [00:02<00:00,  8.33it/s]\n",
            "                 Class     Images  Instances      Box(P          R      mAP50  mAP50-95): 100%|██████████| 2/2 [00:00<00:00,  9.75it/s]"
          ]
        },
        {
          "output_type": "stream",
          "name": "stdout",
          "text": [
            "                   all         44         44      0.882      0.886      0.883      0.507\n"
          ]
        },
        {
          "output_type": "stream",
          "name": "stderr",
          "text": [
            "\n"
          ]
        },
        {
          "output_type": "stream",
          "name": "stdout",
          "text": [
            "\n",
            "      Epoch    GPU_mem   box_loss   cls_loss   dfl_loss  Instances       Size\n"
          ]
        },
        {
          "output_type": "stream",
          "name": "stderr",
          "text": [
            "     22/100     0.967G      1.339     0.8365      1.113         16        320: 100%|██████████| 22/22 [00:02<00:00,  9.45it/s]\n",
            "                 Class     Images  Instances      Box(P          R      mAP50  mAP50-95): 100%|██████████| 2/2 [00:00<00:00, 10.10it/s]\n"
          ]
        },
        {
          "output_type": "stream",
          "name": "stdout",
          "text": [
            "                   all         44         44      0.879      0.886      0.895      0.462\n",
            "\n",
            "      Epoch    GPU_mem   box_loss   cls_loss   dfl_loss  Instances       Size\n"
          ]
        },
        {
          "output_type": "stream",
          "name": "stderr",
          "text": [
            "     23/100     0.984G      1.321     0.8384       1.12         17        320: 100%|██████████| 22/22 [00:02<00:00,  9.22it/s]\n",
            "                 Class     Images  Instances      Box(P          R      mAP50  mAP50-95): 100%|██████████| 2/2 [00:00<00:00, 10.27it/s]"
          ]
        },
        {
          "output_type": "stream",
          "name": "stdout",
          "text": [
            "                   all         44         44      0.836      0.927      0.906      0.533\n"
          ]
        },
        {
          "output_type": "stream",
          "name": "stderr",
          "text": [
            "\n"
          ]
        },
        {
          "output_type": "stream",
          "name": "stdout",
          "text": [
            "\n",
            "      Epoch    GPU_mem   box_loss   cls_loss   dfl_loss  Instances       Size\n"
          ]
        },
        {
          "output_type": "stream",
          "name": "stderr",
          "text": [
            "     24/100         1G      1.343     0.8586      1.106         15        320: 100%|██████████| 22/22 [00:02<00:00,  8.78it/s]\n",
            "                 Class     Images  Instances      Box(P          R      mAP50  mAP50-95): 100%|██████████| 2/2 [00:00<00:00,  7.87it/s]"
          ]
        },
        {
          "output_type": "stream",
          "name": "stdout",
          "text": [
            "                   all         44         44      0.872      0.841      0.871       0.47\n"
          ]
        },
        {
          "output_type": "stream",
          "name": "stderr",
          "text": [
            "\n"
          ]
        },
        {
          "output_type": "stream",
          "name": "stdout",
          "text": [
            "\n",
            "      Epoch    GPU_mem   box_loss   cls_loss   dfl_loss  Instances       Size\n"
          ]
        },
        {
          "output_type": "stream",
          "name": "stderr",
          "text": [
            "     25/100      1.02G      1.296     0.8414      1.068         18        320: 100%|██████████| 22/22 [00:03<00:00,  7.15it/s]\n",
            "                 Class     Images  Instances      Box(P          R      mAP50  mAP50-95): 100%|██████████| 2/2 [00:00<00:00, 10.29it/s]"
          ]
        },
        {
          "output_type": "stream",
          "name": "stdout",
          "text": [
            "                   all         44         44      0.972      0.794      0.892      0.506\n"
          ]
        },
        {
          "output_type": "stream",
          "name": "stderr",
          "text": [
            "\n"
          ]
        },
        {
          "output_type": "stream",
          "name": "stdout",
          "text": [
            "\n",
            "      Epoch    GPU_mem   box_loss   cls_loss   dfl_loss  Instances       Size\n"
          ]
        },
        {
          "output_type": "stream",
          "name": "stderr",
          "text": [
            "     26/100      1.04G      1.327     0.8248      1.084         17        320: 100%|██████████| 22/22 [00:02<00:00,  9.35it/s]\n",
            "                 Class     Images  Instances      Box(P          R      mAP50  mAP50-95): 100%|██████████| 2/2 [00:00<00:00, 10.48it/s]"
          ]
        },
        {
          "output_type": "stream",
          "name": "stdout",
          "text": [
            "                   all         44         44      0.918      0.841       0.89      0.503\n"
          ]
        },
        {
          "output_type": "stream",
          "name": "stderr",
          "text": [
            "\n"
          ]
        },
        {
          "output_type": "stream",
          "name": "stdout",
          "text": [
            "\n",
            "      Epoch    GPU_mem   box_loss   cls_loss   dfl_loss  Instances       Size\n"
          ]
        },
        {
          "output_type": "stream",
          "name": "stderr",
          "text": [
            "     27/100      1.05G      1.299      0.836      1.089         23        320: 100%|██████████| 22/22 [00:02<00:00,  9.36it/s]\n",
            "                 Class     Images  Instances      Box(P          R      mAP50  mAP50-95): 100%|██████████| 2/2 [00:00<00:00, 10.35it/s]"
          ]
        },
        {
          "output_type": "stream",
          "name": "stdout",
          "text": [
            "                   all         44         44      0.942      0.864      0.915      0.498\n"
          ]
        },
        {
          "output_type": "stream",
          "name": "stderr",
          "text": [
            "\n"
          ]
        },
        {
          "output_type": "stream",
          "name": "stdout",
          "text": [
            "\n",
            "      Epoch    GPU_mem   box_loss   cls_loss   dfl_loss  Instances       Size\n"
          ]
        },
        {
          "output_type": "stream",
          "name": "stderr",
          "text": [
            "     28/100      1.07G      1.301     0.8303       1.08         23        320: 100%|██████████| 22/22 [00:02<00:00,  9.48it/s]\n",
            "                 Class     Images  Instances      Box(P          R      mAP50  mAP50-95): 100%|██████████| 2/2 [00:00<00:00, 10.39it/s]"
          ]
        },
        {
          "output_type": "stream",
          "name": "stdout",
          "text": [
            "                   all         44         44      0.913      0.886      0.907      0.494\n"
          ]
        },
        {
          "output_type": "stream",
          "name": "stderr",
          "text": [
            "\n"
          ]
        },
        {
          "output_type": "stream",
          "name": "stdout",
          "text": [
            "\n",
            "      Epoch    GPU_mem   box_loss   cls_loss   dfl_loss  Instances       Size\n"
          ]
        },
        {
          "output_type": "stream",
          "name": "stderr",
          "text": [
            "     29/100      1.09G       1.31     0.8062      1.087         22        320: 100%|██████████| 22/22 [00:03<00:00,  6.47it/s]\n",
            "                 Class     Images  Instances      Box(P          R      mAP50  mAP50-95): 100%|██████████| 2/2 [00:00<00:00,  9.49it/s]"
          ]
        },
        {
          "output_type": "stream",
          "name": "stdout",
          "text": [
            "                   all         44         44      0.928      0.883      0.908      0.495\n"
          ]
        },
        {
          "output_type": "stream",
          "name": "stderr",
          "text": [
            "\n"
          ]
        },
        {
          "output_type": "stream",
          "name": "stdout",
          "text": [
            "\n",
            "      Epoch    GPU_mem   box_loss   cls_loss   dfl_loss  Instances       Size\n"
          ]
        },
        {
          "output_type": "stream",
          "name": "stderr",
          "text": [
            "     30/100       1.1G      1.321     0.8121      1.102         10        320: 100%|██████████| 22/22 [00:02<00:00,  9.40it/s]\n",
            "                 Class     Images  Instances      Box(P          R      mAP50  mAP50-95): 100%|██████████| 2/2 [00:00<00:00,  9.94it/s]"
          ]
        },
        {
          "output_type": "stream",
          "name": "stdout",
          "text": [
            "                   all         44         44      0.877      0.886      0.897      0.506\n"
          ]
        },
        {
          "output_type": "stream",
          "name": "stderr",
          "text": [
            "\n"
          ]
        },
        {
          "output_type": "stream",
          "name": "stdout",
          "text": [
            "\n",
            "      Epoch    GPU_mem   box_loss   cls_loss   dfl_loss  Instances       Size\n"
          ]
        },
        {
          "output_type": "stream",
          "name": "stderr",
          "text": [
            "     31/100      1.12G      1.295     0.7925      1.089         17        320: 100%|██████████| 22/22 [00:02<00:00,  9.32it/s]\n",
            "                 Class     Images  Instances      Box(P          R      mAP50  mAP50-95): 100%|██████████| 2/2 [00:00<00:00, 10.28it/s]"
          ]
        },
        {
          "output_type": "stream",
          "name": "stdout",
          "text": [
            "                   all         44         44      0.888      0.901      0.917      0.494\n"
          ]
        },
        {
          "output_type": "stream",
          "name": "stderr",
          "text": [
            "\n"
          ]
        },
        {
          "output_type": "stream",
          "name": "stdout",
          "text": [
            "\n",
            "      Epoch    GPU_mem   box_loss   cls_loss   dfl_loss  Instances       Size\n"
          ]
        },
        {
          "output_type": "stream",
          "name": "stderr",
          "text": [
            "     32/100      1.14G      1.315     0.7956      1.094         16        320: 100%|██████████| 22/22 [00:02<00:00,  9.08it/s]\n",
            "                 Class     Images  Instances      Box(P          R      mAP50  mAP50-95): 100%|██████████| 2/2 [00:00<00:00, 10.32it/s]"
          ]
        },
        {
          "output_type": "stream",
          "name": "stdout",
          "text": [
            "                   all         44         44      0.869      0.902      0.907      0.535\n"
          ]
        },
        {
          "output_type": "stream",
          "name": "stderr",
          "text": [
            "\n"
          ]
        },
        {
          "output_type": "stream",
          "name": "stdout",
          "text": [
            "\n",
            "      Epoch    GPU_mem   box_loss   cls_loss   dfl_loss  Instances       Size\n"
          ]
        },
        {
          "output_type": "stream",
          "name": "stderr",
          "text": [
            "     33/100      1.15G      1.269     0.7883      1.075         20        320: 100%|██████████| 22/22 [00:03<00:00,  6.76it/s]\n",
            "                 Class     Images  Instances      Box(P          R      mAP50  mAP50-95): 100%|██████████| 2/2 [00:00<00:00,  6.66it/s]"
          ]
        },
        {
          "output_type": "stream",
          "name": "stdout",
          "text": [
            "                   all         44         44      0.841      0.841      0.874      0.457\n"
          ]
        },
        {
          "output_type": "stream",
          "name": "stderr",
          "text": [
            "\n"
          ]
        },
        {
          "output_type": "stream",
          "name": "stdout",
          "text": [
            "\n",
            "      Epoch    GPU_mem   box_loss   cls_loss   dfl_loss  Instances       Size\n"
          ]
        },
        {
          "output_type": "stream",
          "name": "stderr",
          "text": [
            "     34/100      1.17G      1.236     0.7702      1.075         15        320: 100%|██████████| 22/22 [00:02<00:00,  9.14it/s]\n",
            "                 Class     Images  Instances      Box(P          R      mAP50  mAP50-95): 100%|██████████| 2/2 [00:00<00:00,  8.60it/s]"
          ]
        },
        {
          "output_type": "stream",
          "name": "stdout",
          "text": [
            "                   all         44         44      0.918      0.841      0.885      0.491\n"
          ]
        },
        {
          "output_type": "stream",
          "name": "stderr",
          "text": [
            "\n"
          ]
        },
        {
          "output_type": "stream",
          "name": "stdout",
          "text": [
            "\n",
            "      Epoch    GPU_mem   box_loss   cls_loss   dfl_loss  Instances       Size\n"
          ]
        },
        {
          "output_type": "stream",
          "name": "stderr",
          "text": [
            "     35/100      1.19G      1.208     0.7459      1.053         11        320: 100%|██████████| 22/22 [00:02<00:00,  9.36it/s]\n",
            "                 Class     Images  Instances      Box(P          R      mAP50  mAP50-95): 100%|██████████| 2/2 [00:00<00:00, 10.23it/s]"
          ]
        },
        {
          "output_type": "stream",
          "name": "stdout",
          "text": [
            "                   all         44         44      0.804      0.886      0.878      0.472\n"
          ]
        },
        {
          "output_type": "stream",
          "name": "stderr",
          "text": [
            "\n"
          ]
        },
        {
          "output_type": "stream",
          "name": "stdout",
          "text": [
            "\n",
            "      Epoch    GPU_mem   box_loss   cls_loss   dfl_loss  Instances       Size\n"
          ]
        },
        {
          "output_type": "stream",
          "name": "stderr",
          "text": [
            "     36/100      1.21G      1.241     0.7437       1.07         16        320: 100%|██████████| 22/22 [00:02<00:00,  9.37it/s]\n",
            "                 Class     Images  Instances      Box(P          R      mAP50  mAP50-95): 100%|██████████| 2/2 [00:00<00:00, 10.09it/s]"
          ]
        },
        {
          "output_type": "stream",
          "name": "stdout",
          "text": [
            "                   all         44         44      0.927      0.864      0.915      0.531\n"
          ]
        },
        {
          "output_type": "stream",
          "name": "stderr",
          "text": [
            "\n"
          ]
        },
        {
          "output_type": "stream",
          "name": "stdout",
          "text": [
            "\n",
            "      Epoch    GPU_mem   box_loss   cls_loss   dfl_loss  Instances       Size\n"
          ]
        },
        {
          "output_type": "stream",
          "name": "stderr",
          "text": [
            "     37/100      1.22G      1.189     0.7207      1.034         16        320: 100%|██████████| 22/22 [00:02<00:00,  7.63it/s]\n",
            "                 Class     Images  Instances      Box(P          R      mAP50  mAP50-95): 100%|██████████| 2/2 [00:00<00:00,  5.77it/s]"
          ]
        },
        {
          "output_type": "stream",
          "name": "stdout",
          "text": [
            "                   all         44         44      0.878      0.909      0.899      0.502\n"
          ]
        },
        {
          "output_type": "stream",
          "name": "stderr",
          "text": [
            "\n"
          ]
        },
        {
          "output_type": "stream",
          "name": "stdout",
          "text": [
            "\n",
            "      Epoch    GPU_mem   box_loss   cls_loss   dfl_loss  Instances       Size\n"
          ]
        },
        {
          "output_type": "stream",
          "name": "stderr",
          "text": [
            "     38/100      1.24G      1.169     0.7056      1.031         23        320: 100%|██████████| 22/22 [00:02<00:00,  9.02it/s]\n",
            "                 Class     Images  Instances      Box(P          R      mAP50  mAP50-95): 100%|██████████| 2/2 [00:00<00:00,  9.67it/s]"
          ]
        },
        {
          "output_type": "stream",
          "name": "stdout",
          "text": [
            "                   all         44         44      0.892      0.909      0.911      0.511\n"
          ]
        },
        {
          "output_type": "stream",
          "name": "stderr",
          "text": [
            "\n"
          ]
        },
        {
          "output_type": "stream",
          "name": "stdout",
          "text": [
            "\n",
            "      Epoch    GPU_mem   box_loss   cls_loss   dfl_loss  Instances       Size\n"
          ]
        },
        {
          "output_type": "stream",
          "name": "stderr",
          "text": [
            "     39/100      1.26G      1.258     0.7441      1.072         17        320: 100%|██████████| 22/22 [00:02<00:00,  9.36it/s]\n",
            "                 Class     Images  Instances      Box(P          R      mAP50  mAP50-95): 100%|██████████| 2/2 [00:00<00:00, 10.32it/s]"
          ]
        },
        {
          "output_type": "stream",
          "name": "stdout",
          "text": [
            "                   all         44         44      0.843      0.852      0.889      0.474\n"
          ]
        },
        {
          "output_type": "stream",
          "name": "stderr",
          "text": [
            "\n"
          ]
        },
        {
          "output_type": "stream",
          "name": "stdout",
          "text": [
            "\n",
            "      Epoch    GPU_mem   box_loss   cls_loss   dfl_loss  Instances       Size\n"
          ]
        },
        {
          "output_type": "stream",
          "name": "stderr",
          "text": [
            "     40/100      1.27G      1.229      0.746      1.057         22        320: 100%|██████████| 22/22 [00:02<00:00,  9.29it/s]\n",
            "                 Class     Images  Instances      Box(P          R      mAP50  mAP50-95): 100%|██████████| 2/2 [00:00<00:00,  9.98it/s]"
          ]
        },
        {
          "output_type": "stream",
          "name": "stdout",
          "text": [
            "                   all         44         44      0.863      0.864      0.902      0.533\n"
          ]
        },
        {
          "output_type": "stream",
          "name": "stderr",
          "text": [
            "\n"
          ]
        },
        {
          "output_type": "stream",
          "name": "stdout",
          "text": [
            "\n",
            "      Epoch    GPU_mem   box_loss   cls_loss   dfl_loss  Instances       Size\n"
          ]
        },
        {
          "output_type": "stream",
          "name": "stderr",
          "text": [
            "     41/100      1.29G      1.178     0.7088      1.038         17        320: 100%|██████████| 22/22 [00:02<00:00,  8.57it/s]\n",
            "                 Class     Images  Instances      Box(P          R      mAP50  mAP50-95): 100%|██████████| 2/2 [00:00<00:00,  7.30it/s]"
          ]
        },
        {
          "output_type": "stream",
          "name": "stdout",
          "text": [
            "                   all         44         44      0.871      0.918      0.931       0.52\n"
          ]
        },
        {
          "output_type": "stream",
          "name": "stderr",
          "text": [
            "\n"
          ]
        },
        {
          "output_type": "stream",
          "name": "stdout",
          "text": [
            "\n",
            "      Epoch    GPU_mem   box_loss   cls_loss   dfl_loss  Instances       Size\n"
          ]
        },
        {
          "output_type": "stream",
          "name": "stderr",
          "text": [
            "     42/100      1.31G      1.208     0.6977      1.042         17        320: 100%|██████████| 22/22 [00:02<00:00,  7.74it/s]\n",
            "                 Class     Images  Instances      Box(P          R      mAP50  mAP50-95): 100%|██████████| 2/2 [00:00<00:00, 10.23it/s]"
          ]
        },
        {
          "output_type": "stream",
          "name": "stdout",
          "text": [
            "                   all         44         44       0.85      0.932      0.901      0.519\n"
          ]
        },
        {
          "output_type": "stream",
          "name": "stderr",
          "text": [
            "\n"
          ]
        },
        {
          "output_type": "stream",
          "name": "stdout",
          "text": [
            "\n",
            "      Epoch    GPU_mem   box_loss   cls_loss   dfl_loss  Instances       Size\n"
          ]
        },
        {
          "output_type": "stream",
          "name": "stderr",
          "text": [
            "     43/100      1.32G      1.205     0.7056      1.056         18        320: 100%|██████████| 22/22 [00:02<00:00,  9.20it/s]\n",
            "                 Class     Images  Instances      Box(P          R      mAP50  mAP50-95): 100%|██████████| 2/2 [00:00<00:00, 10.26it/s]"
          ]
        },
        {
          "output_type": "stream",
          "name": "stdout",
          "text": [
            "                   all         44         44        0.9      0.909      0.879      0.509\n"
          ]
        },
        {
          "output_type": "stream",
          "name": "stderr",
          "text": [
            "\n"
          ]
        },
        {
          "output_type": "stream",
          "name": "stdout",
          "text": [
            "\n",
            "      Epoch    GPU_mem   box_loss   cls_loss   dfl_loss  Instances       Size\n"
          ]
        },
        {
          "output_type": "stream",
          "name": "stderr",
          "text": [
            "     44/100      1.34G      1.196      0.685      1.038         15        320: 100%|██████████| 22/22 [00:02<00:00,  9.35it/s]\n",
            "                 Class     Images  Instances      Box(P          R      mAP50  mAP50-95): 100%|██████████| 2/2 [00:00<00:00, 10.09it/s]\n"
          ]
        },
        {
          "output_type": "stream",
          "name": "stdout",
          "text": [
            "                   all         44         44      0.935      0.841      0.912      0.568\n",
            "\n",
            "      Epoch    GPU_mem   box_loss   cls_loss   dfl_loss  Instances       Size\n"
          ]
        },
        {
          "output_type": "stream",
          "name": "stderr",
          "text": [
            "     45/100      1.36G      1.135     0.6887      1.009         19        320: 100%|██████████| 22/22 [00:02<00:00,  9.11it/s]\n",
            "                 Class     Images  Instances      Box(P          R      mAP50  mAP50-95): 100%|██████████| 2/2 [00:00<00:00,  6.72it/s]"
          ]
        },
        {
          "output_type": "stream",
          "name": "stdout",
          "text": [
            "                   all         44         44      0.957      0.864      0.918      0.545\n"
          ]
        },
        {
          "output_type": "stream",
          "name": "stderr",
          "text": [
            "\n"
          ]
        },
        {
          "output_type": "stream",
          "name": "stdout",
          "text": [
            "\n",
            "      Epoch    GPU_mem   box_loss   cls_loss   dfl_loss  Instances       Size\n"
          ]
        },
        {
          "output_type": "stream",
          "name": "stderr",
          "text": [
            "     46/100      1.38G      1.207       0.73      1.041         17        320: 100%|██████████| 22/22 [00:03<00:00,  7.06it/s]\n",
            "                 Class     Images  Instances      Box(P          R      mAP50  mAP50-95): 100%|██████████| 2/2 [00:00<00:00, 10.48it/s]"
          ]
        },
        {
          "output_type": "stream",
          "name": "stdout",
          "text": [
            "                   all         44         44      0.911      0.841      0.902      0.541\n"
          ]
        },
        {
          "output_type": "stream",
          "name": "stderr",
          "text": [
            "\n"
          ]
        },
        {
          "output_type": "stream",
          "name": "stdout",
          "text": [
            "\n",
            "      Epoch    GPU_mem   box_loss   cls_loss   dfl_loss  Instances       Size\n"
          ]
        },
        {
          "output_type": "stream",
          "name": "stderr",
          "text": [
            "     47/100      1.39G      1.194     0.7174      1.039         15        320: 100%|██████████| 22/22 [00:02<00:00,  9.33it/s]\n",
            "                 Class     Images  Instances      Box(P          R      mAP50  mAP50-95): 100%|██████████| 2/2 [00:00<00:00, 10.07it/s]\n"
          ]
        },
        {
          "output_type": "stream",
          "name": "stdout",
          "text": [
            "                   all         44         44      0.918      0.886      0.908      0.534\n",
            "\n",
            "      Epoch    GPU_mem   box_loss   cls_loss   dfl_loss  Instances       Size\n"
          ]
        },
        {
          "output_type": "stream",
          "name": "stderr",
          "text": [
            "     48/100      1.41G      1.229     0.7037      1.036         13        320: 100%|██████████| 22/22 [00:02<00:00,  9.22it/s]\n",
            "                 Class     Images  Instances      Box(P          R      mAP50  mAP50-95): 100%|██████████| 2/2 [00:00<00:00, 10.09it/s]\n"
          ]
        },
        {
          "output_type": "stream",
          "name": "stdout",
          "text": [
            "                   all         44         44      0.844      0.909        0.9      0.524\n",
            "\n",
            "      Epoch    GPU_mem   box_loss   cls_loss   dfl_loss  Instances       Size\n"
          ]
        },
        {
          "output_type": "stream",
          "name": "stderr",
          "text": [
            "     49/100      1.43G      1.164     0.6965      1.035         16        320: 100%|██████████| 22/22 [00:02<00:00,  9.37it/s]\n",
            "                 Class     Images  Instances      Box(P          R      mAP50  mAP50-95): 100%|██████████| 2/2 [00:00<00:00, 10.32it/s]"
          ]
        },
        {
          "output_type": "stream",
          "name": "stdout",
          "text": [
            "                   all         44         44       0.95      0.818      0.903      0.554\n"
          ]
        },
        {
          "output_type": "stream",
          "name": "stderr",
          "text": [
            "\n"
          ]
        },
        {
          "output_type": "stream",
          "name": "stdout",
          "text": [
            "\n",
            "      Epoch    GPU_mem   box_loss   cls_loss   dfl_loss  Instances       Size\n"
          ]
        },
        {
          "output_type": "stream",
          "name": "stderr",
          "text": [
            "     50/100      1.45G      1.162     0.6554      1.012         18        320: 100%|██████████| 22/22 [00:03<00:00,  6.51it/s]\n",
            "                 Class     Images  Instances      Box(P          R      mAP50  mAP50-95): 100%|██████████| 2/2 [00:00<00:00,  9.97it/s]"
          ]
        },
        {
          "output_type": "stream",
          "name": "stdout",
          "text": [
            "                   all         44         44       0.86      0.841      0.901      0.532\n"
          ]
        },
        {
          "output_type": "stream",
          "name": "stderr",
          "text": [
            "\n"
          ]
        },
        {
          "output_type": "stream",
          "name": "stdout",
          "text": [
            "\n",
            "      Epoch    GPU_mem   box_loss   cls_loss   dfl_loss  Instances       Size\n"
          ]
        },
        {
          "output_type": "stream",
          "name": "stderr",
          "text": [
            "     51/100      1.46G      1.192     0.7198      1.034         20        320: 100%|██████████| 22/22 [00:02<00:00,  9.44it/s]\n",
            "                 Class     Images  Instances      Box(P          R      mAP50  mAP50-95): 100%|██████████| 2/2 [00:00<00:00, 10.36it/s]"
          ]
        },
        {
          "output_type": "stream",
          "name": "stdout",
          "text": [
            "                   all         44         44      0.863      0.864      0.902       0.51\n"
          ]
        },
        {
          "output_type": "stream",
          "name": "stderr",
          "text": [
            "\n"
          ]
        },
        {
          "output_type": "stream",
          "name": "stdout",
          "text": [
            "\n",
            "      Epoch    GPU_mem   box_loss   cls_loss   dfl_loss  Instances       Size\n"
          ]
        },
        {
          "output_type": "stream",
          "name": "stderr",
          "text": [
            "     52/100      1.48G      1.189     0.6878      1.025         16        320: 100%|██████████| 22/22 [00:02<00:00,  9.26it/s]\n",
            "                 Class     Images  Instances      Box(P          R      mAP50  mAP50-95): 100%|██████████| 2/2 [00:00<00:00,  9.43it/s]"
          ]
        },
        {
          "output_type": "stream",
          "name": "stdout",
          "text": [
            "                   all         44         44      0.924      0.826      0.911      0.551\n"
          ]
        },
        {
          "output_type": "stream",
          "name": "stderr",
          "text": [
            "\n"
          ]
        },
        {
          "output_type": "stream",
          "name": "stdout",
          "text": [
            "\n",
            "      Epoch    GPU_mem   box_loss   cls_loss   dfl_loss  Instances       Size\n"
          ]
        },
        {
          "output_type": "stream",
          "name": "stderr",
          "text": [
            "     53/100      1.49G      1.162     0.6935       1.02         19        320: 100%|██████████| 22/22 [00:02<00:00,  9.42it/s]\n",
            "                 Class     Images  Instances      Box(P          R      mAP50  mAP50-95): 100%|██████████| 2/2 [00:00<00:00,  9.86it/s]"
          ]
        },
        {
          "output_type": "stream",
          "name": "stdout",
          "text": [
            "                   all         44         44      0.907      0.889      0.924      0.538\n"
          ]
        },
        {
          "output_type": "stream",
          "name": "stderr",
          "text": [
            "\n"
          ]
        },
        {
          "output_type": "stream",
          "name": "stdout",
          "text": [
            "\n",
            "      Epoch    GPU_mem   box_loss   cls_loss   dfl_loss  Instances       Size\n"
          ]
        },
        {
          "output_type": "stream",
          "name": "stderr",
          "text": [
            "     54/100      1.51G      1.139     0.6742      1.023         19        320: 100%|██████████| 22/22 [00:03<00:00,  6.42it/s]\n",
            "                 Class     Images  Instances      Box(P          R      mAP50  mAP50-95): 100%|██████████| 2/2 [00:00<00:00, 10.16it/s]"
          ]
        },
        {
          "output_type": "stream",
          "name": "stdout",
          "text": [
            "                   all         44         44      0.869      0.903        0.9      0.568\n"
          ]
        },
        {
          "output_type": "stream",
          "name": "stderr",
          "text": [
            "\n"
          ]
        },
        {
          "output_type": "stream",
          "name": "stdout",
          "text": [
            "\n",
            "      Epoch    GPU_mem   box_loss   cls_loss   dfl_loss  Instances       Size\n"
          ]
        },
        {
          "output_type": "stream",
          "name": "stderr",
          "text": [
            "     55/100      1.53G       1.14     0.6595       1.03         12        320: 100%|██████████| 22/22 [00:02<00:00,  9.43it/s]\n",
            "                 Class     Images  Instances      Box(P          R      mAP50  mAP50-95): 100%|██████████| 2/2 [00:00<00:00,  9.50it/s]"
          ]
        },
        {
          "output_type": "stream",
          "name": "stdout",
          "text": [
            "                   all         44         44      0.901      0.886      0.907      0.553\n"
          ]
        },
        {
          "output_type": "stream",
          "name": "stderr",
          "text": [
            "\n"
          ]
        },
        {
          "output_type": "stream",
          "name": "stdout",
          "text": [
            "\n",
            "      Epoch    GPU_mem   box_loss   cls_loss   dfl_loss  Instances       Size\n"
          ]
        },
        {
          "output_type": "stream",
          "name": "stderr",
          "text": [
            "     56/100      1.55G       1.13     0.6775      1.026         18        320: 100%|██████████| 22/22 [00:02<00:00,  9.23it/s]\n",
            "                 Class     Images  Instances      Box(P          R      mAP50  mAP50-95): 100%|██████████| 2/2 [00:00<00:00, 10.05it/s]"
          ]
        },
        {
          "output_type": "stream",
          "name": "stdout",
          "text": [
            "                   all         44         44      0.897      0.841      0.884      0.541\n"
          ]
        },
        {
          "output_type": "stream",
          "name": "stderr",
          "text": [
            "\n"
          ]
        },
        {
          "output_type": "stream",
          "name": "stdout",
          "text": [
            "\n",
            "      Epoch    GPU_mem   box_loss   cls_loss   dfl_loss  Instances       Size\n"
          ]
        },
        {
          "output_type": "stream",
          "name": "stderr",
          "text": [
            "     57/100      1.56G        1.1     0.6462          1         16        320: 100%|██████████| 22/22 [00:02<00:00,  9.24it/s]\n",
            "                 Class     Images  Instances      Box(P          R      mAP50  mAP50-95): 100%|██████████| 2/2 [00:00<00:00, 10.27it/s]"
          ]
        },
        {
          "output_type": "stream",
          "name": "stdout",
          "text": [
            "                   all         44         44      0.899      0.864      0.894      0.527\n"
          ]
        },
        {
          "output_type": "stream",
          "name": "stderr",
          "text": [
            "\n"
          ]
        },
        {
          "output_type": "stream",
          "name": "stdout",
          "text": [
            "\n",
            "      Epoch    GPU_mem   box_loss   cls_loss   dfl_loss  Instances       Size\n"
          ]
        },
        {
          "output_type": "stream",
          "name": "stderr",
          "text": [
            "     58/100      1.58G       1.12     0.6441     0.9964         17        320: 100%|██████████| 22/22 [00:03<00:00,  6.71it/s]\n",
            "                 Class     Images  Instances      Box(P          R      mAP50  mAP50-95): 100%|██████████| 2/2 [00:00<00:00,  6.38it/s]"
          ]
        },
        {
          "output_type": "stream",
          "name": "stdout",
          "text": [
            "                   all         44         44      0.926      0.858      0.915      0.519\n"
          ]
        },
        {
          "output_type": "stream",
          "name": "stderr",
          "text": [
            "\n"
          ]
        },
        {
          "output_type": "stream",
          "name": "stdout",
          "text": [
            "\n",
            "      Epoch    GPU_mem   box_loss   cls_loss   dfl_loss  Instances       Size\n"
          ]
        },
        {
          "output_type": "stream",
          "name": "stderr",
          "text": [
            "     59/100       1.6G      1.082     0.6192       1.02         19        320: 100%|██████████| 22/22 [00:02<00:00,  9.31it/s]\n",
            "                 Class     Images  Instances      Box(P          R      mAP50  mAP50-95): 100%|██████████| 2/2 [00:00<00:00, 10.16it/s]"
          ]
        },
        {
          "output_type": "stream",
          "name": "stdout",
          "text": [
            "                   all         44         44      0.906      0.878      0.911       0.52\n"
          ]
        },
        {
          "output_type": "stream",
          "name": "stderr",
          "text": [
            "\n"
          ]
        },
        {
          "output_type": "stream",
          "name": "stdout",
          "text": [
            "\n",
            "      Epoch    GPU_mem   box_loss   cls_loss   dfl_loss  Instances       Size\n"
          ]
        },
        {
          "output_type": "stream",
          "name": "stderr",
          "text": [
            "     60/100      1.62G       1.11     0.6342      1.015         17        320: 100%|██████████| 22/22 [00:02<00:00,  9.19it/s]\n",
            "                 Class     Images  Instances      Box(P          R      mAP50  mAP50-95): 100%|██████████| 2/2 [00:00<00:00, 10.47it/s]"
          ]
        },
        {
          "output_type": "stream",
          "name": "stdout",
          "text": [
            "                   all         44         44      0.949      0.864      0.912      0.532\n"
          ]
        },
        {
          "output_type": "stream",
          "name": "stderr",
          "text": [
            "\n"
          ]
        },
        {
          "output_type": "stream",
          "name": "stdout",
          "text": [
            "\n",
            "      Epoch    GPU_mem   box_loss   cls_loss   dfl_loss  Instances       Size\n"
          ]
        },
        {
          "output_type": "stream",
          "name": "stderr",
          "text": [
            "     61/100      1.63G       1.08     0.6552     0.9822         17        320: 100%|██████████| 22/22 [00:02<00:00,  9.45it/s]\n",
            "                 Class     Images  Instances      Box(P          R      mAP50  mAP50-95): 100%|██████████| 2/2 [00:00<00:00,  9.59it/s]"
          ]
        },
        {
          "output_type": "stream",
          "name": "stdout",
          "text": [
            "                   all         44         44      0.921      0.864      0.914      0.523\n"
          ]
        },
        {
          "output_type": "stream",
          "name": "stderr",
          "text": [
            "\n"
          ]
        },
        {
          "output_type": "stream",
          "name": "stdout",
          "text": [
            "\n",
            "      Epoch    GPU_mem   box_loss   cls_loss   dfl_loss  Instances       Size\n"
          ]
        },
        {
          "output_type": "stream",
          "name": "stderr",
          "text": [
            "     62/100      1.65G      1.074     0.6249          1         15        320: 100%|██████████| 22/22 [00:02<00:00,  7.50it/s]\n",
            "                 Class     Images  Instances      Box(P          R      mAP50  mAP50-95): 100%|██████████| 2/2 [00:00<00:00,  7.32it/s]"
          ]
        },
        {
          "output_type": "stream",
          "name": "stdout",
          "text": [
            "                   all         44         44      0.922      0.864      0.925      0.512\n"
          ]
        },
        {
          "output_type": "stream",
          "name": "stderr",
          "text": [
            "\n"
          ]
        },
        {
          "output_type": "stream",
          "name": "stdout",
          "text": [
            "\n",
            "      Epoch    GPU_mem   box_loss   cls_loss   dfl_loss  Instances       Size\n"
          ]
        },
        {
          "output_type": "stream",
          "name": "stderr",
          "text": [
            "     63/100      1.67G      1.097     0.6361      1.025         14        320: 100%|██████████| 22/22 [00:02<00:00,  8.48it/s]\n",
            "                 Class     Images  Instances      Box(P          R      mAP50  mAP50-95): 100%|██████████| 2/2 [00:00<00:00, 10.21it/s]\n"
          ]
        },
        {
          "output_type": "stream",
          "name": "stdout",
          "text": [
            "                   all         44         44      0.925      0.864      0.926      0.518\n",
            "\n",
            "      Epoch    GPU_mem   box_loss   cls_loss   dfl_loss  Instances       Size\n"
          ]
        },
        {
          "output_type": "stream",
          "name": "stderr",
          "text": [
            "     64/100      1.68G      1.062     0.6085     0.9954         18        320: 100%|██████████| 22/22 [00:02<00:00,  9.13it/s]\n",
            "                 Class     Images  Instances      Box(P          R      mAP50  mAP50-95): 100%|██████████| 2/2 [00:00<00:00,  9.50it/s]"
          ]
        },
        {
          "output_type": "stream",
          "name": "stdout",
          "text": [
            "                   all         44         44      0.928      0.875      0.905      0.517\n"
          ]
        },
        {
          "output_type": "stream",
          "name": "stderr",
          "text": [
            "\n"
          ]
        },
        {
          "output_type": "stream",
          "name": "stdout",
          "text": [
            "\n",
            "      Epoch    GPU_mem   box_loss   cls_loss   dfl_loss  Instances       Size\n"
          ]
        },
        {
          "output_type": "stream",
          "name": "stderr",
          "text": [
            "     65/100       1.7G      1.074     0.6047     0.9925         17        320: 100%|██████████| 22/22 [00:02<00:00,  9.32it/s]\n",
            "                 Class     Images  Instances      Box(P          R      mAP50  mAP50-95): 100%|██████████| 2/2 [00:00<00:00, 10.61it/s]\n"
          ]
        },
        {
          "output_type": "stream",
          "name": "stdout",
          "text": [
            "                   all         44         44      0.883      0.858      0.864      0.535\n",
            "\n",
            "      Epoch    GPU_mem   box_loss   cls_loss   dfl_loss  Instances       Size\n"
          ]
        },
        {
          "output_type": "stream",
          "name": "stderr",
          "text": [
            "     66/100      1.72G      1.077     0.6124      1.009         19        320: 100%|██████████| 22/22 [00:02<00:00,  8.25it/s]\n",
            "                 Class     Images  Instances      Box(P          R      mAP50  mAP50-95): 100%|██████████| 2/2 [00:00<00:00,  7.54it/s]"
          ]
        },
        {
          "output_type": "stream",
          "name": "stdout",
          "text": [
            "                   all         44         44      0.844      0.861      0.856      0.543\n"
          ]
        },
        {
          "output_type": "stream",
          "name": "stderr",
          "text": [
            "\n"
          ]
        },
        {
          "output_type": "stream",
          "name": "stdout",
          "text": [
            "\n",
            "      Epoch    GPU_mem   box_loss   cls_loss   dfl_loss  Instances       Size\n"
          ]
        },
        {
          "output_type": "stream",
          "name": "stderr",
          "text": [
            "     67/100      1.73G      1.076     0.6227     0.9996         14        320: 100%|██████████| 22/22 [00:02<00:00,  7.71it/s]\n",
            "                 Class     Images  Instances      Box(P          R      mAP50  mAP50-95): 100%|██████████| 2/2 [00:00<00:00, 10.13it/s]"
          ]
        },
        {
          "output_type": "stream",
          "name": "stdout",
          "text": [
            "                   all         44         44      0.843      0.886      0.902       0.56\n"
          ]
        },
        {
          "output_type": "stream",
          "name": "stderr",
          "text": [
            "\n"
          ]
        },
        {
          "output_type": "stream",
          "name": "stdout",
          "text": [
            "\n",
            "      Epoch    GPU_mem   box_loss   cls_loss   dfl_loss  Instances       Size\n"
          ]
        },
        {
          "output_type": "stream",
          "name": "stderr",
          "text": [
            "     68/100      1.75G      1.065     0.6162      1.004         18        320: 100%|██████████| 22/22 [00:02<00:00,  9.30it/s]\n",
            "                 Class     Images  Instances      Box(P          R      mAP50  mAP50-95): 100%|██████████| 2/2 [00:00<00:00, 10.49it/s]"
          ]
        },
        {
          "output_type": "stream",
          "name": "stdout",
          "text": [
            "                   all         44         44      0.868      0.932      0.939      0.552\n"
          ]
        },
        {
          "output_type": "stream",
          "name": "stderr",
          "text": [
            "\n"
          ]
        },
        {
          "output_type": "stream",
          "name": "stdout",
          "text": [
            "\n",
            "      Epoch    GPU_mem   box_loss   cls_loss   dfl_loss  Instances       Size\n"
          ]
        },
        {
          "output_type": "stream",
          "name": "stderr",
          "text": [
            "     69/100      1.77G      1.042     0.5902     0.9909         21        320: 100%|██████████| 22/22 [00:02<00:00,  9.42it/s]\n",
            "                 Class     Images  Instances      Box(P          R      mAP50  mAP50-95): 100%|██████████| 2/2 [00:00<00:00,  9.41it/s]"
          ]
        },
        {
          "output_type": "stream",
          "name": "stdout",
          "text": [
            "                   all         44         44      0.864      0.909      0.943       0.56\n"
          ]
        },
        {
          "output_type": "stream",
          "name": "stderr",
          "text": [
            "\n"
          ]
        },
        {
          "output_type": "stream",
          "name": "stdout",
          "text": [
            "\n",
            "      Epoch    GPU_mem   box_loss   cls_loss   dfl_loss  Instances       Size\n"
          ]
        },
        {
          "output_type": "stream",
          "name": "stderr",
          "text": [
            "     70/100      1.79G      1.046     0.5868     0.9888         16        320: 100%|██████████| 22/22 [00:02<00:00,  9.20it/s]\n",
            "                 Class     Images  Instances      Box(P          R      mAP50  mAP50-95): 100%|██████████| 2/2 [00:00<00:00,  7.14it/s]"
          ]
        },
        {
          "output_type": "stream",
          "name": "stdout",
          "text": [
            "                   all         44         44      0.903      0.864      0.918      0.542\n"
          ]
        },
        {
          "output_type": "stream",
          "name": "stderr",
          "text": [
            "\n"
          ]
        },
        {
          "output_type": "stream",
          "name": "stdout",
          "text": [
            "\n",
            "      Epoch    GPU_mem   box_loss   cls_loss   dfl_loss  Instances       Size\n"
          ]
        },
        {
          "output_type": "stream",
          "name": "stderr",
          "text": [
            "     71/100       1.8G      1.013     0.5778     0.9877         18        320: 100%|██████████| 22/22 [00:03<00:00,  7.03it/s]\n",
            "                 Class     Images  Instances      Box(P          R      mAP50  mAP50-95): 100%|██████████| 2/2 [00:00<00:00, 10.57it/s]"
          ]
        },
        {
          "output_type": "stream",
          "name": "stdout",
          "text": [
            "                   all         44         44      0.946      0.841      0.883      0.545\n"
          ]
        },
        {
          "output_type": "stream",
          "name": "stderr",
          "text": [
            "\n"
          ]
        },
        {
          "output_type": "stream",
          "name": "stdout",
          "text": [
            "\n",
            "      Epoch    GPU_mem   box_loss   cls_loss   dfl_loss  Instances       Size\n"
          ]
        },
        {
          "output_type": "stream",
          "name": "stderr",
          "text": [
            "     72/100      1.82G      1.044     0.5835     0.9971         16        320: 100%|██████████| 22/22 [00:02<00:00,  9.34it/s]\n",
            "                 Class     Images  Instances      Box(P          R      mAP50  mAP50-95): 100%|██████████| 2/2 [00:00<00:00, 10.23it/s]"
          ]
        },
        {
          "output_type": "stream",
          "name": "stdout",
          "text": [
            "                   all         44         44      0.862      0.886      0.895      0.539\n"
          ]
        },
        {
          "output_type": "stream",
          "name": "stderr",
          "text": [
            "\n"
          ]
        },
        {
          "output_type": "stream",
          "name": "stdout",
          "text": [
            "\n",
            "      Epoch    GPU_mem   box_loss   cls_loss   dfl_loss  Instances       Size\n"
          ]
        },
        {
          "output_type": "stream",
          "name": "stderr",
          "text": [
            "     73/100      1.84G       1.05     0.5884     0.9814         24        320: 100%|██████████| 22/22 [00:02<00:00,  9.36it/s]\n",
            "                 Class     Images  Instances      Box(P          R      mAP50  mAP50-95): 100%|██████████| 2/2 [00:00<00:00, 10.70it/s]\n"
          ]
        },
        {
          "output_type": "stream",
          "name": "stdout",
          "text": [
            "                   all         44         44      0.882      0.886      0.899      0.504\n",
            "\n",
            "      Epoch    GPU_mem   box_loss   cls_loss   dfl_loss  Instances       Size\n"
          ]
        },
        {
          "output_type": "stream",
          "name": "stderr",
          "text": [
            "     74/100      1.85G      1.023     0.6002     0.9794         24        320: 100%|██████████| 22/22 [00:02<00:00,  9.20it/s]\n",
            "                 Class     Images  Instances      Box(P          R      mAP50  mAP50-95): 100%|██████████| 2/2 [00:00<00:00,  8.75it/s]"
          ]
        },
        {
          "output_type": "stream",
          "name": "stdout",
          "text": [
            "                   all         44         44      0.858      0.932      0.899      0.498\n"
          ]
        },
        {
          "output_type": "stream",
          "name": "stderr",
          "text": [
            "\n"
          ]
        },
        {
          "output_type": "stream",
          "name": "stdout",
          "text": [
            "\n",
            "      Epoch    GPU_mem   box_loss   cls_loss   dfl_loss  Instances       Size\n"
          ]
        },
        {
          "output_type": "stream",
          "name": "stderr",
          "text": [
            "     75/100      1.87G      1.016     0.5908     0.9686         22        320: 100%|██████████| 22/22 [00:03<00:00,  6.51it/s]\n",
            "                 Class     Images  Instances      Box(P          R      mAP50  mAP50-95): 100%|██████████| 2/2 [00:00<00:00, 10.25it/s]"
          ]
        },
        {
          "output_type": "stream",
          "name": "stdout",
          "text": [
            "                   all         44         44      0.876      0.841      0.904       0.52\n"
          ]
        },
        {
          "output_type": "stream",
          "name": "stderr",
          "text": [
            "\n"
          ]
        },
        {
          "output_type": "stream",
          "name": "stdout",
          "text": [
            "\n",
            "      Epoch    GPU_mem   box_loss   cls_loss   dfl_loss  Instances       Size\n"
          ]
        },
        {
          "output_type": "stream",
          "name": "stderr",
          "text": [
            "     76/100      1.89G      1.026     0.5807     0.9792         17        320: 100%|██████████| 22/22 [00:02<00:00,  9.39it/s]\n",
            "                 Class     Images  Instances      Box(P          R      mAP50  mAP50-95): 100%|██████████| 2/2 [00:00<00:00, 10.35it/s]"
          ]
        },
        {
          "output_type": "stream",
          "name": "stdout",
          "text": [
            "                   all         44         44      0.901      0.828      0.885      0.535\n"
          ]
        },
        {
          "output_type": "stream",
          "name": "stderr",
          "text": [
            "\n"
          ]
        },
        {
          "output_type": "stream",
          "name": "stdout",
          "text": [
            "\n",
            "      Epoch    GPU_mem   box_loss   cls_loss   dfl_loss  Instances       Size\n"
          ]
        },
        {
          "output_type": "stream",
          "name": "stderr",
          "text": [
            "     77/100       1.9G      1.007     0.5939     0.9691         15        320: 100%|██████████| 22/22 [00:02<00:00,  9.17it/s]\n",
            "                 Class     Images  Instances      Box(P          R      mAP50  mAP50-95): 100%|██████████| 2/2 [00:00<00:00, 10.42it/s]"
          ]
        },
        {
          "output_type": "stream",
          "name": "stdout",
          "text": [
            "                   all         44         44      0.866      0.884      0.897      0.542\n"
          ]
        },
        {
          "output_type": "stream",
          "name": "stderr",
          "text": [
            "\n"
          ]
        },
        {
          "output_type": "stream",
          "name": "stdout",
          "text": [
            "\n",
            "      Epoch    GPU_mem   box_loss   cls_loss   dfl_loss  Instances       Size\n"
          ]
        },
        {
          "output_type": "stream",
          "name": "stderr",
          "text": [
            "     78/100      1.92G      1.026     0.5796     0.9755         19        320: 100%|██████████| 22/22 [00:02<00:00,  9.46it/s]\n",
            "                 Class     Images  Instances      Box(P          R      mAP50  mAP50-95): 100%|██████████| 2/2 [00:00<00:00, 10.61it/s]"
          ]
        },
        {
          "output_type": "stream",
          "name": "stdout",
          "text": [
            "                   all         44         44      0.867      0.818      0.867      0.533\n"
          ]
        },
        {
          "output_type": "stream",
          "name": "stderr",
          "text": [
            "\n"
          ]
        },
        {
          "output_type": "stream",
          "name": "stdout",
          "text": [
            "\n",
            "      Epoch    GPU_mem   box_loss   cls_loss   dfl_loss  Instances       Size\n"
          ]
        },
        {
          "output_type": "stream",
          "name": "stderr",
          "text": [
            "     79/100      1.94G      1.045     0.5776     0.9935         17        320: 100%|██████████| 22/22 [00:03<00:00,  6.63it/s]\n",
            "                 Class     Images  Instances      Box(P          R      mAP50  mAP50-95): 100%|██████████| 2/2 [00:00<00:00,  9.22it/s]"
          ]
        },
        {
          "output_type": "stream",
          "name": "stdout",
          "text": [
            "                   all         44         44      0.863      0.886      0.909      0.549\n"
          ]
        },
        {
          "output_type": "stream",
          "name": "stderr",
          "text": [
            "\n"
          ]
        },
        {
          "output_type": "stream",
          "name": "stdout",
          "text": [
            "\n",
            "      Epoch    GPU_mem   box_loss   cls_loss   dfl_loss  Instances       Size\n"
          ]
        },
        {
          "output_type": "stream",
          "name": "stderr",
          "text": [
            "     80/100      1.96G      1.005     0.5722     0.9739         24        320: 100%|██████████| 22/22 [00:02<00:00,  9.37it/s]\n",
            "                 Class     Images  Instances      Box(P          R      mAP50  mAP50-95): 100%|██████████| 2/2 [00:00<00:00,  9.45it/s]"
          ]
        },
        {
          "output_type": "stream",
          "name": "stdout",
          "text": [
            "                   all         44         44      0.935      0.818      0.894      0.536\n"
          ]
        },
        {
          "output_type": "stream",
          "name": "stderr",
          "text": [
            "\n"
          ]
        },
        {
          "output_type": "stream",
          "name": "stdout",
          "text": [
            "\n",
            "      Epoch    GPU_mem   box_loss   cls_loss   dfl_loss  Instances       Size\n"
          ]
        },
        {
          "output_type": "stream",
          "name": "stderr",
          "text": [
            "     81/100      1.97G     0.9777     0.5657     0.9667         16        320: 100%|██████████| 22/22 [00:02<00:00,  9.41it/s]\n",
            "                 Class     Images  Instances      Box(P          R      mAP50  mAP50-95): 100%|██████████| 2/2 [00:00<00:00, 10.38it/s]"
          ]
        },
        {
          "output_type": "stream",
          "name": "stdout",
          "text": [
            "                   all         44         44      0.857      0.886      0.896      0.509\n"
          ]
        },
        {
          "output_type": "stream",
          "name": "stderr",
          "text": [
            "\n"
          ]
        },
        {
          "output_type": "stream",
          "name": "stdout",
          "text": [
            "\n",
            "      Epoch    GPU_mem   box_loss   cls_loss   dfl_loss  Instances       Size\n"
          ]
        },
        {
          "output_type": "stream",
          "name": "stderr",
          "text": [
            "     82/100      1.99G      0.971     0.5549     0.9655         20        320: 100%|██████████| 22/22 [00:02<00:00,  9.07it/s]\n",
            "                 Class     Images  Instances      Box(P          R      mAP50  mAP50-95): 100%|██████████| 2/2 [00:00<00:00, 10.12it/s]\n"
          ]
        },
        {
          "output_type": "stream",
          "name": "stdout",
          "text": [
            "                   all         44         44      0.916      0.864      0.906      0.539\n",
            "\n",
            "      Epoch    GPU_mem   box_loss   cls_loss   dfl_loss  Instances       Size\n"
          ]
        },
        {
          "output_type": "stream",
          "name": "stderr",
          "text": [
            "     83/100      2.01G      0.992     0.5649     0.9834         24        320: 100%|██████████| 22/22 [00:03<00:00,  7.06it/s]\n",
            "                 Class     Images  Instances      Box(P          R      mAP50  mAP50-95): 100%|██████████| 2/2 [00:00<00:00,  7.22it/s]"
          ]
        },
        {
          "output_type": "stream",
          "name": "stdout",
          "text": [
            "                   all         44         44      0.833      0.909      0.916      0.539\n"
          ]
        },
        {
          "output_type": "stream",
          "name": "stderr",
          "text": [
            "\n"
          ]
        },
        {
          "output_type": "stream",
          "name": "stdout",
          "text": [
            "\n",
            "      Epoch    GPU_mem   box_loss   cls_loss   dfl_loss  Instances       Size\n"
          ]
        },
        {
          "output_type": "stream",
          "name": "stderr",
          "text": [
            "     84/100      2.02G      1.007     0.5801     0.9913         16        320: 100%|██████████| 22/22 [00:02<00:00,  8.97it/s]\n",
            "                 Class     Images  Instances      Box(P          R      mAP50  mAP50-95): 100%|██████████| 2/2 [00:00<00:00, 10.34it/s]"
          ]
        },
        {
          "output_type": "stream",
          "name": "stdout",
          "text": [
            "                   all         44         44      0.816      0.909      0.905      0.564\n"
          ]
        },
        {
          "output_type": "stream",
          "name": "stderr",
          "text": [
            "\n"
          ]
        },
        {
          "output_type": "stream",
          "name": "stdout",
          "text": [
            "\n",
            "      Epoch    GPU_mem   box_loss   cls_loss   dfl_loss  Instances       Size\n"
          ]
        },
        {
          "output_type": "stream",
          "name": "stderr",
          "text": [
            "     85/100      2.04G      1.009     0.5592      0.963         19        320: 100%|██████████| 22/22 [00:02<00:00,  9.36it/s]\n",
            "                 Class     Images  Instances      Box(P          R      mAP50  mAP50-95): 100%|██████████| 2/2 [00:00<00:00, 10.42it/s]\n"
          ]
        },
        {
          "output_type": "stream",
          "name": "stdout",
          "text": [
            "                   all         44         44      0.862      0.841      0.872      0.546\n",
            "\n",
            "      Epoch    GPU_mem   box_loss   cls_loss   dfl_loss  Instances       Size\n"
          ]
        },
        {
          "output_type": "stream",
          "name": "stderr",
          "text": [
            "     86/100      2.06G     0.9874     0.5456     0.9722         22        320: 100%|██████████| 22/22 [00:02<00:00,  9.28it/s]\n",
            "                 Class     Images  Instances      Box(P          R      mAP50  mAP50-95): 100%|██████████| 2/2 [00:00<00:00,  9.10it/s]"
          ]
        },
        {
          "output_type": "stream",
          "name": "stdout",
          "text": [
            "                   all         44         44      0.917      0.795      0.879      0.552\n"
          ]
        },
        {
          "output_type": "stream",
          "name": "stderr",
          "text": [
            "\n"
          ]
        },
        {
          "output_type": "stream",
          "name": "stdout",
          "text": [
            "\n",
            "      Epoch    GPU_mem   box_loss   cls_loss   dfl_loss  Instances       Size\n"
          ]
        },
        {
          "output_type": "stream",
          "name": "stderr",
          "text": [
            "     87/100      2.07G     0.9769      0.525     0.9824         17        320: 100%|██████████| 22/22 [00:02<00:00,  7.69it/s]\n",
            "                 Class     Images  Instances      Box(P          R      mAP50  mAP50-95): 100%|██████████| 2/2 [00:00<00:00,  7.91it/s]"
          ]
        },
        {
          "output_type": "stream",
          "name": "stdout",
          "text": [
            "                   all         44         44      0.867      0.886      0.898      0.551\n"
          ]
        },
        {
          "output_type": "stream",
          "name": "stderr",
          "text": [
            "\n"
          ]
        },
        {
          "output_type": "stream",
          "name": "stdout",
          "text": [
            "\n",
            "      Epoch    GPU_mem   box_loss   cls_loss   dfl_loss  Instances       Size\n"
          ]
        },
        {
          "output_type": "stream",
          "name": "stderr",
          "text": [
            "     88/100      2.09G     0.9753     0.5455      0.986         16        320: 100%|██████████| 22/22 [00:02<00:00,  8.30it/s]\n",
            "                 Class     Images  Instances      Box(P          R      mAP50  mAP50-95): 100%|██████████| 2/2 [00:00<00:00, 10.39it/s]"
          ]
        },
        {
          "output_type": "stream",
          "name": "stdout",
          "text": [
            "                   all         44         44      0.889      0.841      0.876      0.543\n"
          ]
        },
        {
          "output_type": "stream",
          "name": "stderr",
          "text": [
            "\n"
          ]
        },
        {
          "output_type": "stream",
          "name": "stdout",
          "text": [
            "\n",
            "      Epoch    GPU_mem   box_loss   cls_loss   dfl_loss  Instances       Size\n"
          ]
        },
        {
          "output_type": "stream",
          "name": "stderr",
          "text": [
            "     89/100      2.11G     0.9387     0.5384     0.9631         11        320: 100%|██████████| 22/22 [00:02<00:00,  9.21it/s]\n",
            "                 Class     Images  Instances      Box(P          R      mAP50  mAP50-95): 100%|██████████| 2/2 [00:00<00:00, 10.10it/s]"
          ]
        },
        {
          "output_type": "stream",
          "name": "stdout",
          "text": [
            "                   all         44         44      0.866      0.883       0.89      0.534\n"
          ]
        },
        {
          "output_type": "stream",
          "name": "stderr",
          "text": [
            "\n"
          ]
        },
        {
          "output_type": "stream",
          "name": "stdout",
          "text": [
            "\n",
            "      Epoch    GPU_mem   box_loss   cls_loss   dfl_loss  Instances       Size\n"
          ]
        },
        {
          "output_type": "stream",
          "name": "stderr",
          "text": [
            "     90/100      2.13G     0.9448      0.527     0.9816         18        320: 100%|██████████| 22/22 [00:02<00:00,  9.27it/s]\n",
            "                 Class     Images  Instances      Box(P          R      mAP50  mAP50-95): 100%|██████████| 2/2 [00:00<00:00,  9.95it/s]"
          ]
        },
        {
          "output_type": "stream",
          "name": "stdout",
          "text": [
            "                   all         44         44      0.901      0.864      0.897      0.536\n"
          ]
        },
        {
          "output_type": "stream",
          "name": "stderr",
          "text": [
            "\n"
          ]
        },
        {
          "output_type": "stream",
          "name": "stdout",
          "text": [
            "Closing dataloader mosaic\n",
            "\u001b[34m\u001b[1malbumentations: \u001b[0mBlur(p=0.01, blur_limit=(3, 7)), MedianBlur(p=0.01, blur_limit=(3, 7)), ToGray(p=0.01, method='weighted_average', num_output_channels=3), CLAHE(p=0.01, clip_limit=(1.0, 4.0), tile_grid_size=(8, 8))\n",
            "\n",
            "      Epoch    GPU_mem   box_loss   cls_loss   dfl_loss  Instances       Size\n"
          ]
        },
        {
          "output_type": "stream",
          "name": "stderr",
          "text": [
            "     91/100      2.14G     0.9159     0.5223     0.9523          8        320: 100%|██████████| 22/22 [00:03<00:00,  6.24it/s]\n",
            "                 Class     Images  Instances      Box(P          R      mAP50  mAP50-95): 100%|██████████| 2/2 [00:00<00:00,  6.85it/s]"
          ]
        },
        {
          "output_type": "stream",
          "name": "stdout",
          "text": [
            "                   all         44         44      0.883      0.857      0.866      0.532\n"
          ]
        },
        {
          "output_type": "stream",
          "name": "stderr",
          "text": [
            "\n"
          ]
        },
        {
          "output_type": "stream",
          "name": "stdout",
          "text": [
            "\n",
            "      Epoch    GPU_mem   box_loss   cls_loss   dfl_loss  Instances       Size\n"
          ]
        },
        {
          "output_type": "stream",
          "name": "stderr",
          "text": [
            "     92/100      2.16G     0.9129     0.5216     0.9411          9        320: 100%|██████████| 22/22 [00:02<00:00,  9.24it/s]\n",
            "                 Class     Images  Instances      Box(P          R      mAP50  mAP50-95): 100%|██████████| 2/2 [00:00<00:00, 10.17it/s]"
          ]
        },
        {
          "output_type": "stream",
          "name": "stdout",
          "text": [
            "                   all         44         44      0.876      0.864      0.859       0.53\n"
          ]
        },
        {
          "output_type": "stream",
          "name": "stderr",
          "text": [
            "\n"
          ]
        },
        {
          "output_type": "stream",
          "name": "stdout",
          "text": [
            "\n",
            "      Epoch    GPU_mem   box_loss   cls_loss   dfl_loss  Instances       Size\n"
          ]
        },
        {
          "output_type": "stream",
          "name": "stderr",
          "text": [
            "     93/100      2.18G     0.9135     0.5262     0.9625          9        320: 100%|██████████| 22/22 [00:02<00:00,  9.58it/s]\n",
            "                 Class     Images  Instances      Box(P          R      mAP50  mAP50-95): 100%|██████████| 2/2 [00:00<00:00,  9.37it/s]"
          ]
        },
        {
          "output_type": "stream",
          "name": "stdout",
          "text": [
            "                   all         44         44      0.856      0.864      0.865      0.533\n"
          ]
        },
        {
          "output_type": "stream",
          "name": "stderr",
          "text": [
            "\n"
          ]
        },
        {
          "output_type": "stream",
          "name": "stdout",
          "text": [
            "\n",
            "      Epoch    GPU_mem   box_loss   cls_loss   dfl_loss  Instances       Size\n"
          ]
        },
        {
          "output_type": "stream",
          "name": "stderr",
          "text": [
            "     94/100      2.19G     0.8842     0.4981      0.943          9        320: 100%|██████████| 22/22 [00:02<00:00,  9.06it/s]\n",
            "                 Class     Images  Instances      Box(P          R      mAP50  mAP50-95): 100%|██████████| 2/2 [00:00<00:00, 10.09it/s]\n"
          ]
        },
        {
          "output_type": "stream",
          "name": "stdout",
          "text": [
            "                   all         44         44      0.882      0.886      0.882      0.531\n",
            "\n",
            "      Epoch    GPU_mem   box_loss   cls_loss   dfl_loss  Instances       Size\n"
          ]
        },
        {
          "output_type": "stream",
          "name": "stderr",
          "text": [
            "     95/100      2.21G     0.8847     0.4895     0.9362          9        320: 100%|██████████| 22/22 [00:02<00:00,  7.99it/s]\n",
            "                 Class     Images  Instances      Box(P          R      mAP50  mAP50-95): 100%|██████████| 2/2 [00:00<00:00,  7.32it/s]"
          ]
        },
        {
          "output_type": "stream",
          "name": "stdout",
          "text": [
            "                   all         44         44      0.881      0.886      0.881      0.529\n"
          ]
        },
        {
          "output_type": "stream",
          "name": "stderr",
          "text": [
            "\n"
          ]
        },
        {
          "output_type": "stream",
          "name": "stdout",
          "text": [
            "\n",
            "      Epoch    GPU_mem   box_loss   cls_loss   dfl_loss  Instances       Size\n"
          ]
        },
        {
          "output_type": "stream",
          "name": "stderr",
          "text": [
            "     96/100      2.23G     0.9096     0.4974     0.9325          9        320: 100%|██████████| 22/22 [00:02<00:00,  8.19it/s]\n",
            "                 Class     Images  Instances      Box(P          R      mAP50  mAP50-95): 100%|██████████| 2/2 [00:00<00:00,  9.48it/s]"
          ]
        },
        {
          "output_type": "stream",
          "name": "stdout",
          "text": [
            "                   all         44         44      0.903      0.886      0.884      0.521\n"
          ]
        },
        {
          "output_type": "stream",
          "name": "stderr",
          "text": [
            "\n"
          ]
        },
        {
          "output_type": "stream",
          "name": "stdout",
          "text": [
            "\n",
            "      Epoch    GPU_mem   box_loss   cls_loss   dfl_loss  Instances       Size\n"
          ]
        },
        {
          "output_type": "stream",
          "name": "stderr",
          "text": [
            "     97/100      2.24G     0.8917     0.4884      0.937          9        320: 100%|██████████| 22/22 [00:02<00:00,  9.68it/s]\n",
            "                 Class     Images  Instances      Box(P          R      mAP50  mAP50-95): 100%|██████████| 2/2 [00:00<00:00, 10.30it/s]"
          ]
        },
        {
          "output_type": "stream",
          "name": "stdout",
          "text": [
            "                   all         44         44      0.901      0.886      0.898       0.53\n"
          ]
        },
        {
          "output_type": "stream",
          "name": "stderr",
          "text": [
            "\n"
          ]
        },
        {
          "output_type": "stream",
          "name": "stdout",
          "text": [
            "\n",
            "      Epoch    GPU_mem   box_loss   cls_loss   dfl_loss  Instances       Size\n"
          ]
        },
        {
          "output_type": "stream",
          "name": "stderr",
          "text": [
            "     98/100      2.26G     0.9185     0.4874     0.9508          9        320: 100%|██████████| 22/22 [00:02<00:00,  9.39it/s]\n",
            "                 Class     Images  Instances      Box(P          R      mAP50  mAP50-95): 100%|██████████| 2/2 [00:00<00:00, 10.15it/s]"
          ]
        },
        {
          "output_type": "stream",
          "name": "stdout",
          "text": [
            "                   all         44         44      0.876      0.864      0.861      0.527\n"
          ]
        },
        {
          "output_type": "stream",
          "name": "stderr",
          "text": [
            "\n"
          ]
        },
        {
          "output_type": "stream",
          "name": "stdout",
          "text": [
            "\n",
            "      Epoch    GPU_mem   box_loss   cls_loss   dfl_loss  Instances       Size\n"
          ]
        },
        {
          "output_type": "stream",
          "name": "stderr",
          "text": [
            "     99/100      2.28G     0.8907     0.4833     0.9362          9        320: 100%|██████████| 22/22 [00:02<00:00,  9.50it/s]\n",
            "                 Class     Images  Instances      Box(P          R      mAP50  mAP50-95): 100%|██████████| 2/2 [00:00<00:00,  6.82it/s]"
          ]
        },
        {
          "output_type": "stream",
          "name": "stdout",
          "text": [
            "                   all         44         44      0.874      0.864      0.861      0.533\n"
          ]
        },
        {
          "output_type": "stream",
          "name": "stderr",
          "text": [
            "\n"
          ]
        },
        {
          "output_type": "stream",
          "name": "stdout",
          "text": [
            "\n",
            "      Epoch    GPU_mem   box_loss   cls_loss   dfl_loss  Instances       Size\n"
          ]
        },
        {
          "output_type": "stream",
          "name": "stderr",
          "text": [
            "    100/100       2.3G     0.8847     0.4777     0.9403          9        320: 100%|██████████| 22/22 [00:03<00:00,  7.26it/s]\n",
            "                 Class     Images  Instances      Box(P          R      mAP50  mAP50-95): 100%|██████████| 2/2 [00:00<00:00, 10.25it/s]"
          ]
        },
        {
          "output_type": "stream",
          "name": "stdout",
          "text": [
            "                   all         44         44      0.875      0.864      0.862      0.535\n"
          ]
        },
        {
          "output_type": "stream",
          "name": "stderr",
          "text": [
            "\n"
          ]
        },
        {
          "output_type": "stream",
          "name": "stdout",
          "text": [
            "\n",
            "100 epochs completed in 0.086 hours.\n",
            "Optimizer stripped from runs/detect/train2/weights/last.pt, 6.2MB\n",
            "Optimizer stripped from runs/detect/train2/weights/best.pt, 6.2MB\n",
            "\n",
            "Validating runs/detect/train2/weights/best.pt...\n",
            "Ultralytics 8.3.159 🚀 Python-3.11.13 torch-2.6.0+cu124 CUDA:0 (Tesla T4, 15095MiB)\n",
            "Model summary (fused): 72 layers, 3,005,843 parameters, 0 gradients, 8.1 GFLOPs\n"
          ]
        },
        {
          "output_type": "stream",
          "name": "stderr",
          "text": [
            "                 Class     Images  Instances      Box(P          R      mAP50  mAP50-95): 100%|██████████| 2/2 [00:00<00:00,  5.44it/s]\n"
          ]
        },
        {
          "output_type": "stream",
          "name": "stdout",
          "text": [
            "                   all         44         44      0.933      0.841      0.912      0.568\n",
            "Speed: 0.1ms preprocess, 1.3ms inference, 0.0ms loss, 1.3ms postprocess per image\n",
            "Results saved to \u001b[1mruns/detect/train2\u001b[0m\n"
          ]
        },
        {
          "output_type": "execute_result",
          "data": {
            "text/plain": [
              "ultralytics.utils.metrics.DetMetrics object with attributes:\n",
              "\n",
              "ap_class_index: array([0])\n",
              "box: ultralytics.utils.metrics.Metric object\n",
              "confusion_matrix: <ultralytics.utils.metrics.ConfusionMatrix object at 0x7c33e5b1b110>\n",
              "curves: ['Precision-Recall(B)', 'F1-Confidence(B)', 'Precision-Confidence(B)', 'Recall-Confidence(B)']\n",
              "curves_results: [[array([          0,    0.001001,    0.002002,    0.003003,    0.004004,    0.005005,    0.006006,    0.007007,    0.008008,    0.009009,     0.01001,    0.011011,    0.012012,    0.013013,    0.014014,    0.015015,    0.016016,    0.017017,    0.018018,    0.019019,     0.02002,    0.021021,    0.022022,    0.023023,\n",
              "          0.024024,    0.025025,    0.026026,    0.027027,    0.028028,    0.029029,     0.03003,    0.031031,    0.032032,    0.033033,    0.034034,    0.035035,    0.036036,    0.037037,    0.038038,    0.039039,     0.04004,    0.041041,    0.042042,    0.043043,    0.044044,    0.045045,    0.046046,    0.047047,\n",
              "          0.048048,    0.049049,     0.05005,    0.051051,    0.052052,    0.053053,    0.054054,    0.055055,    0.056056,    0.057057,    0.058058,    0.059059,     0.06006,    0.061061,    0.062062,    0.063063,    0.064064,    0.065065,    0.066066,    0.067067,    0.068068,    0.069069,     0.07007,    0.071071,\n",
              "          0.072072,    0.073073,    0.074074,    0.075075,    0.076076,    0.077077,    0.078078,    0.079079,     0.08008,    0.081081,    0.082082,    0.083083,    0.084084,    0.085085,    0.086086,    0.087087,    0.088088,    0.089089,     0.09009,    0.091091,    0.092092,    0.093093,    0.094094,    0.095095,\n",
              "          0.096096,    0.097097,    0.098098,    0.099099,      0.1001,      0.1011,      0.1021,      0.1031,      0.1041,     0.10511,     0.10611,     0.10711,     0.10811,     0.10911,     0.11011,     0.11111,     0.11211,     0.11311,     0.11411,     0.11512,     0.11612,     0.11712,     0.11812,     0.11912,\n",
              "           0.12012,     0.12112,     0.12212,     0.12312,     0.12412,     0.12513,     0.12613,     0.12713,     0.12813,     0.12913,     0.13013,     0.13113,     0.13213,     0.13313,     0.13413,     0.13514,     0.13614,     0.13714,     0.13814,     0.13914,     0.14014,     0.14114,     0.14214,     0.14314,\n",
              "           0.14414,     0.14515,     0.14615,     0.14715,     0.14815,     0.14915,     0.15015,     0.15115,     0.15215,     0.15315,     0.15415,     0.15516,     0.15616,     0.15716,     0.15816,     0.15916,     0.16016,     0.16116,     0.16216,     0.16316,     0.16416,     0.16517,     0.16617,     0.16717,\n",
              "           0.16817,     0.16917,     0.17017,     0.17117,     0.17217,     0.17317,     0.17417,     0.17518,     0.17618,     0.17718,     0.17818,     0.17918,     0.18018,     0.18118,     0.18218,     0.18318,     0.18418,     0.18519,     0.18619,     0.18719,     0.18819,     0.18919,     0.19019,     0.19119,\n",
              "           0.19219,     0.19319,     0.19419,      0.1952,      0.1962,      0.1972,      0.1982,      0.1992,      0.2002,      0.2012,      0.2022,      0.2032,      0.2042,     0.20521,     0.20621,     0.20721,     0.20821,     0.20921,     0.21021,     0.21121,     0.21221,     0.21321,     0.21421,     0.21522,\n",
              "           0.21622,     0.21722,     0.21822,     0.21922,     0.22022,     0.22122,     0.22222,     0.22322,     0.22422,     0.22523,     0.22623,     0.22723,     0.22823,     0.22923,     0.23023,     0.23123,     0.23223,     0.23323,     0.23423,     0.23524,     0.23624,     0.23724,     0.23824,     0.23924,\n",
              "           0.24024,     0.24124,     0.24224,     0.24324,     0.24424,     0.24525,     0.24625,     0.24725,     0.24825,     0.24925,     0.25025,     0.25125,     0.25225,     0.25325,     0.25425,     0.25526,     0.25626,     0.25726,     0.25826,     0.25926,     0.26026,     0.26126,     0.26226,     0.26326,\n",
              "           0.26426,     0.26527,     0.26627,     0.26727,     0.26827,     0.26927,     0.27027,     0.27127,     0.27227,     0.27327,     0.27427,     0.27528,     0.27628,     0.27728,     0.27828,     0.27928,     0.28028,     0.28128,     0.28228,     0.28328,     0.28428,     0.28529,     0.28629,     0.28729,\n",
              "           0.28829,     0.28929,     0.29029,     0.29129,     0.29229,     0.29329,     0.29429,      0.2953,      0.2963,      0.2973,      0.2983,      0.2993,      0.3003,      0.3013,      0.3023,      0.3033,      0.3043,     0.30531,     0.30631,     0.30731,     0.30831,     0.30931,     0.31031,     0.31131,\n",
              "           0.31231,     0.31331,     0.31431,     0.31532,     0.31632,     0.31732,     0.31832,     0.31932,     0.32032,     0.32132,     0.32232,     0.32332,     0.32432,     0.32533,     0.32633,     0.32733,     0.32833,     0.32933,     0.33033,     0.33133,     0.33233,     0.33333,     0.33433,     0.33534,\n",
              "           0.33634,     0.33734,     0.33834,     0.33934,     0.34034,     0.34134,     0.34234,     0.34334,     0.34434,     0.34535,     0.34635,     0.34735,     0.34835,     0.34935,     0.35035,     0.35135,     0.35235,     0.35335,     0.35435,     0.35536,     0.35636,     0.35736,     0.35836,     0.35936,\n",
              "           0.36036,     0.36136,     0.36236,     0.36336,     0.36436,     0.36537,     0.36637,     0.36737,     0.36837,     0.36937,     0.37037,     0.37137,     0.37237,     0.37337,     0.37437,     0.37538,     0.37638,     0.37738,     0.37838,     0.37938,     0.38038,     0.38138,     0.38238,     0.38338,\n",
              "           0.38438,     0.38539,     0.38639,     0.38739,     0.38839,     0.38939,     0.39039,     0.39139,     0.39239,     0.39339,     0.39439,      0.3954,      0.3964,      0.3974,      0.3984,      0.3994,      0.4004,      0.4014,      0.4024,      0.4034,      0.4044,     0.40541,     0.40641,     0.40741,\n",
              "           0.40841,     0.40941,     0.41041,     0.41141,     0.41241,     0.41341,     0.41441,     0.41542,     0.41642,     0.41742,     0.41842,     0.41942,     0.42042,     0.42142,     0.42242,     0.42342,     0.42442,     0.42543,     0.42643,     0.42743,     0.42843,     0.42943,     0.43043,     0.43143,\n",
              "           0.43243,     0.43343,     0.43443,     0.43544,     0.43644,     0.43744,     0.43844,     0.43944,     0.44044,     0.44144,     0.44244,     0.44344,     0.44444,     0.44545,     0.44645,     0.44745,     0.44845,     0.44945,     0.45045,     0.45145,     0.45245,     0.45345,     0.45445,     0.45546,\n",
              "           0.45646,     0.45746,     0.45846,     0.45946,     0.46046,     0.46146,     0.46246,     0.46346,     0.46446,     0.46547,     0.46647,     0.46747,     0.46847,     0.46947,     0.47047,     0.47147,     0.47247,     0.47347,     0.47447,     0.47548,     0.47648,     0.47748,     0.47848,     0.47948,\n",
              "           0.48048,     0.48148,     0.48248,     0.48348,     0.48448,     0.48549,     0.48649,     0.48749,     0.48849,     0.48949,     0.49049,     0.49149,     0.49249,     0.49349,     0.49449,      0.4955,      0.4965,      0.4975,      0.4985,      0.4995,      0.5005,      0.5015,      0.5025,      0.5035,\n",
              "            0.5045,     0.50551,     0.50651,     0.50751,     0.50851,     0.50951,     0.51051,     0.51151,     0.51251,     0.51351,     0.51451,     0.51552,     0.51652,     0.51752,     0.51852,     0.51952,     0.52052,     0.52152,     0.52252,     0.52352,     0.52452,     0.52553,     0.52653,     0.52753,\n",
              "           0.52853,     0.52953,     0.53053,     0.53153,     0.53253,     0.53353,     0.53453,     0.53554,     0.53654,     0.53754,     0.53854,     0.53954,     0.54054,     0.54154,     0.54254,     0.54354,     0.54454,     0.54555,     0.54655,     0.54755,     0.54855,     0.54955,     0.55055,     0.55155,\n",
              "           0.55255,     0.55355,     0.55455,     0.55556,     0.55656,     0.55756,     0.55856,     0.55956,     0.56056,     0.56156,     0.56256,     0.56356,     0.56456,     0.56557,     0.56657,     0.56757,     0.56857,     0.56957,     0.57057,     0.57157,     0.57257,     0.57357,     0.57457,     0.57558,\n",
              "           0.57658,     0.57758,     0.57858,     0.57958,     0.58058,     0.58158,     0.58258,     0.58358,     0.58458,     0.58559,     0.58659,     0.58759,     0.58859,     0.58959,     0.59059,     0.59159,     0.59259,     0.59359,     0.59459,      0.5956,      0.5966,      0.5976,      0.5986,      0.5996,\n",
              "            0.6006,      0.6016,      0.6026,      0.6036,      0.6046,     0.60561,     0.60661,     0.60761,     0.60861,     0.60961,     0.61061,     0.61161,     0.61261,     0.61361,     0.61461,     0.61562,     0.61662,     0.61762,     0.61862,     0.61962,     0.62062,     0.62162,     0.62262,     0.62362,\n",
              "           0.62462,     0.62563,     0.62663,     0.62763,     0.62863,     0.62963,     0.63063,     0.63163,     0.63263,     0.63363,     0.63463,     0.63564,     0.63664,     0.63764,     0.63864,     0.63964,     0.64064,     0.64164,     0.64264,     0.64364,     0.64464,     0.64565,     0.64665,     0.64765,\n",
              "           0.64865,     0.64965,     0.65065,     0.65165,     0.65265,     0.65365,     0.65465,     0.65566,     0.65666,     0.65766,     0.65866,     0.65966,     0.66066,     0.66166,     0.66266,     0.66366,     0.66466,     0.66567,     0.66667,     0.66767,     0.66867,     0.66967,     0.67067,     0.67167,\n",
              "           0.67267,     0.67367,     0.67467,     0.67568,     0.67668,     0.67768,     0.67868,     0.67968,     0.68068,     0.68168,     0.68268,     0.68368,     0.68468,     0.68569,     0.68669,     0.68769,     0.68869,     0.68969,     0.69069,     0.69169,     0.69269,     0.69369,     0.69469,      0.6957,\n",
              "            0.6967,      0.6977,      0.6987,      0.6997,      0.7007,      0.7017,      0.7027,      0.7037,      0.7047,     0.70571,     0.70671,     0.70771,     0.70871,     0.70971,     0.71071,     0.71171,     0.71271,     0.71371,     0.71471,     0.71572,     0.71672,     0.71772,     0.71872,     0.71972,\n",
              "           0.72072,     0.72172,     0.72272,     0.72372,     0.72472,     0.72573,     0.72673,     0.72773,     0.72873,     0.72973,     0.73073,     0.73173,     0.73273,     0.73373,     0.73473,     0.73574,     0.73674,     0.73774,     0.73874,     0.73974,     0.74074,     0.74174,     0.74274,     0.74374,\n",
              "           0.74474,     0.74575,     0.74675,     0.74775,     0.74875,     0.74975,     0.75075,     0.75175,     0.75275,     0.75375,     0.75475,     0.75576,     0.75676,     0.75776,     0.75876,     0.75976,     0.76076,     0.76176,     0.76276,     0.76376,     0.76476,     0.76577,     0.76677,     0.76777,\n",
              "           0.76877,     0.76977,     0.77077,     0.77177,     0.77277,     0.77377,     0.77477,     0.77578,     0.77678,     0.77778,     0.77878,     0.77978,     0.78078,     0.78178,     0.78278,     0.78378,     0.78478,     0.78579,     0.78679,     0.78779,     0.78879,     0.78979,     0.79079,     0.79179,\n",
              "           0.79279,     0.79379,     0.79479,      0.7958,      0.7968,      0.7978,      0.7988,      0.7998,      0.8008,      0.8018,      0.8028,      0.8038,      0.8048,     0.80581,     0.80681,     0.80781,     0.80881,     0.80981,     0.81081,     0.81181,     0.81281,     0.81381,     0.81481,     0.81582,\n",
              "           0.81682,     0.81782,     0.81882,     0.81982,     0.82082,     0.82182,     0.82282,     0.82382,     0.82482,     0.82583,     0.82683,     0.82783,     0.82883,     0.82983,     0.83083,     0.83183,     0.83283,     0.83383,     0.83483,     0.83584,     0.83684,     0.83784,     0.83884,     0.83984,\n",
              "           0.84084,     0.84184,     0.84284,     0.84384,     0.84484,     0.84585,     0.84685,     0.84785,     0.84885,     0.84985,     0.85085,     0.85185,     0.85285,     0.85385,     0.85485,     0.85586,     0.85686,     0.85786,     0.85886,     0.85986,     0.86086,     0.86186,     0.86286,     0.86386,\n",
              "           0.86486,     0.86587,     0.86687,     0.86787,     0.86887,     0.86987,     0.87087,     0.87187,     0.87287,     0.87387,     0.87487,     0.87588,     0.87688,     0.87788,     0.87888,     0.87988,     0.88088,     0.88188,     0.88288,     0.88388,     0.88488,     0.88589,     0.88689,     0.88789,\n",
              "           0.88889,     0.88989,     0.89089,     0.89189,     0.89289,     0.89389,     0.89489,      0.8959,      0.8969,      0.8979,      0.8989,      0.8999,      0.9009,      0.9019,      0.9029,      0.9039,      0.9049,     0.90591,     0.90691,     0.90791,     0.90891,     0.90991,     0.91091,     0.91191,\n",
              "           0.91291,     0.91391,     0.91491,     0.91592,     0.91692,     0.91792,     0.91892,     0.91992,     0.92092,     0.92192,     0.92292,     0.92392,     0.92492,     0.92593,     0.92693,     0.92793,     0.92893,     0.92993,     0.93093,     0.93193,     0.93293,     0.93393,     0.93493,     0.93594,\n",
              "           0.93694,     0.93794,     0.93894,     0.93994,     0.94094,     0.94194,     0.94294,     0.94394,     0.94494,     0.94595,     0.94695,     0.94795,     0.94895,     0.94995,     0.95095,     0.95195,     0.95295,     0.95395,     0.95495,     0.95596,     0.95696,     0.95796,     0.95896,     0.95996,\n",
              "           0.96096,     0.96196,     0.96296,     0.96396,     0.96496,     0.96597,     0.96697,     0.96797,     0.96897,     0.96997,     0.97097,     0.97197,     0.97297,     0.97397,     0.97497,     0.97598,     0.97698,     0.97798,     0.97898,     0.97998,     0.98098,     0.98198,     0.98298,     0.98398,\n",
              "           0.98498,     0.98599,     0.98699,     0.98799,     0.98899,     0.98999,     0.99099,     0.99199,     0.99299,     0.99399,     0.99499,       0.996,       0.997,       0.998,       0.999,           1]), array([[          1,           1,           1,           1,           1,           1,           1,           1,           1,           1,           1,           1,           1,           1,           1,           1,           1,           1,           1,           1,           1,           1,           1,\n",
              "                  1,           1,           1,           1,           1,           1,           1,           1,           1,           1,           1,           1,           1,           1,           1,           1,           1,           1,           1,           1,           1,           1,           1,\n",
              "                  1,           1,           1,           1,           1,           1,           1,           1,           1,           1,           1,           1,           1,           1,           1,           1,           1,           1,           1,           1,           1,           1,           1,\n",
              "                  1,           1,           1,           1,           1,           1,           1,           1,           1,           1,           1,           1,           1,           1,           1,           1,           1,           1,           1,           1,           1,           1,           1,\n",
              "                  1,           1,           1,           1,           1,           1,           1,           1,           1,           1,           1,           1,           1,           1,           1,           1,           1,           1,           1,           1,           1,           1,           1,\n",
              "                  1,           1,           1,           1,           1,           1,           1,           1,           1,           1,           1,           1,           1,           1,           1,           1,           1,           1,           1,           1,           1,           1,           1,\n",
              "                  1,           1,           1,           1,           1,           1,           1,           1,           1,           1,           1,           1,           1,           1,           1,           1,           1,           1,           1,           1,           1,           1,           1,\n",
              "                  1,           1,           1,           1,           1,           1,           1,           1,           1,           1,           1,           1,           1,           1,           1,           1,           1,           1,           1,           1,           1,           1,           1,\n",
              "                  1,           1,           1,           1,           1,           1,           1,           1,           1,           1,           1,           1,           1,           1,           1,           1,           1,           1,           1,           1,           1,           1,           1,\n",
              "                  1,           1,           1,           1,           1,           1,           1,           1,           1,           1,           1,           1,           1,           1,           1,           1,           1,           1,           1,           1,           1,           1,           1,\n",
              "                  1,           1,           1,           1,           1,           1,           1,           1,           1,           1,           1,           1,           1,           1,           1,           1,           1,           1,           1,           1,           1,           1,           1,\n",
              "                  1,           1,           1,           1,           1,           1,           1,           1,           1,           1,           1,           1,           1,           1,           1,           1,           1,           1,           1,           1,           1,           1,           1,\n",
              "                  1,           1,           1,           1,           1,           1,           1,           1,           1,           1,           1,           1,           1,           1,           1,           1,           1,           1,           1,           1,           1,           1,           1,\n",
              "                  1,           1,           1,           1,           1,           1,           1,           1,           1,           1,           1,           1,           1,           1,           1,           1,           1,           1,           1,           1,           1,           1,           1,\n",
              "                  1,           1,           1,           1,           1,           1,           1,           1,           1,           1,           1,           1,           1,           1,           1,           1,           1,           1,           1,           1,           1,           1,           1,\n",
              "                  1,           1,           1,           1,           1,           1,           1,           1,           1,           1,           1,           1,           1,           1,           1,           1,           1,           1,           1,           1,           1,           1,           1,\n",
              "                  1,           1,           1,           1,           1,           1,           1,           1,           1,           1,           1,           1,           1,           1,           1,           1,           1,           1,           1,           1,           1,           1,           1,\n",
              "                  1,           1,           1,           1,           1,           1,           1,           1,           1,           1,           1,           1,           1,           1,           1,           1,           1,           1,           1,           1,           1,           1,           1,\n",
              "                  1,           1,           1,           1,           1,           1,           1,           1,           1,           1,           1,           1,           1,           1,           1,           1,           1,           1,           1,           1,           1,           1,           1,\n",
              "                  1,           1,           1,           1,           1,           1,           1,           1,           1,           1,           1,           1,           1,           1,           1,           1,           1,           1,           1,           1,           1,           1,           1,\n",
              "                  1,           1,           1,           1,           1,           1,           1,           1,           1,           1,           1,           1,           1,           1,           1,           1,           1,           1,           1,           1,           1,           1,           1,\n",
              "                  1,           1,           1,           1,           1,           1,           1,           1,           1,           1,           1,           1,           1,           1,           1,           1,           1,           1,           1,           1,           1,           1,           1,\n",
              "                  1,           1,           1,           1,           1,           1,           1,           1,           1,           1,           1,           1,           1,           1,           1,           1,           1,           1,           1,           1,           1,           1,           1,\n",
              "                  1,           1,           1,           1,           1,           1,           1,           1,           1,           1,           1,           1,           1,           1,           1,           1,           1,           1,           1,           1,           1,           1,           1,\n",
              "                  1,           1,           1,           1,           1,           1,           1,           1,           1,           1,           1,           1,           1,           1,           1,           1,           1,           1,           1,           1,           1,           1,           1,\n",
              "                  1,           1,           1,           1,           1,           1,           1,           1,           1,           1,           1,           1,           1,           1,           1,           1,           1,           1,           1,           1,           1,           1,           1,\n",
              "                  1,           1,           1,           1,           1,           1,           1,           1,           1,           1,           1,           1,           1,           1,           1,           1,           1,           1,           1,           1,           1,           1,           1,\n",
              "                  1,           1,           1,           1,           1,           1,           1,           1,           1,           1,           1,           1,           1,           1,           1,           1,           1,           1,           1,           1,           1,           1,           1,\n",
              "                  1,           1,           1,           1,           1,           1,           1,           1,           1,           1,           1,           1,           1,           1,           1,           1,           1,           1,           1,           1,           1,           1,           1,\n",
              "                  1,           1,           1,           1,           1,           1,           1,           1,           1,           1,           1,           1,           1,           1,           1,           1,           1,           1,           1,           1,           1,           1,           1,\n",
              "                  1,           1,           1,           1,           1,           1,           1,           1,           1,           1,           1,           1,           1,           1,           1,           1,           1,           1,           1,           1,           1,           1,           1,\n",
              "                  1,           1,           1,           1,           1,           1,           1,           1,           1,           1,           1,           1,           1,           1,           1,           1,           1,           1,           1,           1,           1,           1,           1,\n",
              "                  1,           1,           1,           1,           1,           1,           1,           1,           1,           1,           1,           1,           1,           1,           1,           1,           1,           1,           1,           1,           1,           1,           1,\n",
              "                  1,           1,           1,           1,           1,           1,           1,           1,           1,           1,           1,           1,           1,           1,           1,           1,           1,           1,           1,           1,           1,           1,           1,\n",
              "                  1,           1,           1,           1,           1,           1,           1,           1,           1,           1,           1,           1,           1,     0.97368,     0.97368,     0.97368,     0.97368,     0.97368,     0.97368,     0.97368,     0.97368,     0.97368,     0.97368,\n",
              "            0.97368,     0.97368,     0.97368,     0.97368,     0.97368,     0.97368,     0.97368,     0.97368,     0.97368,     0.97368,     0.97368,     0.97368,     0.97368,     0.97368,     0.97368,     0.97368,     0.97368,     0.97368,     0.97368,     0.97368,     0.97368,     0.97368,     0.97368,\n",
              "            0.97368,     0.97368,     0.97368,     0.97368,     0.97368,     0.97368,     0.97368,     0.97368,     0.97368,     0.97368,     0.97368,     0.97368,     0.97368,     0.90476,     0.90476,     0.90476,     0.90476,     0.90476,     0.90476,     0.90476,     0.90476,     0.90476,     0.90476,\n",
              "            0.90476,     0.90476,     0.90476,     0.90476,     0.90476,     0.90476,     0.90476,     0.90476,     0.90476,     0.90476,     0.90476,     0.90476,      0.8125,      0.8125,      0.8125,      0.8125,      0.8125,      0.8125,      0.8125,      0.8125,      0.8125,      0.8125,      0.8125,\n",
              "             0.8125,      0.8125,      0.8125,      0.8125,      0.8125,      0.8125,      0.8125,      0.8125,      0.8125,      0.8125,      0.8125,      0.8125,     0.78431,     0.78431,     0.78431,     0.78431,     0.78431,     0.78431,     0.78431,     0.78431,     0.78431,     0.78431,     0.78431,\n",
              "            0.78431,     0.78431,     0.78431,     0.78431,     0.78431,     0.78431,     0.78431,     0.78431,     0.78431,     0.78431,     0.78431,     0.78431,     0.45055,     0.45055,     0.45055,     0.45055,     0.45055,     0.45055,     0.45055,     0.45055,     0.45055,     0.45055,     0.45055,\n",
              "            0.45055,     0.45055,     0.45055,     0.45055,     0.45055,     0.45055,     0.45055,     0.45055,     0.45055,     0.45055,     0.45055,     0.15865,     0.15632,     0.15398,     0.15165,     0.14932,     0.14698,     0.14465,     0.14232,     0.13998,     0.13765,     0.13532,     0.13299,\n",
              "            0.13065,     0.12832,     0.12599,     0.12365,     0.12132,     0.11899,     0.11665,     0.11432,     0.11199,     0.10965,     0.10732,     0.10499,     0.10266,     0.10032,    0.097989,    0.095656,    0.093323,     0.09099,    0.088657,    0.086324,    0.083991,    0.081658,    0.079325,\n",
              "           0.076992,    0.074659,    0.072326,    0.069992,    0.067659,    0.065326,    0.062993,     0.06066,    0.058327,    0.055994,    0.053661,    0.051328,    0.048995,    0.046662,    0.044329,    0.041995,    0.039662,    0.037329,    0.034996,    0.032663,     0.03033,    0.027997,    0.025664,\n",
              "           0.023331,    0.020998,    0.018665,    0.016332,    0.013998,    0.011665,   0.0093323,   0.0069992,   0.0046662,   0.0023331,           0]]), 'Recall', 'Precision'], [array([          0,    0.001001,    0.002002,    0.003003,    0.004004,    0.005005,    0.006006,    0.007007,    0.008008,    0.009009,     0.01001,    0.011011,    0.012012,    0.013013,    0.014014,    0.015015,    0.016016,    0.017017,    0.018018,    0.019019,     0.02002,    0.021021,    0.022022,    0.023023,\n",
              "          0.024024,    0.025025,    0.026026,    0.027027,    0.028028,    0.029029,     0.03003,    0.031031,    0.032032,    0.033033,    0.034034,    0.035035,    0.036036,    0.037037,    0.038038,    0.039039,     0.04004,    0.041041,    0.042042,    0.043043,    0.044044,    0.045045,    0.046046,    0.047047,\n",
              "          0.048048,    0.049049,     0.05005,    0.051051,    0.052052,    0.053053,    0.054054,    0.055055,    0.056056,    0.057057,    0.058058,    0.059059,     0.06006,    0.061061,    0.062062,    0.063063,    0.064064,    0.065065,    0.066066,    0.067067,    0.068068,    0.069069,     0.07007,    0.071071,\n",
              "          0.072072,    0.073073,    0.074074,    0.075075,    0.076076,    0.077077,    0.078078,    0.079079,     0.08008,    0.081081,    0.082082,    0.083083,    0.084084,    0.085085,    0.086086,    0.087087,    0.088088,    0.089089,     0.09009,    0.091091,    0.092092,    0.093093,    0.094094,    0.095095,\n",
              "          0.096096,    0.097097,    0.098098,    0.099099,      0.1001,      0.1011,      0.1021,      0.1031,      0.1041,     0.10511,     0.10611,     0.10711,     0.10811,     0.10911,     0.11011,     0.11111,     0.11211,     0.11311,     0.11411,     0.11512,     0.11612,     0.11712,     0.11812,     0.11912,\n",
              "           0.12012,     0.12112,     0.12212,     0.12312,     0.12412,     0.12513,     0.12613,     0.12713,     0.12813,     0.12913,     0.13013,     0.13113,     0.13213,     0.13313,     0.13413,     0.13514,     0.13614,     0.13714,     0.13814,     0.13914,     0.14014,     0.14114,     0.14214,     0.14314,\n",
              "           0.14414,     0.14515,     0.14615,     0.14715,     0.14815,     0.14915,     0.15015,     0.15115,     0.15215,     0.15315,     0.15415,     0.15516,     0.15616,     0.15716,     0.15816,     0.15916,     0.16016,     0.16116,     0.16216,     0.16316,     0.16416,     0.16517,     0.16617,     0.16717,\n",
              "           0.16817,     0.16917,     0.17017,     0.17117,     0.17217,     0.17317,     0.17417,     0.17518,     0.17618,     0.17718,     0.17818,     0.17918,     0.18018,     0.18118,     0.18218,     0.18318,     0.18418,     0.18519,     0.18619,     0.18719,     0.18819,     0.18919,     0.19019,     0.19119,\n",
              "           0.19219,     0.19319,     0.19419,      0.1952,      0.1962,      0.1972,      0.1982,      0.1992,      0.2002,      0.2012,      0.2022,      0.2032,      0.2042,     0.20521,     0.20621,     0.20721,     0.20821,     0.20921,     0.21021,     0.21121,     0.21221,     0.21321,     0.21421,     0.21522,\n",
              "           0.21622,     0.21722,     0.21822,     0.21922,     0.22022,     0.22122,     0.22222,     0.22322,     0.22422,     0.22523,     0.22623,     0.22723,     0.22823,     0.22923,     0.23023,     0.23123,     0.23223,     0.23323,     0.23423,     0.23524,     0.23624,     0.23724,     0.23824,     0.23924,\n",
              "           0.24024,     0.24124,     0.24224,     0.24324,     0.24424,     0.24525,     0.24625,     0.24725,     0.24825,     0.24925,     0.25025,     0.25125,     0.25225,     0.25325,     0.25425,     0.25526,     0.25626,     0.25726,     0.25826,     0.25926,     0.26026,     0.26126,     0.26226,     0.26326,\n",
              "           0.26426,     0.26527,     0.26627,     0.26727,     0.26827,     0.26927,     0.27027,     0.27127,     0.27227,     0.27327,     0.27427,     0.27528,     0.27628,     0.27728,     0.27828,     0.27928,     0.28028,     0.28128,     0.28228,     0.28328,     0.28428,     0.28529,     0.28629,     0.28729,\n",
              "           0.28829,     0.28929,     0.29029,     0.29129,     0.29229,     0.29329,     0.29429,      0.2953,      0.2963,      0.2973,      0.2983,      0.2993,      0.3003,      0.3013,      0.3023,      0.3033,      0.3043,     0.30531,     0.30631,     0.30731,     0.30831,     0.30931,     0.31031,     0.31131,\n",
              "           0.31231,     0.31331,     0.31431,     0.31532,     0.31632,     0.31732,     0.31832,     0.31932,     0.32032,     0.32132,     0.32232,     0.32332,     0.32432,     0.32533,     0.32633,     0.32733,     0.32833,     0.32933,     0.33033,     0.33133,     0.33233,     0.33333,     0.33433,     0.33534,\n",
              "           0.33634,     0.33734,     0.33834,     0.33934,     0.34034,     0.34134,     0.34234,     0.34334,     0.34434,     0.34535,     0.34635,     0.34735,     0.34835,     0.34935,     0.35035,     0.35135,     0.35235,     0.35335,     0.35435,     0.35536,     0.35636,     0.35736,     0.35836,     0.35936,\n",
              "           0.36036,     0.36136,     0.36236,     0.36336,     0.36436,     0.36537,     0.36637,     0.36737,     0.36837,     0.36937,     0.37037,     0.37137,     0.37237,     0.37337,     0.37437,     0.37538,     0.37638,     0.37738,     0.37838,     0.37938,     0.38038,     0.38138,     0.38238,     0.38338,\n",
              "           0.38438,     0.38539,     0.38639,     0.38739,     0.38839,     0.38939,     0.39039,     0.39139,     0.39239,     0.39339,     0.39439,      0.3954,      0.3964,      0.3974,      0.3984,      0.3994,      0.4004,      0.4014,      0.4024,      0.4034,      0.4044,     0.40541,     0.40641,     0.40741,\n",
              "           0.40841,     0.40941,     0.41041,     0.41141,     0.41241,     0.41341,     0.41441,     0.41542,     0.41642,     0.41742,     0.41842,     0.41942,     0.42042,     0.42142,     0.42242,     0.42342,     0.42442,     0.42543,     0.42643,     0.42743,     0.42843,     0.42943,     0.43043,     0.43143,\n",
              "           0.43243,     0.43343,     0.43443,     0.43544,     0.43644,     0.43744,     0.43844,     0.43944,     0.44044,     0.44144,     0.44244,     0.44344,     0.44444,     0.44545,     0.44645,     0.44745,     0.44845,     0.44945,     0.45045,     0.45145,     0.45245,     0.45345,     0.45445,     0.45546,\n",
              "           0.45646,     0.45746,     0.45846,     0.45946,     0.46046,     0.46146,     0.46246,     0.46346,     0.46446,     0.46547,     0.46647,     0.46747,     0.46847,     0.46947,     0.47047,     0.47147,     0.47247,     0.47347,     0.47447,     0.47548,     0.47648,     0.47748,     0.47848,     0.47948,\n",
              "           0.48048,     0.48148,     0.48248,     0.48348,     0.48448,     0.48549,     0.48649,     0.48749,     0.48849,     0.48949,     0.49049,     0.49149,     0.49249,     0.49349,     0.49449,      0.4955,      0.4965,      0.4975,      0.4985,      0.4995,      0.5005,      0.5015,      0.5025,      0.5035,\n",
              "            0.5045,     0.50551,     0.50651,     0.50751,     0.50851,     0.50951,     0.51051,     0.51151,     0.51251,     0.51351,     0.51451,     0.51552,     0.51652,     0.51752,     0.51852,     0.51952,     0.52052,     0.52152,     0.52252,     0.52352,     0.52452,     0.52553,     0.52653,     0.52753,\n",
              "           0.52853,     0.52953,     0.53053,     0.53153,     0.53253,     0.53353,     0.53453,     0.53554,     0.53654,     0.53754,     0.53854,     0.53954,     0.54054,     0.54154,     0.54254,     0.54354,     0.54454,     0.54555,     0.54655,     0.54755,     0.54855,     0.54955,     0.55055,     0.55155,\n",
              "           0.55255,     0.55355,     0.55455,     0.55556,     0.55656,     0.55756,     0.55856,     0.55956,     0.56056,     0.56156,     0.56256,     0.56356,     0.56456,     0.56557,     0.56657,     0.56757,     0.56857,     0.56957,     0.57057,     0.57157,     0.57257,     0.57357,     0.57457,     0.57558,\n",
              "           0.57658,     0.57758,     0.57858,     0.57958,     0.58058,     0.58158,     0.58258,     0.58358,     0.58458,     0.58559,     0.58659,     0.58759,     0.58859,     0.58959,     0.59059,     0.59159,     0.59259,     0.59359,     0.59459,      0.5956,      0.5966,      0.5976,      0.5986,      0.5996,\n",
              "            0.6006,      0.6016,      0.6026,      0.6036,      0.6046,     0.60561,     0.60661,     0.60761,     0.60861,     0.60961,     0.61061,     0.61161,     0.61261,     0.61361,     0.61461,     0.61562,     0.61662,     0.61762,     0.61862,     0.61962,     0.62062,     0.62162,     0.62262,     0.62362,\n",
              "           0.62462,     0.62563,     0.62663,     0.62763,     0.62863,     0.62963,     0.63063,     0.63163,     0.63263,     0.63363,     0.63463,     0.63564,     0.63664,     0.63764,     0.63864,     0.63964,     0.64064,     0.64164,     0.64264,     0.64364,     0.64464,     0.64565,     0.64665,     0.64765,\n",
              "           0.64865,     0.64965,     0.65065,     0.65165,     0.65265,     0.65365,     0.65465,     0.65566,     0.65666,     0.65766,     0.65866,     0.65966,     0.66066,     0.66166,     0.66266,     0.66366,     0.66466,     0.66567,     0.66667,     0.66767,     0.66867,     0.66967,     0.67067,     0.67167,\n",
              "           0.67267,     0.67367,     0.67467,     0.67568,     0.67668,     0.67768,     0.67868,     0.67968,     0.68068,     0.68168,     0.68268,     0.68368,     0.68468,     0.68569,     0.68669,     0.68769,     0.68869,     0.68969,     0.69069,     0.69169,     0.69269,     0.69369,     0.69469,      0.6957,\n",
              "            0.6967,      0.6977,      0.6987,      0.6997,      0.7007,      0.7017,      0.7027,      0.7037,      0.7047,     0.70571,     0.70671,     0.70771,     0.70871,     0.70971,     0.71071,     0.71171,     0.71271,     0.71371,     0.71471,     0.71572,     0.71672,     0.71772,     0.71872,     0.71972,\n",
              "           0.72072,     0.72172,     0.72272,     0.72372,     0.72472,     0.72573,     0.72673,     0.72773,     0.72873,     0.72973,     0.73073,     0.73173,     0.73273,     0.73373,     0.73473,     0.73574,     0.73674,     0.73774,     0.73874,     0.73974,     0.74074,     0.74174,     0.74274,     0.74374,\n",
              "           0.74474,     0.74575,     0.74675,     0.74775,     0.74875,     0.74975,     0.75075,     0.75175,     0.75275,     0.75375,     0.75475,     0.75576,     0.75676,     0.75776,     0.75876,     0.75976,     0.76076,     0.76176,     0.76276,     0.76376,     0.76476,     0.76577,     0.76677,     0.76777,\n",
              "           0.76877,     0.76977,     0.77077,     0.77177,     0.77277,     0.77377,     0.77477,     0.77578,     0.77678,     0.77778,     0.77878,     0.77978,     0.78078,     0.78178,     0.78278,     0.78378,     0.78478,     0.78579,     0.78679,     0.78779,     0.78879,     0.78979,     0.79079,     0.79179,\n",
              "           0.79279,     0.79379,     0.79479,      0.7958,      0.7968,      0.7978,      0.7988,      0.7998,      0.8008,      0.8018,      0.8028,      0.8038,      0.8048,     0.80581,     0.80681,     0.80781,     0.80881,     0.80981,     0.81081,     0.81181,     0.81281,     0.81381,     0.81481,     0.81582,\n",
              "           0.81682,     0.81782,     0.81882,     0.81982,     0.82082,     0.82182,     0.82282,     0.82382,     0.82482,     0.82583,     0.82683,     0.82783,     0.82883,     0.82983,     0.83083,     0.83183,     0.83283,     0.83383,     0.83483,     0.83584,     0.83684,     0.83784,     0.83884,     0.83984,\n",
              "           0.84084,     0.84184,     0.84284,     0.84384,     0.84484,     0.84585,     0.84685,     0.84785,     0.84885,     0.84985,     0.85085,     0.85185,     0.85285,     0.85385,     0.85485,     0.85586,     0.85686,     0.85786,     0.85886,     0.85986,     0.86086,     0.86186,     0.86286,     0.86386,\n",
              "           0.86486,     0.86587,     0.86687,     0.86787,     0.86887,     0.86987,     0.87087,     0.87187,     0.87287,     0.87387,     0.87487,     0.87588,     0.87688,     0.87788,     0.87888,     0.87988,     0.88088,     0.88188,     0.88288,     0.88388,     0.88488,     0.88589,     0.88689,     0.88789,\n",
              "           0.88889,     0.88989,     0.89089,     0.89189,     0.89289,     0.89389,     0.89489,      0.8959,      0.8969,      0.8979,      0.8989,      0.8999,      0.9009,      0.9019,      0.9029,      0.9039,      0.9049,     0.90591,     0.90691,     0.90791,     0.90891,     0.90991,     0.91091,     0.91191,\n",
              "           0.91291,     0.91391,     0.91491,     0.91592,     0.91692,     0.91792,     0.91892,     0.91992,     0.92092,     0.92192,     0.92292,     0.92392,     0.92492,     0.92593,     0.92693,     0.92793,     0.92893,     0.92993,     0.93093,     0.93193,     0.93293,     0.93393,     0.93493,     0.93594,\n",
              "           0.93694,     0.93794,     0.93894,     0.93994,     0.94094,     0.94194,     0.94294,     0.94394,     0.94494,     0.94595,     0.94695,     0.94795,     0.94895,     0.94995,     0.95095,     0.95195,     0.95295,     0.95395,     0.95495,     0.95596,     0.95696,     0.95796,     0.95896,     0.95996,\n",
              "           0.96096,     0.96196,     0.96296,     0.96396,     0.96496,     0.96597,     0.96697,     0.96797,     0.96897,     0.96997,     0.97097,     0.97197,     0.97297,     0.97397,     0.97497,     0.97598,     0.97698,     0.97798,     0.97898,     0.97998,     0.98098,     0.98198,     0.98298,     0.98398,\n",
              "           0.98498,     0.98599,     0.98699,     0.98799,     0.98899,     0.98999,     0.99099,     0.99199,     0.99299,     0.99399,     0.99499,       0.996,       0.997,       0.998,       0.999,           1]), array([[    0.27152,     0.27152,     0.35344,     0.39947,     0.43513,     0.46209,     0.47621,     0.51078,     0.52165,     0.54569,     0.55455,     0.55776,     0.57589,     0.58339,     0.58868,     0.59327,     0.60139,     0.60528,     0.59949,     0.61751,      0.6211,     0.62516,     0.62805,\n",
              "            0.63046,     0.63201,     0.63356,     0.63529,     0.63844,     0.64283,     0.65164,     0.66196,     0.66299,     0.66402,     0.66505,     0.66608,     0.67104,     0.67298,     0.67379,     0.67459,      0.6754,      0.6762,     0.67701,     0.67781,     0.68968,     0.69139,     0.69311,\n",
              "            0.69481,     0.69585,     0.69625,     0.69664,     0.69703,     0.69743,     0.69782,     0.69821,     0.69861,       0.699,     0.69939,     0.69978,     0.70017,     0.70057,     0.70096,     0.70135,     0.70174,     0.70237,     0.70301,     0.70365,     0.70429,     0.70493,     0.70557,\n",
              "            0.70621,     0.70684,     0.70748,     0.71476,      0.7168,     0.71883,     0.72095,     0.72454,      0.7342,     0.73531,     0.73642,     0.73752,     0.73863,     0.73973,     0.74104,     0.74496,     0.75488,     0.75543,     0.75597,     0.75651,     0.75706,      0.7576,     0.75814,\n",
              "            0.75868,     0.75922,     0.75976,      0.7603,     0.76084,     0.76138,     0.76191,     0.76261,      0.7633,     0.76398,     0.76467,     0.76536,     0.76605,     0.76673,     0.76742,      0.7681,     0.76878,     0.76942,     0.76999,     0.77055,     0.77111,     0.77167,     0.77223,\n",
              "            0.77279,     0.77335,     0.77391,     0.77447,     0.77503,     0.77558,     0.77614,     0.77669,     0.78509,     0.78588,     0.78666,     0.78745,     0.78823,     0.78901,     0.78979,     0.79057,     0.79134,     0.79214,     0.79323,     0.79431,      0.7954,     0.79648,     0.79756,\n",
              "            0.79864,     0.79972,     0.81224,     0.81641,     0.81673,     0.81704,     0.81736,     0.81768,     0.81799,     0.81831,     0.81862,     0.81894,     0.81925,     0.81957,     0.81988,     0.82019,     0.82051,     0.82082,     0.82113,     0.82145,     0.82176,     0.82207,     0.82239,\n",
              "             0.8227,     0.82301,     0.82332,     0.82363,     0.82395,     0.82426,     0.82457,     0.82493,     0.82535,     0.82577,     0.82619,     0.82661,     0.82703,     0.82744,     0.82786,     0.82828,      0.8287,     0.82911,     0.82953,     0.82995,     0.83036,     0.83078,     0.83119,\n",
              "            0.83161,     0.83202,     0.83244,     0.83285,     0.83326,     0.83352,     0.83375,     0.83398,      0.8342,     0.83443,     0.83465,     0.83488,     0.83511,     0.83533,     0.83556,     0.83578,     0.83601,     0.83624,     0.83646,     0.83669,     0.83691,     0.83714,     0.83736,\n",
              "            0.83759,     0.83781,     0.83804,     0.83826,     0.83849,     0.83871,     0.83893,     0.83916,     0.83938,     0.83961,     0.83983,     0.84005,     0.84028,      0.8405,     0.84072,     0.84095,     0.84117,     0.84139,     0.84162,     0.84184,     0.84206,     0.84176,     0.84133,\n",
              "             0.8409,     0.84048,     0.84005,     0.83962,     0.83919,     0.83876,     0.83834,     0.83791,     0.83748,     0.83705,     0.83662,     0.83619,     0.83576,     0.83533,      0.8349,     0.83447,     0.83404,     0.83361,     0.83318,     0.83275,     0.83231,     0.83188,     0.83145,\n",
              "            0.83102,     0.83059,     0.83015,     0.82997,     0.83116,     0.83234,     0.83353,     0.83471,     0.83589,     0.83706,     0.83823,     0.83877,     0.83888,     0.83898,     0.83909,     0.83919,      0.8393,      0.8394,     0.83951,     0.83961,     0.83972,     0.83982,     0.83993,\n",
              "            0.84003,     0.84014,     0.84024,     0.84035,     0.84045,     0.84056,     0.84066,     0.84077,     0.84087,     0.84097,     0.84108,     0.84118,     0.84129,     0.84139,      0.8415,      0.8416,     0.84171,     0.84181,     0.84192,     0.84202,     0.84212,     0.84223,     0.84233,\n",
              "            0.84244,     0.84254,     0.84265,     0.84275,     0.84285,     0.84296,     0.84306,     0.84317,     0.84327,     0.84337,     0.84348,     0.84358,     0.84369,     0.84379,     0.84389,       0.844,      0.8441,     0.84421,     0.84431,     0.84441,     0.84452,     0.84462,     0.84473,\n",
              "            0.84483,     0.84493,     0.84504,     0.84514,     0.84524,     0.84535,     0.84545,     0.84556,     0.84566,     0.84576,     0.84587,     0.84597,     0.84607,     0.84618,     0.84628,     0.84638,     0.84649,     0.84659,     0.84669,      0.8468,      0.8469,       0.847,     0.84711,\n",
              "            0.84721,     0.84731,     0.84742,     0.84752,     0.84762,     0.84773,     0.84767,     0.84297,     0.83825,      0.8355,     0.83646,     0.83742,     0.83837,     0.83933,     0.84028,     0.84123,     0.84217,     0.84312,     0.84406,     0.84467,     0.84506,     0.84544,     0.84583,\n",
              "            0.84621,      0.8466,     0.84698,     0.84736,     0.84775,     0.84813,     0.84851,     0.84889,     0.84927,     0.84965,     0.85004,     0.85042,      0.8508,     0.85118,     0.85156,     0.85193,     0.85231,     0.85269,     0.85307,     0.85345,     0.85383,     0.85411,     0.85436,\n",
              "            0.85461,     0.85485,      0.8551,     0.85535,      0.8556,     0.85584,     0.85609,     0.85634,     0.85659,     0.85683,     0.85708,     0.85733,     0.85757,     0.85782,     0.85806,     0.85831,     0.85856,      0.8588,     0.85905,     0.85929,     0.85954,     0.85978,     0.86003,\n",
              "            0.86027,     0.86052,     0.86076,     0.86101,     0.86125,      0.8615,     0.86174,     0.86198,     0.86223,     0.86247,     0.86271,     0.86296,      0.8632,     0.86344,     0.86399,      0.8657,      0.8674,      0.8691,     0.87079,     0.87248,      0.8736,     0.87371,     0.87381,\n",
              "            0.87392,     0.87402,     0.87413,     0.87424,     0.87434,     0.87445,     0.87455,     0.87466,     0.87476,     0.87487,     0.87497,     0.87508,     0.87519,     0.87529,      0.8754,      0.8755,     0.87561,     0.87571,     0.87582,     0.87592,     0.87603,     0.87613,     0.87624,\n",
              "            0.87634,     0.87645,     0.87656,     0.87666,     0.87677,     0.87687,     0.87698,     0.87708,     0.87719,     0.87729,      0.8774,      0.8775,     0.87761,     0.87771,     0.87782,     0.87792,     0.87802,     0.87813,     0.87823,     0.87834,     0.87844,     0.87855,     0.87865,\n",
              "            0.87876,     0.87886,     0.87897,     0.87907,     0.87918,     0.87928,     0.87939,     0.87949,     0.87959,      0.8797,      0.8798,     0.87991,     0.88001,     0.88012,     0.88022,     0.88032,     0.88043,     0.88053,     0.88064,     0.88074,     0.88085,     0.88095,     0.88105,\n",
              "            0.88116,     0.88126,     0.88137,     0.88147,     0.88157,     0.88168,     0.88178,     0.88188,     0.88199,     0.88209,      0.8822,      0.8823,      0.8824,     0.88251,     0.88261,     0.88271,     0.88282,     0.88292,     0.88303,     0.88313,     0.88323,     0.88334,     0.88344,\n",
              "            0.88354,     0.88365,     0.88356,     0.88301,     0.88245,      0.8819,     0.88134,     0.88078,     0.88022,     0.87966,     0.87911,     0.87855,     0.87799,     0.87743,     0.87686,      0.8763,     0.87574,     0.87518,     0.87462,     0.87405,     0.87349,     0.87292,     0.87236,\n",
              "             0.8718,     0.87123,     0.87066,     0.87202,     0.87367,     0.87531,     0.87694,     0.87857,     0.88019,     0.88137,     0.88215,     0.88294,     0.88372,      0.8845,     0.88528,     0.88606,     0.88684,     0.88761,     0.88838,     0.88916,     0.88993,      0.8907,     0.89146,\n",
              "            0.90212,     0.90175,     0.90139,     0.90102,     0.90065,     0.90029,     0.89992,     0.89955,     0.89918,     0.89882,     0.89845,     0.89808,     0.89771,     0.89734,     0.89697,      0.8966,     0.89623,     0.89586,     0.89549,     0.89512,     0.89475,     0.89438,     0.89401,\n",
              "            0.89363,     0.89326,     0.89289,     0.89252,     0.89215,     0.89177,      0.8914,     0.89103,     0.89065,     0.89028,     0.88991,     0.88953,     0.88916,     0.88851,     0.88717,     0.88582,     0.88447,     0.88312,     0.88177,     0.88041,     0.87905,     0.87768,     0.87632,\n",
              "            0.87504,     0.87609,     0.87713,     0.87817,     0.87921,     0.88024,     0.88128,      0.8823,     0.88333,     0.88435,     0.88537,      0.8858,     0.88489,     0.88399,     0.88308,     0.88217,     0.88126,     0.88035,     0.87944,     0.87852,      0.8776,     0.87669,     0.87577,\n",
              "            0.87485,     0.87392,       0.873,     0.87207,     0.86949,     0.86617,     0.86283,     0.85948,     0.85687,     0.85597,     0.85507,     0.85417,     0.85327,     0.85237,     0.85147,     0.85056,     0.84966,     0.84875,     0.84784,     0.84693,     0.84602,     0.84511,     0.84419,\n",
              "            0.84328,     0.84236,     0.84112,     0.83976,     0.83839,     0.83703,     0.83565,     0.83428,      0.8329,     0.83152,     0.83014,     0.82875,     0.82736,     0.82607,     0.82488,     0.82368,     0.82249,     0.82129,     0.82009,     0.81889,     0.81768,     0.81648,     0.81527,\n",
              "            0.81405,     0.81284,     0.81162,     0.80989,     0.80714,     0.80437,     0.80159,     0.79879,     0.79598,     0.79248,     0.78822,     0.78393,     0.77961,     0.77659,     0.77454,     0.77248,     0.77041,     0.76833,     0.76625,     0.76416,     0.76207,     0.72102,     0.70819,\n",
              "            0.70499,      0.7039,     0.70282,     0.70173,     0.70064,     0.69954,     0.69845,     0.69735,     0.69625,     0.69515,     0.69405,     0.69294,     0.69184,     0.69073,     0.68962,      0.6885,     0.68739,     0.62463,     0.62321,     0.62178,     0.62035,     0.61892,     0.61748,\n",
              "            0.61605,      0.6146,     0.61316,     0.61171,     0.61026,     0.60881,     0.60736,      0.6059,     0.60443,     0.60264,     0.59884,     0.59502,     0.59118,     0.58731,     0.58343,     0.57942,     0.57513,     0.57082,     0.56648,     0.56212,     0.55773,      0.5524,     0.54695,\n",
              "            0.54147,     0.53594,     0.50664,     0.50317,     0.49968,     0.49618,     0.49265,     0.48912,     0.48556,     0.48172,     0.47682,     0.47189,     0.46693,     0.46193,     0.45691,     0.45337,     0.45008,     0.44678,     0.44347,     0.44014,      0.4368,     0.43344,     0.43007,\n",
              "            0.42215,     0.41047,     0.39861,     0.38657,     0.37435,     0.36737,     0.36292,     0.35845,     0.35395,     0.34943,     0.34489,     0.34032,     0.33689,     0.33367,     0.33042,     0.32717,     0.32391,     0.32063,     0.31734,     0.31403,     0.31071,     0.30692,     0.29853,\n",
              "            0.29006,      0.2815,     0.23803,     0.22764,     0.21713,     0.20648,     0.19431,     0.18156,     0.16863,     0.15327,     0.13724,     0.12508,     0.11876,      0.1124,     0.10599,    0.099538,    0.093044,    0.086611,    0.081581,    0.076524,    0.071441,    0.066331,    0.061193,\n",
              "           0.056028,    0.050836,    0.045616,           0,           0,           0,           0,           0,           0,           0,           0,           0,           0,           0,           0,           0,           0,           0,           0,           0,           0,           0,           0,\n",
              "                  0,           0,           0,           0,           0,           0,           0,           0,           0,           0,           0,           0,           0,           0,           0,           0,           0,           0,           0,           0,           0,           0,           0,\n",
              "                  0,           0,           0,           0,           0,           0,           0,           0,           0,           0,           0,           0,           0,           0,           0,           0,           0,           0,           0,           0,           0,           0,           0,\n",
              "                  0,           0,           0,           0,           0,           0,           0,           0,           0,           0,           0,           0,           0,           0,           0,           0,           0,           0,           0,           0,           0,           0,           0,\n",
              "                  0,           0,           0,           0,           0,           0,           0,           0,           0,           0,           0,           0,           0,           0,           0,           0,           0,           0,           0,           0,           0,           0,           0,\n",
              "                  0,           0,           0,           0,           0,           0,           0,           0,           0,           0,           0,           0,           0,           0,           0,           0,           0,           0,           0,           0,           0,           0,           0,\n",
              "                  0,           0,           0,           0,           0,           0,           0,           0,           0,           0,           0,           0,           0,           0,           0,           0,           0,           0,           0,           0,           0,           0,           0,\n",
              "                  0,           0,           0,           0,           0,           0,           0,           0,           0,           0,           0]]), 'Confidence', 'F1'], [array([          0,    0.001001,    0.002002,    0.003003,    0.004004,    0.005005,    0.006006,    0.007007,    0.008008,    0.009009,     0.01001,    0.011011,    0.012012,    0.013013,    0.014014,    0.015015,    0.016016,    0.017017,    0.018018,    0.019019,     0.02002,    0.021021,    0.022022,    0.023023,\n",
              "          0.024024,    0.025025,    0.026026,    0.027027,    0.028028,    0.029029,     0.03003,    0.031031,    0.032032,    0.033033,    0.034034,    0.035035,    0.036036,    0.037037,    0.038038,    0.039039,     0.04004,    0.041041,    0.042042,    0.043043,    0.044044,    0.045045,    0.046046,    0.047047,\n",
              "          0.048048,    0.049049,     0.05005,    0.051051,    0.052052,    0.053053,    0.054054,    0.055055,    0.056056,    0.057057,    0.058058,    0.059059,     0.06006,    0.061061,    0.062062,    0.063063,    0.064064,    0.065065,    0.066066,    0.067067,    0.068068,    0.069069,     0.07007,    0.071071,\n",
              "          0.072072,    0.073073,    0.074074,    0.075075,    0.076076,    0.077077,    0.078078,    0.079079,     0.08008,    0.081081,    0.082082,    0.083083,    0.084084,    0.085085,    0.086086,    0.087087,    0.088088,    0.089089,     0.09009,    0.091091,    0.092092,    0.093093,    0.094094,    0.095095,\n",
              "          0.096096,    0.097097,    0.098098,    0.099099,      0.1001,      0.1011,      0.1021,      0.1031,      0.1041,     0.10511,     0.10611,     0.10711,     0.10811,     0.10911,     0.11011,     0.11111,     0.11211,     0.11311,     0.11411,     0.11512,     0.11612,     0.11712,     0.11812,     0.11912,\n",
              "           0.12012,     0.12112,     0.12212,     0.12312,     0.12412,     0.12513,     0.12613,     0.12713,     0.12813,     0.12913,     0.13013,     0.13113,     0.13213,     0.13313,     0.13413,     0.13514,     0.13614,     0.13714,     0.13814,     0.13914,     0.14014,     0.14114,     0.14214,     0.14314,\n",
              "           0.14414,     0.14515,     0.14615,     0.14715,     0.14815,     0.14915,     0.15015,     0.15115,     0.15215,     0.15315,     0.15415,     0.15516,     0.15616,     0.15716,     0.15816,     0.15916,     0.16016,     0.16116,     0.16216,     0.16316,     0.16416,     0.16517,     0.16617,     0.16717,\n",
              "           0.16817,     0.16917,     0.17017,     0.17117,     0.17217,     0.17317,     0.17417,     0.17518,     0.17618,     0.17718,     0.17818,     0.17918,     0.18018,     0.18118,     0.18218,     0.18318,     0.18418,     0.18519,     0.18619,     0.18719,     0.18819,     0.18919,     0.19019,     0.19119,\n",
              "           0.19219,     0.19319,     0.19419,      0.1952,      0.1962,      0.1972,      0.1982,      0.1992,      0.2002,      0.2012,      0.2022,      0.2032,      0.2042,     0.20521,     0.20621,     0.20721,     0.20821,     0.20921,     0.21021,     0.21121,     0.21221,     0.21321,     0.21421,     0.21522,\n",
              "           0.21622,     0.21722,     0.21822,     0.21922,     0.22022,     0.22122,     0.22222,     0.22322,     0.22422,     0.22523,     0.22623,     0.22723,     0.22823,     0.22923,     0.23023,     0.23123,     0.23223,     0.23323,     0.23423,     0.23524,     0.23624,     0.23724,     0.23824,     0.23924,\n",
              "           0.24024,     0.24124,     0.24224,     0.24324,     0.24424,     0.24525,     0.24625,     0.24725,     0.24825,     0.24925,     0.25025,     0.25125,     0.25225,     0.25325,     0.25425,     0.25526,     0.25626,     0.25726,     0.25826,     0.25926,     0.26026,     0.26126,     0.26226,     0.26326,\n",
              "           0.26426,     0.26527,     0.26627,     0.26727,     0.26827,     0.26927,     0.27027,     0.27127,     0.27227,     0.27327,     0.27427,     0.27528,     0.27628,     0.27728,     0.27828,     0.27928,     0.28028,     0.28128,     0.28228,     0.28328,     0.28428,     0.28529,     0.28629,     0.28729,\n",
              "           0.28829,     0.28929,     0.29029,     0.29129,     0.29229,     0.29329,     0.29429,      0.2953,      0.2963,      0.2973,      0.2983,      0.2993,      0.3003,      0.3013,      0.3023,      0.3033,      0.3043,     0.30531,     0.30631,     0.30731,     0.30831,     0.30931,     0.31031,     0.31131,\n",
              "           0.31231,     0.31331,     0.31431,     0.31532,     0.31632,     0.31732,     0.31832,     0.31932,     0.32032,     0.32132,     0.32232,     0.32332,     0.32432,     0.32533,     0.32633,     0.32733,     0.32833,     0.32933,     0.33033,     0.33133,     0.33233,     0.33333,     0.33433,     0.33534,\n",
              "           0.33634,     0.33734,     0.33834,     0.33934,     0.34034,     0.34134,     0.34234,     0.34334,     0.34434,     0.34535,     0.34635,     0.34735,     0.34835,     0.34935,     0.35035,     0.35135,     0.35235,     0.35335,     0.35435,     0.35536,     0.35636,     0.35736,     0.35836,     0.35936,\n",
              "           0.36036,     0.36136,     0.36236,     0.36336,     0.36436,     0.36537,     0.36637,     0.36737,     0.36837,     0.36937,     0.37037,     0.37137,     0.37237,     0.37337,     0.37437,     0.37538,     0.37638,     0.37738,     0.37838,     0.37938,     0.38038,     0.38138,     0.38238,     0.38338,\n",
              "           0.38438,     0.38539,     0.38639,     0.38739,     0.38839,     0.38939,     0.39039,     0.39139,     0.39239,     0.39339,     0.39439,      0.3954,      0.3964,      0.3974,      0.3984,      0.3994,      0.4004,      0.4014,      0.4024,      0.4034,      0.4044,     0.40541,     0.40641,     0.40741,\n",
              "           0.40841,     0.40941,     0.41041,     0.41141,     0.41241,     0.41341,     0.41441,     0.41542,     0.41642,     0.41742,     0.41842,     0.41942,     0.42042,     0.42142,     0.42242,     0.42342,     0.42442,     0.42543,     0.42643,     0.42743,     0.42843,     0.42943,     0.43043,     0.43143,\n",
              "           0.43243,     0.43343,     0.43443,     0.43544,     0.43644,     0.43744,     0.43844,     0.43944,     0.44044,     0.44144,     0.44244,     0.44344,     0.44444,     0.44545,     0.44645,     0.44745,     0.44845,     0.44945,     0.45045,     0.45145,     0.45245,     0.45345,     0.45445,     0.45546,\n",
              "           0.45646,     0.45746,     0.45846,     0.45946,     0.46046,     0.46146,     0.46246,     0.46346,     0.46446,     0.46547,     0.46647,     0.46747,     0.46847,     0.46947,     0.47047,     0.47147,     0.47247,     0.47347,     0.47447,     0.47548,     0.47648,     0.47748,     0.47848,     0.47948,\n",
              "           0.48048,     0.48148,     0.48248,     0.48348,     0.48448,     0.48549,     0.48649,     0.48749,     0.48849,     0.48949,     0.49049,     0.49149,     0.49249,     0.49349,     0.49449,      0.4955,      0.4965,      0.4975,      0.4985,      0.4995,      0.5005,      0.5015,      0.5025,      0.5035,\n",
              "            0.5045,     0.50551,     0.50651,     0.50751,     0.50851,     0.50951,     0.51051,     0.51151,     0.51251,     0.51351,     0.51451,     0.51552,     0.51652,     0.51752,     0.51852,     0.51952,     0.52052,     0.52152,     0.52252,     0.52352,     0.52452,     0.52553,     0.52653,     0.52753,\n",
              "           0.52853,     0.52953,     0.53053,     0.53153,     0.53253,     0.53353,     0.53453,     0.53554,     0.53654,     0.53754,     0.53854,     0.53954,     0.54054,     0.54154,     0.54254,     0.54354,     0.54454,     0.54555,     0.54655,     0.54755,     0.54855,     0.54955,     0.55055,     0.55155,\n",
              "           0.55255,     0.55355,     0.55455,     0.55556,     0.55656,     0.55756,     0.55856,     0.55956,     0.56056,     0.56156,     0.56256,     0.56356,     0.56456,     0.56557,     0.56657,     0.56757,     0.56857,     0.56957,     0.57057,     0.57157,     0.57257,     0.57357,     0.57457,     0.57558,\n",
              "           0.57658,     0.57758,     0.57858,     0.57958,     0.58058,     0.58158,     0.58258,     0.58358,     0.58458,     0.58559,     0.58659,     0.58759,     0.58859,     0.58959,     0.59059,     0.59159,     0.59259,     0.59359,     0.59459,      0.5956,      0.5966,      0.5976,      0.5986,      0.5996,\n",
              "            0.6006,      0.6016,      0.6026,      0.6036,      0.6046,     0.60561,     0.60661,     0.60761,     0.60861,     0.60961,     0.61061,     0.61161,     0.61261,     0.61361,     0.61461,     0.61562,     0.61662,     0.61762,     0.61862,     0.61962,     0.62062,     0.62162,     0.62262,     0.62362,\n",
              "           0.62462,     0.62563,     0.62663,     0.62763,     0.62863,     0.62963,     0.63063,     0.63163,     0.63263,     0.63363,     0.63463,     0.63564,     0.63664,     0.63764,     0.63864,     0.63964,     0.64064,     0.64164,     0.64264,     0.64364,     0.64464,     0.64565,     0.64665,     0.64765,\n",
              "           0.64865,     0.64965,     0.65065,     0.65165,     0.65265,     0.65365,     0.65465,     0.65566,     0.65666,     0.65766,     0.65866,     0.65966,     0.66066,     0.66166,     0.66266,     0.66366,     0.66466,     0.66567,     0.66667,     0.66767,     0.66867,     0.66967,     0.67067,     0.67167,\n",
              "           0.67267,     0.67367,     0.67467,     0.67568,     0.67668,     0.67768,     0.67868,     0.67968,     0.68068,     0.68168,     0.68268,     0.68368,     0.68468,     0.68569,     0.68669,     0.68769,     0.68869,     0.68969,     0.69069,     0.69169,     0.69269,     0.69369,     0.69469,      0.6957,\n",
              "            0.6967,      0.6977,      0.6987,      0.6997,      0.7007,      0.7017,      0.7027,      0.7037,      0.7047,     0.70571,     0.70671,     0.70771,     0.70871,     0.70971,     0.71071,     0.71171,     0.71271,     0.71371,     0.71471,     0.71572,     0.71672,     0.71772,     0.71872,     0.71972,\n",
              "           0.72072,     0.72172,     0.72272,     0.72372,     0.72472,     0.72573,     0.72673,     0.72773,     0.72873,     0.72973,     0.73073,     0.73173,     0.73273,     0.73373,     0.73473,     0.73574,     0.73674,     0.73774,     0.73874,     0.73974,     0.74074,     0.74174,     0.74274,     0.74374,\n",
              "           0.74474,     0.74575,     0.74675,     0.74775,     0.74875,     0.74975,     0.75075,     0.75175,     0.75275,     0.75375,     0.75475,     0.75576,     0.75676,     0.75776,     0.75876,     0.75976,     0.76076,     0.76176,     0.76276,     0.76376,     0.76476,     0.76577,     0.76677,     0.76777,\n",
              "           0.76877,     0.76977,     0.77077,     0.77177,     0.77277,     0.77377,     0.77477,     0.77578,     0.77678,     0.77778,     0.77878,     0.77978,     0.78078,     0.78178,     0.78278,     0.78378,     0.78478,     0.78579,     0.78679,     0.78779,     0.78879,     0.78979,     0.79079,     0.79179,\n",
              "           0.79279,     0.79379,     0.79479,      0.7958,      0.7968,      0.7978,      0.7988,      0.7998,      0.8008,      0.8018,      0.8028,      0.8038,      0.8048,     0.80581,     0.80681,     0.80781,     0.80881,     0.80981,     0.81081,     0.81181,     0.81281,     0.81381,     0.81481,     0.81582,\n",
              "           0.81682,     0.81782,     0.81882,     0.81982,     0.82082,     0.82182,     0.82282,     0.82382,     0.82482,     0.82583,     0.82683,     0.82783,     0.82883,     0.82983,     0.83083,     0.83183,     0.83283,     0.83383,     0.83483,     0.83584,     0.83684,     0.83784,     0.83884,     0.83984,\n",
              "           0.84084,     0.84184,     0.84284,     0.84384,     0.84484,     0.84585,     0.84685,     0.84785,     0.84885,     0.84985,     0.85085,     0.85185,     0.85285,     0.85385,     0.85485,     0.85586,     0.85686,     0.85786,     0.85886,     0.85986,     0.86086,     0.86186,     0.86286,     0.86386,\n",
              "           0.86486,     0.86587,     0.86687,     0.86787,     0.86887,     0.86987,     0.87087,     0.87187,     0.87287,     0.87387,     0.87487,     0.87588,     0.87688,     0.87788,     0.87888,     0.87988,     0.88088,     0.88188,     0.88288,     0.88388,     0.88488,     0.88589,     0.88689,     0.88789,\n",
              "           0.88889,     0.88989,     0.89089,     0.89189,     0.89289,     0.89389,     0.89489,      0.8959,      0.8969,      0.8979,      0.8989,      0.8999,      0.9009,      0.9019,      0.9029,      0.9039,      0.9049,     0.90591,     0.90691,     0.90791,     0.90891,     0.90991,     0.91091,     0.91191,\n",
              "           0.91291,     0.91391,     0.91491,     0.91592,     0.91692,     0.91792,     0.91892,     0.91992,     0.92092,     0.92192,     0.92292,     0.92392,     0.92492,     0.92593,     0.92693,     0.92793,     0.92893,     0.92993,     0.93093,     0.93193,     0.93293,     0.93393,     0.93493,     0.93594,\n",
              "           0.93694,     0.93794,     0.93894,     0.93994,     0.94094,     0.94194,     0.94294,     0.94394,     0.94494,     0.94595,     0.94695,     0.94795,     0.94895,     0.94995,     0.95095,     0.95195,     0.95295,     0.95395,     0.95495,     0.95596,     0.95696,     0.95796,     0.95896,     0.95996,\n",
              "           0.96096,     0.96196,     0.96296,     0.96396,     0.96496,     0.96597,     0.96697,     0.96797,     0.96897,     0.96997,     0.97097,     0.97197,     0.97297,     0.97397,     0.97497,     0.97598,     0.97698,     0.97798,     0.97898,     0.97998,     0.98098,     0.98198,     0.98298,     0.98398,\n",
              "           0.98498,     0.98599,     0.98699,     0.98799,     0.98899,     0.98999,     0.99099,     0.99199,     0.99299,     0.99399,     0.99499,       0.996,       0.997,       0.998,       0.999,           1]), array([[    0.15891,     0.15891,     0.21808,     0.25423,     0.28384,     0.30722,     0.31983,     0.35181,     0.36222,     0.38581,     0.39473,     0.39799,     0.41672,     0.42461,     0.43024,     0.43516,     0.44396,     0.44821,      0.4472,     0.46755,     0.47168,     0.47638,     0.47974,\n",
              "            0.48256,     0.48438,      0.4862,     0.48824,     0.49197,     0.49721,     0.50782,     0.52047,     0.52175,     0.52303,     0.52431,     0.52558,     0.53178,     0.53423,     0.53525,     0.53627,     0.53729,      0.5383,     0.53932,     0.54034,     0.55559,     0.55782,     0.56005,\n",
              "            0.56228,     0.56364,     0.56416,     0.56468,      0.5652,     0.56571,     0.56623,     0.56675,     0.56727,     0.56778,      0.5683,     0.56882,     0.56934,     0.56985,     0.57037,     0.57089,     0.57141,     0.57225,      0.5731,     0.57395,      0.5748,     0.57565,      0.5765,\n",
              "            0.57735,     0.57821,     0.57906,     0.58888,     0.59165,     0.59442,     0.59733,     0.60227,     0.61575,     0.61731,     0.61887,     0.62043,     0.62199,     0.62356,     0.62542,     0.63103,     0.64541,      0.6462,       0.647,     0.64779,     0.64859,     0.64938,     0.65018,\n",
              "            0.65098,     0.65177,     0.65257,     0.65336,     0.65416,     0.65495,     0.65575,     0.65678,      0.6578,     0.65883,     0.65985,     0.66087,      0.6619,     0.66292,     0.66395,     0.66497,     0.66599,     0.66696,      0.6678,     0.66865,      0.6695,     0.67034,     0.67119,\n",
              "            0.67203,     0.67288,     0.67373,     0.67457,     0.67542,     0.67627,     0.67711,     0.67796,     0.69086,     0.69208,      0.6933,     0.69451,     0.69573,     0.69695,     0.69817,     0.69938,      0.7006,     0.70184,     0.70356,     0.70527,     0.70698,     0.70869,     0.71041,\n",
              "            0.71212,     0.71383,     0.73404,     0.74088,      0.7414,     0.74192,     0.74245,     0.74297,     0.74349,     0.74401,     0.74453,     0.74505,     0.74557,     0.74609,     0.74661,     0.74713,     0.74765,     0.74818,      0.7487,     0.74922,     0.74974,     0.75026,     0.75078,\n",
              "             0.7513,     0.75182,     0.75234,     0.75286,     0.75338,     0.75391,     0.75443,     0.75503,     0.75573,     0.75644,     0.75714,     0.75785,     0.75855,     0.75925,     0.75996,     0.76066,     0.76137,     0.76207,     0.76278,     0.76348,     0.76418,     0.76489,     0.76559,\n",
              "             0.7663,       0.767,     0.76771,     0.76841,     0.76911,     0.76955,     0.76994,     0.77033,     0.77071,      0.7711,     0.77149,     0.77187,     0.77226,     0.77265,     0.77303,     0.77342,      0.7738,     0.77419,     0.77458,     0.77496,     0.77535,     0.77574,     0.77612,\n",
              "            0.77651,      0.7769,     0.77728,     0.77767,     0.77806,     0.77844,     0.77883,     0.77922,      0.7796,     0.77999,     0.78038,     0.78076,     0.78115,     0.78153,     0.78192,     0.78231,     0.78269,     0.78308,     0.78347,     0.78385,     0.78424,     0.78419,     0.78404,\n",
              "            0.78389,     0.78374,     0.78359,     0.78344,     0.78329,     0.78314,     0.78299,     0.78284,     0.78269,     0.78254,     0.78239,     0.78223,     0.78208,     0.78193,     0.78178,     0.78163,     0.78148,     0.78133,     0.78118,     0.78103,     0.78088,     0.78073,     0.78058,\n",
              "            0.78043,     0.78028,     0.78013,     0.78032,     0.78243,     0.78453,     0.78664,     0.78874,     0.79085,     0.79295,     0.79506,     0.79603,     0.79622,     0.79641,      0.7966,     0.79679,     0.79698,     0.79717,     0.79736,     0.79755,     0.79773,     0.79792,     0.79811,\n",
              "             0.7983,     0.79849,     0.79868,     0.79887,     0.79906,     0.79925,     0.79944,     0.79963,     0.79982,     0.80001,      0.8002,     0.80039,     0.80058,     0.80076,     0.80095,     0.80114,     0.80133,     0.80152,     0.80171,      0.8019,     0.80209,     0.80228,     0.80247,\n",
              "            0.80266,     0.80285,     0.80304,     0.80323,     0.80342,     0.80361,     0.80379,     0.80398,     0.80417,     0.80436,     0.80455,     0.80474,     0.80493,     0.80512,     0.80531,      0.8055,     0.80569,     0.80588,     0.80607,     0.80626,     0.80645,     0.80664,     0.80682,\n",
              "            0.80701,      0.8072,     0.80739,     0.80758,     0.80777,     0.80796,     0.80815,     0.80834,     0.80853,     0.80872,     0.80891,      0.8091,     0.80929,     0.80948,     0.80967,     0.80985,     0.81004,     0.81023,     0.81042,     0.81061,      0.8108,     0.81099,     0.81118,\n",
              "            0.81137,     0.81156,     0.81175,     0.81194,     0.81213,     0.81232,     0.81245,     0.81096,     0.80948,     0.80914,     0.81094,     0.81274,     0.81455,     0.81635,     0.81815,     0.81995,     0.82175,     0.82355,     0.82536,     0.82653,     0.82726,       0.828,     0.82874,\n",
              "            0.82948,     0.83022,     0.83095,     0.83169,     0.83243,     0.83317,      0.8339,     0.83464,     0.83538,     0.83612,     0.83686,     0.83759,     0.83833,     0.83907,     0.83981,     0.84055,     0.84128,     0.84202,     0.84276,      0.8435,     0.84424,     0.84479,     0.84528,\n",
              "            0.84576,     0.84625,     0.84674,     0.84722,     0.84771,     0.84819,     0.84868,     0.84916,     0.84965,     0.85014,     0.85062,     0.85111,     0.85159,     0.85208,     0.85256,     0.85305,     0.85354,     0.85402,     0.85451,     0.85499,     0.85548,     0.85596,     0.85645,\n",
              "            0.85694,     0.85742,     0.85791,     0.85839,     0.85888,     0.85936,     0.85985,     0.86034,     0.86082,     0.86131,     0.86179,     0.86228,     0.86276,     0.86325,     0.86434,     0.86777,      0.8712,     0.87464,     0.87807,      0.8815,      0.8838,     0.88401,     0.88423,\n",
              "            0.88445,     0.88466,     0.88488,      0.8851,     0.88531,     0.88553,     0.88575,     0.88596,     0.88618,      0.8864,     0.88662,     0.88683,     0.88705,     0.88727,     0.88748,      0.8877,     0.88792,     0.88813,     0.88835,     0.88857,     0.88878,       0.889,     0.88922,\n",
              "            0.88943,     0.88965,     0.88987,     0.89008,      0.8903,     0.89052,     0.89073,     0.89095,     0.89117,     0.89138,      0.8916,     0.89182,     0.89203,     0.89225,     0.89247,     0.89268,      0.8929,     0.89312,     0.89333,     0.89355,     0.89377,     0.89398,      0.8942,\n",
              "            0.89442,     0.89464,     0.89485,     0.89507,     0.89529,      0.8955,     0.89572,     0.89594,     0.89615,     0.89637,     0.89659,      0.8968,     0.89702,     0.89724,     0.89745,     0.89767,     0.89789,      0.8981,     0.89832,     0.89854,     0.89875,     0.89897,     0.89919,\n",
              "             0.8994,     0.89962,     0.89984,     0.90005,     0.90027,     0.90049,      0.9007,     0.90092,     0.90114,     0.90135,     0.90157,     0.90179,     0.90201,     0.90222,     0.90244,     0.90266,     0.90287,     0.90309,     0.90331,     0.90352,     0.90374,     0.90396,     0.90417,\n",
              "            0.90439,     0.90461,     0.90473,     0.90463,     0.90454,     0.90444,     0.90434,     0.90424,     0.90414,     0.90404,     0.90394,     0.90384,     0.90374,     0.90364,     0.90354,     0.90344,     0.90335,     0.90325,     0.90315,     0.90305,     0.90295,     0.90285,     0.90275,\n",
              "            0.90265,     0.90255,     0.90245,     0.90552,     0.90908,     0.91264,      0.9162,     0.91976,     0.92331,     0.92591,     0.92765,     0.92939,     0.93112,     0.93286,      0.9346,     0.93633,     0.93807,     0.93981,     0.94154,     0.94328,     0.94502,     0.94675,     0.94849,\n",
              "            0.97367,     0.97365,     0.97363,     0.97361,     0.97359,     0.97357,     0.97355,     0.97353,     0.97351,     0.97349,     0.97347,     0.97345,     0.97343,     0.97341,      0.9734,     0.97338,     0.97336,     0.97334,     0.97332,      0.9733,     0.97328,     0.97326,     0.97324,\n",
              "            0.97322,      0.9732,     0.97318,     0.97316,     0.97314,     0.97312,      0.9731,     0.97308,     0.97306,     0.97305,     0.97303,     0.97301,     0.97299,     0.97295,     0.97288,     0.97281,     0.97273,     0.97266,     0.97259,     0.97251,     0.97244,     0.97237,     0.97229,\n",
              "            0.97232,     0.97491,      0.9775,     0.98009,     0.98268,     0.98527,     0.98786,     0.99044,     0.99303,     0.99562,     0.99821,           1,           1,           1,           1,           1,           1,           1,           1,           1,           1,           1,           1,\n",
              "                  1,           1,           1,           1,           1,           1,           1,           1,           1,           1,           1,           1,           1,           1,           1,           1,           1,           1,           1,           1,           1,           1,           1,\n",
              "                  1,           1,           1,           1,           1,           1,           1,           1,           1,           1,           1,           1,           1,           1,           1,           1,           1,           1,           1,           1,           1,           1,           1,\n",
              "                  1,           1,           1,           1,           1,           1,           1,           1,           1,           1,           1,           1,           1,           1,           1,           1,           1,           1,           1,           1,           1,           1,           1,\n",
              "                  1,           1,           1,           1,           1,           1,           1,           1,           1,           1,           1,           1,           1,           1,           1,           1,           1,           1,           1,           1,           1,           1,           1,\n",
              "                  1,           1,           1,           1,           1,           1,           1,           1,           1,           1,           1,           1,           1,           1,           1,           1,           1,           1,           1,           1,           1,           1,           1,\n",
              "                  1,           1,           1,           1,           1,           1,           1,           1,           1,           1,           1,           1,           1,           1,           1,           1,           1,           1,           1,           1,           1,           1,           1,\n",
              "                  1,           1,           1,           1,           1,           1,           1,           1,           1,           1,           1,           1,           1,           1,           1,           1,           1,           1,           1,           1,           1,           1,           1,\n",
              "                  1,           1,           1,           1,           1,           1,           1,           1,           1,           1,           1,           1,           1,           1,           1,           1,           1,           1,           1,           1,           1,           1,           1,\n",
              "                  1,           1,           1,           1,           1,           1,           1,           1,           1,           1,           1,           1,           1,           1,           1,           1,           1,           1,           1,           1,           1,           1,           1,\n",
              "                  1,           1,           1,           1,           1,           1,           1,           1,           1,           1,           1,           1,           1,           1,           1,           1,           1,           1,           1,           1,           1,           1,           1,\n",
              "                  1,           1,           1,           1,           1,           1,           1,           1,           1,           1,           1,           1,           1,           1,           1,           1,           1,           1,           1,           1,           1,           1,           1,\n",
              "                  1,           1,           1,           1,           1,           1,           1,           1,           1,           1,           1,           1,           1,           1,           1,           1,           1,           1,           1,           1,           1,           1,           1,\n",
              "                  1,           1,           1,           1,           1,           1,           1,           1,           1,           1,           1,           1,           1,           1,           1,           1,           1,           1,           1,           1,           1,           1,           1,\n",
              "                  1,           1,           1,           1,           1,           1,           1,           1,           1,           1,           1,           1,           1,           1,           1,           1,           1,           1,           1,           1,           1,           1,           1,\n",
              "                  1,           1,           1,           1,           1,           1,           1,           1,           1,           1,           1,           1,           1,           1,           1,           1,           1,           1,           1,           1,           1,           1,           1,\n",
              "                  1,           1,           1,           1,           1,           1,           1,           1,           1,           1,           1]]), 'Confidence', 'Precision'], [array([          0,    0.001001,    0.002002,    0.003003,    0.004004,    0.005005,    0.006006,    0.007007,    0.008008,    0.009009,     0.01001,    0.011011,    0.012012,    0.013013,    0.014014,    0.015015,    0.016016,    0.017017,    0.018018,    0.019019,     0.02002,    0.021021,    0.022022,    0.023023,\n",
              "          0.024024,    0.025025,    0.026026,    0.027027,    0.028028,    0.029029,     0.03003,    0.031031,    0.032032,    0.033033,    0.034034,    0.035035,    0.036036,    0.037037,    0.038038,    0.039039,     0.04004,    0.041041,    0.042042,    0.043043,    0.044044,    0.045045,    0.046046,    0.047047,\n",
              "          0.048048,    0.049049,     0.05005,    0.051051,    0.052052,    0.053053,    0.054054,    0.055055,    0.056056,    0.057057,    0.058058,    0.059059,     0.06006,    0.061061,    0.062062,    0.063063,    0.064064,    0.065065,    0.066066,    0.067067,    0.068068,    0.069069,     0.07007,    0.071071,\n",
              "          0.072072,    0.073073,    0.074074,    0.075075,    0.076076,    0.077077,    0.078078,    0.079079,     0.08008,    0.081081,    0.082082,    0.083083,    0.084084,    0.085085,    0.086086,    0.087087,    0.088088,    0.089089,     0.09009,    0.091091,    0.092092,    0.093093,    0.094094,    0.095095,\n",
              "          0.096096,    0.097097,    0.098098,    0.099099,      0.1001,      0.1011,      0.1021,      0.1031,      0.1041,     0.10511,     0.10611,     0.10711,     0.10811,     0.10911,     0.11011,     0.11111,     0.11211,     0.11311,     0.11411,     0.11512,     0.11612,     0.11712,     0.11812,     0.11912,\n",
              "           0.12012,     0.12112,     0.12212,     0.12312,     0.12412,     0.12513,     0.12613,     0.12713,     0.12813,     0.12913,     0.13013,     0.13113,     0.13213,     0.13313,     0.13413,     0.13514,     0.13614,     0.13714,     0.13814,     0.13914,     0.14014,     0.14114,     0.14214,     0.14314,\n",
              "           0.14414,     0.14515,     0.14615,     0.14715,     0.14815,     0.14915,     0.15015,     0.15115,     0.15215,     0.15315,     0.15415,     0.15516,     0.15616,     0.15716,     0.15816,     0.15916,     0.16016,     0.16116,     0.16216,     0.16316,     0.16416,     0.16517,     0.16617,     0.16717,\n",
              "           0.16817,     0.16917,     0.17017,     0.17117,     0.17217,     0.17317,     0.17417,     0.17518,     0.17618,     0.17718,     0.17818,     0.17918,     0.18018,     0.18118,     0.18218,     0.18318,     0.18418,     0.18519,     0.18619,     0.18719,     0.18819,     0.18919,     0.19019,     0.19119,\n",
              "           0.19219,     0.19319,     0.19419,      0.1952,      0.1962,      0.1972,      0.1982,      0.1992,      0.2002,      0.2012,      0.2022,      0.2032,      0.2042,     0.20521,     0.20621,     0.20721,     0.20821,     0.20921,     0.21021,     0.21121,     0.21221,     0.21321,     0.21421,     0.21522,\n",
              "           0.21622,     0.21722,     0.21822,     0.21922,     0.22022,     0.22122,     0.22222,     0.22322,     0.22422,     0.22523,     0.22623,     0.22723,     0.22823,     0.22923,     0.23023,     0.23123,     0.23223,     0.23323,     0.23423,     0.23524,     0.23624,     0.23724,     0.23824,     0.23924,\n",
              "           0.24024,     0.24124,     0.24224,     0.24324,     0.24424,     0.24525,     0.24625,     0.24725,     0.24825,     0.24925,     0.25025,     0.25125,     0.25225,     0.25325,     0.25425,     0.25526,     0.25626,     0.25726,     0.25826,     0.25926,     0.26026,     0.26126,     0.26226,     0.26326,\n",
              "           0.26426,     0.26527,     0.26627,     0.26727,     0.26827,     0.26927,     0.27027,     0.27127,     0.27227,     0.27327,     0.27427,     0.27528,     0.27628,     0.27728,     0.27828,     0.27928,     0.28028,     0.28128,     0.28228,     0.28328,     0.28428,     0.28529,     0.28629,     0.28729,\n",
              "           0.28829,     0.28929,     0.29029,     0.29129,     0.29229,     0.29329,     0.29429,      0.2953,      0.2963,      0.2973,      0.2983,      0.2993,      0.3003,      0.3013,      0.3023,      0.3033,      0.3043,     0.30531,     0.30631,     0.30731,     0.30831,     0.30931,     0.31031,     0.31131,\n",
              "           0.31231,     0.31331,     0.31431,     0.31532,     0.31632,     0.31732,     0.31832,     0.31932,     0.32032,     0.32132,     0.32232,     0.32332,     0.32432,     0.32533,     0.32633,     0.32733,     0.32833,     0.32933,     0.33033,     0.33133,     0.33233,     0.33333,     0.33433,     0.33534,\n",
              "           0.33634,     0.33734,     0.33834,     0.33934,     0.34034,     0.34134,     0.34234,     0.34334,     0.34434,     0.34535,     0.34635,     0.34735,     0.34835,     0.34935,     0.35035,     0.35135,     0.35235,     0.35335,     0.35435,     0.35536,     0.35636,     0.35736,     0.35836,     0.35936,\n",
              "           0.36036,     0.36136,     0.36236,     0.36336,     0.36436,     0.36537,     0.36637,     0.36737,     0.36837,     0.36937,     0.37037,     0.37137,     0.37237,     0.37337,     0.37437,     0.37538,     0.37638,     0.37738,     0.37838,     0.37938,     0.38038,     0.38138,     0.38238,     0.38338,\n",
              "           0.38438,     0.38539,     0.38639,     0.38739,     0.38839,     0.38939,     0.39039,     0.39139,     0.39239,     0.39339,     0.39439,      0.3954,      0.3964,      0.3974,      0.3984,      0.3994,      0.4004,      0.4014,      0.4024,      0.4034,      0.4044,     0.40541,     0.40641,     0.40741,\n",
              "           0.40841,     0.40941,     0.41041,     0.41141,     0.41241,     0.41341,     0.41441,     0.41542,     0.41642,     0.41742,     0.41842,     0.41942,     0.42042,     0.42142,     0.42242,     0.42342,     0.42442,     0.42543,     0.42643,     0.42743,     0.42843,     0.42943,     0.43043,     0.43143,\n",
              "           0.43243,     0.43343,     0.43443,     0.43544,     0.43644,     0.43744,     0.43844,     0.43944,     0.44044,     0.44144,     0.44244,     0.44344,     0.44444,     0.44545,     0.44645,     0.44745,     0.44845,     0.44945,     0.45045,     0.45145,     0.45245,     0.45345,     0.45445,     0.45546,\n",
              "           0.45646,     0.45746,     0.45846,     0.45946,     0.46046,     0.46146,     0.46246,     0.46346,     0.46446,     0.46547,     0.46647,     0.46747,     0.46847,     0.46947,     0.47047,     0.47147,     0.47247,     0.47347,     0.47447,     0.47548,     0.47648,     0.47748,     0.47848,     0.47948,\n",
              "           0.48048,     0.48148,     0.48248,     0.48348,     0.48448,     0.48549,     0.48649,     0.48749,     0.48849,     0.48949,     0.49049,     0.49149,     0.49249,     0.49349,     0.49449,      0.4955,      0.4965,      0.4975,      0.4985,      0.4995,      0.5005,      0.5015,      0.5025,      0.5035,\n",
              "            0.5045,     0.50551,     0.50651,     0.50751,     0.50851,     0.50951,     0.51051,     0.51151,     0.51251,     0.51351,     0.51451,     0.51552,     0.51652,     0.51752,     0.51852,     0.51952,     0.52052,     0.52152,     0.52252,     0.52352,     0.52452,     0.52553,     0.52653,     0.52753,\n",
              "           0.52853,     0.52953,     0.53053,     0.53153,     0.53253,     0.53353,     0.53453,     0.53554,     0.53654,     0.53754,     0.53854,     0.53954,     0.54054,     0.54154,     0.54254,     0.54354,     0.54454,     0.54555,     0.54655,     0.54755,     0.54855,     0.54955,     0.55055,     0.55155,\n",
              "           0.55255,     0.55355,     0.55455,     0.55556,     0.55656,     0.55756,     0.55856,     0.55956,     0.56056,     0.56156,     0.56256,     0.56356,     0.56456,     0.56557,     0.56657,     0.56757,     0.56857,     0.56957,     0.57057,     0.57157,     0.57257,     0.57357,     0.57457,     0.57558,\n",
              "           0.57658,     0.57758,     0.57858,     0.57958,     0.58058,     0.58158,     0.58258,     0.58358,     0.58458,     0.58559,     0.58659,     0.58759,     0.58859,     0.58959,     0.59059,     0.59159,     0.59259,     0.59359,     0.59459,      0.5956,      0.5966,      0.5976,      0.5986,      0.5996,\n",
              "            0.6006,      0.6016,      0.6026,      0.6036,      0.6046,     0.60561,     0.60661,     0.60761,     0.60861,     0.60961,     0.61061,     0.61161,     0.61261,     0.61361,     0.61461,     0.61562,     0.61662,     0.61762,     0.61862,     0.61962,     0.62062,     0.62162,     0.62262,     0.62362,\n",
              "           0.62462,     0.62563,     0.62663,     0.62763,     0.62863,     0.62963,     0.63063,     0.63163,     0.63263,     0.63363,     0.63463,     0.63564,     0.63664,     0.63764,     0.63864,     0.63964,     0.64064,     0.64164,     0.64264,     0.64364,     0.64464,     0.64565,     0.64665,     0.64765,\n",
              "           0.64865,     0.64965,     0.65065,     0.65165,     0.65265,     0.65365,     0.65465,     0.65566,     0.65666,     0.65766,     0.65866,     0.65966,     0.66066,     0.66166,     0.66266,     0.66366,     0.66466,     0.66567,     0.66667,     0.66767,     0.66867,     0.66967,     0.67067,     0.67167,\n",
              "           0.67267,     0.67367,     0.67467,     0.67568,     0.67668,     0.67768,     0.67868,     0.67968,     0.68068,     0.68168,     0.68268,     0.68368,     0.68468,     0.68569,     0.68669,     0.68769,     0.68869,     0.68969,     0.69069,     0.69169,     0.69269,     0.69369,     0.69469,      0.6957,\n",
              "            0.6967,      0.6977,      0.6987,      0.6997,      0.7007,      0.7017,      0.7027,      0.7037,      0.7047,     0.70571,     0.70671,     0.70771,     0.70871,     0.70971,     0.71071,     0.71171,     0.71271,     0.71371,     0.71471,     0.71572,     0.71672,     0.71772,     0.71872,     0.71972,\n",
              "           0.72072,     0.72172,     0.72272,     0.72372,     0.72472,     0.72573,     0.72673,     0.72773,     0.72873,     0.72973,     0.73073,     0.73173,     0.73273,     0.73373,     0.73473,     0.73574,     0.73674,     0.73774,     0.73874,     0.73974,     0.74074,     0.74174,     0.74274,     0.74374,\n",
              "           0.74474,     0.74575,     0.74675,     0.74775,     0.74875,     0.74975,     0.75075,     0.75175,     0.75275,     0.75375,     0.75475,     0.75576,     0.75676,     0.75776,     0.75876,     0.75976,     0.76076,     0.76176,     0.76276,     0.76376,     0.76476,     0.76577,     0.76677,     0.76777,\n",
              "           0.76877,     0.76977,     0.77077,     0.77177,     0.77277,     0.77377,     0.77477,     0.77578,     0.77678,     0.77778,     0.77878,     0.77978,     0.78078,     0.78178,     0.78278,     0.78378,     0.78478,     0.78579,     0.78679,     0.78779,     0.78879,     0.78979,     0.79079,     0.79179,\n",
              "           0.79279,     0.79379,     0.79479,      0.7958,      0.7968,      0.7978,      0.7988,      0.7998,      0.8008,      0.8018,      0.8028,      0.8038,      0.8048,     0.80581,     0.80681,     0.80781,     0.80881,     0.80981,     0.81081,     0.81181,     0.81281,     0.81381,     0.81481,     0.81582,\n",
              "           0.81682,     0.81782,     0.81882,     0.81982,     0.82082,     0.82182,     0.82282,     0.82382,     0.82482,     0.82583,     0.82683,     0.82783,     0.82883,     0.82983,     0.83083,     0.83183,     0.83283,     0.83383,     0.83483,     0.83584,     0.83684,     0.83784,     0.83884,     0.83984,\n",
              "           0.84084,     0.84184,     0.84284,     0.84384,     0.84484,     0.84585,     0.84685,     0.84785,     0.84885,     0.84985,     0.85085,     0.85185,     0.85285,     0.85385,     0.85485,     0.85586,     0.85686,     0.85786,     0.85886,     0.85986,     0.86086,     0.86186,     0.86286,     0.86386,\n",
              "           0.86486,     0.86587,     0.86687,     0.86787,     0.86887,     0.86987,     0.87087,     0.87187,     0.87287,     0.87387,     0.87487,     0.87588,     0.87688,     0.87788,     0.87888,     0.87988,     0.88088,     0.88188,     0.88288,     0.88388,     0.88488,     0.88589,     0.88689,     0.88789,\n",
              "           0.88889,     0.88989,     0.89089,     0.89189,     0.89289,     0.89389,     0.89489,      0.8959,      0.8969,      0.8979,      0.8989,      0.8999,      0.9009,      0.9019,      0.9029,      0.9039,      0.9049,     0.90591,     0.90691,     0.90791,     0.90891,     0.90991,     0.91091,     0.91191,\n",
              "           0.91291,     0.91391,     0.91491,     0.91592,     0.91692,     0.91792,     0.91892,     0.91992,     0.92092,     0.92192,     0.92292,     0.92392,     0.92492,     0.92593,     0.92693,     0.92793,     0.92893,     0.92993,     0.93093,     0.93193,     0.93293,     0.93393,     0.93493,     0.93594,\n",
              "           0.93694,     0.93794,     0.93894,     0.93994,     0.94094,     0.94194,     0.94294,     0.94394,     0.94494,     0.94595,     0.94695,     0.94795,     0.94895,     0.94995,     0.95095,     0.95195,     0.95295,     0.95395,     0.95495,     0.95596,     0.95696,     0.95796,     0.95896,     0.95996,\n",
              "           0.96096,     0.96196,     0.96296,     0.96396,     0.96496,     0.96597,     0.96697,     0.96797,     0.96897,     0.96997,     0.97097,     0.97197,     0.97297,     0.97397,     0.97497,     0.97598,     0.97698,     0.97798,     0.97898,     0.97998,     0.98098,     0.98198,     0.98298,     0.98398,\n",
              "           0.98498,     0.98599,     0.98699,     0.98799,     0.98899,     0.98999,     0.99099,     0.99199,     0.99299,     0.99399,     0.99499,       0.996,       0.997,       0.998,       0.999,           1]), array([[    0.93182,     0.93182,     0.93182,     0.93182,     0.93182,     0.93182,     0.93182,     0.93182,     0.93182,     0.93182,     0.93182,     0.93182,     0.93182,     0.93182,     0.93182,     0.93182,     0.93182,     0.93182,     0.90909,     0.90909,     0.90909,     0.90909,     0.90909,\n",
              "            0.90909,     0.90909,     0.90909,     0.90909,     0.90909,     0.90909,     0.90909,     0.90909,     0.90909,     0.90909,     0.90909,     0.90909,     0.90909,     0.90909,     0.90909,     0.90909,     0.90909,     0.90909,     0.90909,     0.90909,     0.90909,     0.90909,     0.90909,\n",
              "            0.90909,     0.90909,     0.90909,     0.90909,     0.90909,     0.90909,     0.90909,     0.90909,     0.90909,     0.90909,     0.90909,     0.90909,     0.90909,     0.90909,     0.90909,     0.90909,     0.90909,     0.90909,     0.90909,     0.90909,     0.90909,     0.90909,     0.90909,\n",
              "            0.90909,     0.90909,     0.90909,     0.90909,     0.90909,     0.90909,     0.90909,     0.90909,     0.90909,     0.90909,     0.90909,     0.90909,     0.90909,     0.90909,     0.90909,     0.90909,     0.90909,     0.90909,     0.90909,     0.90909,     0.90909,     0.90909,     0.90909,\n",
              "            0.90909,     0.90909,     0.90909,     0.90909,     0.90909,     0.90909,     0.90909,     0.90909,     0.90909,     0.90909,     0.90909,     0.90909,     0.90909,     0.90909,     0.90909,     0.90909,     0.90909,     0.90909,     0.90909,     0.90909,     0.90909,     0.90909,     0.90909,\n",
              "            0.90909,     0.90909,     0.90909,     0.90909,     0.90909,     0.90909,     0.90909,     0.90909,     0.90909,     0.90909,     0.90909,     0.90909,     0.90909,     0.90909,     0.90909,     0.90909,     0.90909,     0.90909,     0.90909,     0.90909,     0.90909,     0.90909,     0.90909,\n",
              "            0.90909,     0.90909,     0.90909,     0.90909,     0.90909,     0.90909,     0.90909,     0.90909,     0.90909,     0.90909,     0.90909,     0.90909,     0.90909,     0.90909,     0.90909,     0.90909,     0.90909,     0.90909,     0.90909,     0.90909,     0.90909,     0.90909,     0.90909,\n",
              "            0.90909,     0.90909,     0.90909,     0.90909,     0.90909,     0.90909,     0.90909,     0.90909,     0.90909,     0.90909,     0.90909,     0.90909,     0.90909,     0.90909,     0.90909,     0.90909,     0.90909,     0.90909,     0.90909,     0.90909,     0.90909,     0.90909,     0.90909,\n",
              "            0.90909,     0.90909,     0.90909,     0.90909,     0.90909,     0.90909,     0.90909,     0.90909,     0.90909,     0.90909,     0.90909,     0.90909,     0.90909,     0.90909,     0.90909,     0.90909,     0.90909,     0.90909,     0.90909,     0.90909,     0.90909,     0.90909,     0.90909,\n",
              "            0.90909,     0.90909,     0.90909,     0.90909,     0.90909,     0.90909,     0.90909,     0.90909,     0.90909,     0.90909,     0.90909,     0.90909,     0.90909,     0.90909,     0.90909,     0.90909,     0.90909,     0.90909,     0.90909,     0.90909,     0.90909,     0.90845,     0.90766,\n",
              "            0.90686,     0.90607,     0.90528,     0.90448,     0.90369,      0.9029,      0.9021,     0.90131,     0.90052,     0.89972,     0.89893,     0.89814,     0.89735,     0.89655,     0.89576,     0.89497,     0.89417,     0.89338,     0.89259,     0.89179,       0.891,     0.89021,     0.88941,\n",
              "            0.88862,     0.88783,     0.88704,     0.88636,     0.88636,     0.88636,     0.88636,     0.88636,     0.88636,     0.88636,     0.88636,     0.88636,     0.88636,     0.88636,     0.88636,     0.88636,     0.88636,     0.88636,     0.88636,     0.88636,     0.88636,     0.88636,     0.88636,\n",
              "            0.88636,     0.88636,     0.88636,     0.88636,     0.88636,     0.88636,     0.88636,     0.88636,     0.88636,     0.88636,     0.88636,     0.88636,     0.88636,     0.88636,     0.88636,     0.88636,     0.88636,     0.88636,     0.88636,     0.88636,     0.88636,     0.88636,     0.88636,\n",
              "            0.88636,     0.88636,     0.88636,     0.88636,     0.88636,     0.88636,     0.88636,     0.88636,     0.88636,     0.88636,     0.88636,     0.88636,     0.88636,     0.88636,     0.88636,     0.88636,     0.88636,     0.88636,     0.88636,     0.88636,     0.88636,     0.88636,     0.88636,\n",
              "            0.88636,     0.88636,     0.88636,     0.88636,     0.88636,     0.88636,     0.88636,     0.88636,     0.88636,     0.88636,     0.88636,     0.88636,     0.88636,     0.88636,     0.88636,     0.88636,     0.88636,     0.88636,     0.88636,     0.88636,     0.88636,     0.88636,     0.88636,\n",
              "            0.88636,     0.88636,     0.88636,     0.88636,     0.88636,     0.88636,     0.88608,     0.87761,     0.86914,     0.86364,     0.86364,     0.86364,     0.86364,     0.86364,     0.86364,     0.86364,     0.86364,     0.86364,     0.86364,     0.86364,     0.86364,     0.86364,     0.86364,\n",
              "            0.86364,     0.86364,     0.86364,     0.86364,     0.86364,     0.86364,     0.86364,     0.86364,     0.86364,     0.86364,     0.86364,     0.86364,     0.86364,     0.86364,     0.86364,     0.86364,     0.86364,     0.86364,     0.86364,     0.86364,     0.86364,     0.86364,     0.86364,\n",
              "            0.86364,     0.86364,     0.86364,     0.86364,     0.86364,     0.86364,     0.86364,     0.86364,     0.86364,     0.86364,     0.86364,     0.86364,     0.86364,     0.86364,     0.86364,     0.86364,     0.86364,     0.86364,     0.86364,     0.86364,     0.86364,     0.86364,     0.86364,\n",
              "            0.86364,     0.86364,     0.86364,     0.86364,     0.86364,     0.86364,     0.86364,     0.86364,     0.86364,     0.86364,     0.86364,     0.86364,     0.86364,     0.86364,     0.86364,     0.86364,     0.86364,     0.86364,     0.86364,     0.86364,     0.86364,     0.86364,     0.86364,\n",
              "            0.86364,     0.86364,     0.86364,     0.86364,     0.86364,     0.86364,     0.86364,     0.86364,     0.86364,     0.86364,     0.86364,     0.86364,     0.86364,     0.86364,     0.86364,     0.86364,     0.86364,     0.86364,     0.86364,     0.86364,     0.86364,     0.86364,     0.86364,\n",
              "            0.86364,     0.86364,     0.86364,     0.86364,     0.86364,     0.86364,     0.86364,     0.86364,     0.86364,     0.86364,     0.86364,     0.86364,     0.86364,     0.86364,     0.86364,     0.86364,     0.86364,     0.86364,     0.86364,     0.86364,     0.86364,     0.86364,     0.86364,\n",
              "            0.86364,     0.86364,     0.86364,     0.86364,     0.86364,     0.86364,     0.86364,     0.86364,     0.86364,     0.86364,     0.86364,     0.86364,     0.86364,     0.86364,     0.86364,     0.86364,     0.86364,     0.86364,     0.86364,     0.86364,     0.86364,     0.86364,     0.86364,\n",
              "            0.86364,     0.86364,     0.86364,     0.86364,     0.86364,     0.86364,     0.86364,     0.86364,     0.86364,     0.86364,     0.86364,     0.86364,     0.86364,     0.86364,     0.86364,     0.86364,     0.86364,     0.86364,     0.86364,     0.86364,     0.86364,     0.86364,     0.86364,\n",
              "            0.86364,     0.86364,     0.86336,     0.86239,     0.86142,     0.86045,     0.85948,     0.85851,     0.85754,     0.85657,      0.8556,     0.85463,     0.85366,     0.85269,     0.85172,     0.85074,     0.84977,      0.8488,     0.84783,     0.84686,     0.84589,     0.84492,     0.84395,\n",
              "            0.84298,     0.84201,     0.84104,     0.84091,     0.84091,     0.84091,     0.84091,     0.84091,     0.84091,     0.84091,     0.84091,     0.84091,     0.84091,     0.84091,     0.84091,     0.84091,     0.84091,     0.84091,     0.84091,     0.84091,     0.84091,     0.84091,     0.84091,\n",
              "            0.84037,     0.83975,     0.83913,     0.83851,     0.83789,     0.83726,     0.83664,     0.83602,      0.8354,     0.83478,     0.83416,     0.83354,     0.83292,     0.83229,     0.83167,     0.83105,     0.83043,     0.82981,     0.82919,     0.82857,     0.82795,     0.82732,      0.8267,\n",
              "            0.82608,     0.82546,     0.82484,     0.82422,      0.8236,     0.82298,     0.82235,     0.82173,     0.82111,     0.82049,     0.81987,     0.81925,     0.81863,     0.81755,     0.81533,     0.81312,      0.8109,     0.80868,     0.80646,     0.80424,     0.80202,      0.7998,     0.79759,\n",
              "            0.79545,     0.79545,     0.79545,     0.79545,     0.79545,     0.79545,     0.79545,     0.79545,     0.79545,     0.79545,     0.79545,     0.79501,     0.79355,     0.79209,     0.79064,     0.78918,     0.78773,     0.78627,     0.78481,     0.78336,      0.7819,     0.78045,     0.77899,\n",
              "            0.77753,     0.77608,     0.77462,     0.77317,     0.76911,     0.76393,     0.75876,     0.75358,     0.74958,     0.74821,     0.74684,     0.74547,      0.7441,     0.74273,     0.74135,     0.73998,     0.73861,     0.73724,     0.73587,      0.7345,     0.73313,     0.73176,     0.73039,\n",
              "            0.72902,     0.72765,     0.72581,     0.72378,     0.72176,     0.71973,      0.7177,     0.71568,     0.71365,     0.71163,      0.7096,     0.70758,     0.70555,     0.70368,     0.70195,     0.70022,      0.6985,     0.69677,     0.69505,     0.69332,      0.6916,     0.68987,     0.68814,\n",
              "            0.68642,     0.68469,     0.68297,     0.68052,     0.67664,     0.67276,     0.66887,     0.66499,     0.66111,     0.65629,     0.65047,     0.64464,     0.63882,     0.63478,     0.63204,      0.6293,     0.62656,     0.62382,     0.62108,     0.61833,     0.61559,     0.56375,     0.54821,\n",
              "            0.54439,      0.5431,      0.5418,     0.54051,     0.53921,     0.53792,     0.53663,     0.53533,     0.53404,     0.53274,     0.53145,     0.53015,     0.52886,     0.52757,     0.52627,     0.52498,     0.52368,     0.45415,     0.45265,     0.45115,     0.44964,     0.44814,     0.44664,\n",
              "            0.44513,     0.44363,     0.44213,     0.44063,     0.43912,     0.43762,     0.43612,     0.43461,     0.43311,     0.43127,     0.42739,     0.42351,     0.41963,     0.41574,     0.41186,     0.40788,     0.40364,     0.39941,     0.39517,     0.39093,      0.3867,      0.3816,     0.37642,\n",
              "            0.37124,     0.36607,     0.33926,     0.33615,     0.33305,     0.32994,     0.32684,     0.32373,     0.32062,     0.31728,     0.31304,      0.3088,     0.30457,     0.30033,      0.2961,     0.29313,     0.29039,     0.28765,     0.28491,     0.28217,     0.27943,     0.27669,     0.27395,\n",
              "            0.26755,     0.25823,     0.24891,     0.23959,     0.23028,     0.22502,     0.22169,     0.21836,     0.21503,     0.21171,     0.20838,     0.20505,     0.20257,     0.20024,     0.19791,     0.19558,     0.19325,     0.19092,     0.18859,     0.18626,     0.18393,     0.18128,     0.17545,\n",
              "            0.16963,     0.16381,      0.1351,     0.12844,     0.12178,     0.11513,     0.10761,    0.099846,    0.092081,    0.082997,    0.073678,    0.066712,    0.063128,    0.059544,     0.05596,    0.052376,    0.048792,    0.045266,    0.042525,    0.039784,    0.037044,    0.034303,    0.031562,\n",
              "           0.028822,    0.026081,     0.02334,           0,           0,           0,           0,           0,           0,           0,           0,           0,           0,           0,           0,           0,           0,           0,           0,           0,           0,           0,           0,\n",
              "                  0,           0,           0,           0,           0,           0,           0,           0,           0,           0,           0,           0,           0,           0,           0,           0,           0,           0,           0,           0,           0,           0,           0,\n",
              "                  0,           0,           0,           0,           0,           0,           0,           0,           0,           0,           0,           0,           0,           0,           0,           0,           0,           0,           0,           0,           0,           0,           0,\n",
              "                  0,           0,           0,           0,           0,           0,           0,           0,           0,           0,           0,           0,           0,           0,           0,           0,           0,           0,           0,           0,           0,           0,           0,\n",
              "                  0,           0,           0,           0,           0,           0,           0,           0,           0,           0,           0,           0,           0,           0,           0,           0,           0,           0,           0,           0,           0,           0,           0,\n",
              "                  0,           0,           0,           0,           0,           0,           0,           0,           0,           0,           0,           0,           0,           0,           0,           0,           0,           0,           0,           0,           0,           0,           0,\n",
              "                  0,           0,           0,           0,           0,           0,           0,           0,           0,           0,           0,           0,           0,           0,           0,           0,           0,           0,           0,           0,           0,           0,           0,\n",
              "                  0,           0,           0,           0,           0,           0,           0,           0,           0,           0,           0]]), 'Confidence', 'Recall']]\n",
              "fitness: np.float64(0.6025075129674843)\n",
              "keys: ['metrics/precision(B)', 'metrics/recall(B)', 'metrics/mAP50(B)', 'metrics/mAP50-95(B)']\n",
              "maps: array([    0.56811])\n",
              "names: {0: 'license_plate'}\n",
              "nt_per_class: array([44])\n",
              "nt_per_image: array([44])\n",
              "results_dict: {'metrics/precision(B)': np.float64(0.9328593474426808), 'metrics/recall(B)': np.float64(0.8409090909090909), 'metrics/mAP50(B)': np.float64(0.9121267802912522), 'metrics/mAP50-95(B)': np.float64(0.5681053721537322), 'fitness': np.float64(0.6025075129674843)}\n",
              "save_dir: PosixPath('runs/detect/train2')\n",
              "speed: {'preprocess': 0.05209554545227878, 'inference': 1.3496342499996157, 'loss': 0.0004946818163179241, 'postprocess': 1.3403621590917034}\n",
              "stats: {'tp': [], 'conf': [], 'pred_cls': [], 'target_cls': [], 'target_img': []}\n",
              "task: 'detect'"
            ]
          },
          "metadata": {},
          "execution_count": 3
        }
      ]
    },
    {
      "cell_type": "code",
      "source": [],
      "metadata": {
        "id": "Fq-Y3pzN_R7r"
      },
      "execution_count": null,
      "outputs": []
    },
    {
      "cell_type": "code",
      "source": [
        "import os\n",
        "import pandas as pd\n",
        "import matplotlib.pyplot as plt\n",
        "from glob import glob\n",
        "\n",
        "\n",
        "# Find the most recent training log directory\n",
        "log_dir = max(glob('runs/detect/train*'), key=the_number_in_the_string)\n",
        "\n",
        "# Load the training results from the CSV file\n",
        "results = pd.read_csv(os.path.join(log_dir, '/content/runs/detect/train2/results.csv'))\n",
        "results.columns = results.columns.str.strip()  # Remove any leading/trailing whitespace from column names\n",
        "\n",
        "# Extract epochs and accuracy metrics\n",
        "epochs = results.index + 1  # Epochs are zero-indexed, so add 1\n",
        "mAP_0_5 = results['metrics/mAP50(B)']  # Mean Average Precision at IoU=0.5\n",
        "mAP_0_5_0_95 = results['metrics/mAP50-95(B)']  # Mean Average Precision at IoU=0.5:0.95\n",
        "\n",
        "# Plot the accuracy over epochs\n",
        "plt.figure(figsize=(10, 5))\n",
        "plt.plot(epochs, mAP_0_5, label='mAP@0.5')\n",
        "plt.plot(epochs, mAP_0_5_0_95, label='mAP@0.5:0.95')\n",
        "plt.xlabel('Epoch')\n",
        "plt.ylabel('Accuracy')\n",
        "plt.title('Accuracy Over Epochs')\n",
        "plt.legend()\n",
        "plt.grid(True)\n",
        "plt.show()"
      ],
      "metadata": {
        "colab": {
          "base_uri": "https://localhost:8080/",
          "height": 487
        },
        "id": "ekW-uCF6ASXK",
        "outputId": "68588aa3-8f81-403b-ec4d-bbf41ce554de"
      },
      "execution_count": 6,
      "outputs": [
        {
          "output_type": "display_data",
          "data": {
            "text/plain": [
              "<Figure size 1000x500 with 1 Axes>"
            ],
            "image/png": "[encoded data removed]"
          },
          "metadata": {}
        }
      ]
    },
    {
      "cell_type": "code",
      "source": [
        "model.save('best_license_plate_model.pt')"
      ],
      "metadata": {
        "id": "SoQ0z3p0BIXq"
      },
      "execution_count": 9,
      "outputs": []
    },
    {
      "cell_type": "code",
      "source": [
        "import cv2\n",
        "import matplotlib.pyplot as plt\n",
        "from ultralytics import YOLO\n",
        "\n",
        "\n",
        "def predict_and_plot(path_test_car):\n",
        "    \"\"\"\n",
        "    Predicts and plots the bounding boxes on the given test image using the trained YOLO model.\n",
        "\n",
        "    Parameters:\n",
        "    path_test_car (str): Path to the test image file.\n",
        "    \"\"\"\n",
        "    # Perform prediction on the test image using the model\n",
        "    results = model.predict(path_test_car, device='cpu')\n",
        "\n",
        "\n",
        "    # Load the image using OpenCV\n",
        "    image = cv2.imread(path_test_car)\n",
        "    # Convert the image from BGR (OpenCV default) to RGB (matplotlib default)\n",
        "    image = cv2.cvtColor(image, cv2.COLOR_BGR2RGB)\n",
        "\n",
        "    # Extract the bounding boxes and labels from the results\n",
        "    for result in results:\n",
        "\n",
        "      for box in result.boxes:\n",
        "            # Get the coordinates of the bounding box\n",
        "            x1, y1, x2, y2 = map(int, box.xyxy[0])\n",
        "            # Get the confidence score of the prediction\n",
        "            confidence = box.conf[0]\n",
        "\n",
        "            # Draw the bounding box on the image\n",
        "            cv2.rectangle(image, (x1, y1), (x2, y2), (0, 255, 0), 2)\n",
        "            # Draw the confidence score near the bounding box\n",
        "            cv2.putText(image, f'{confidence*100:.2f}%', (x1, y1 - 10),\n",
        "                        cv2.FONT_HERSHEY_SIMPLEX, 0.9, (255, 0, 0), 2)\n",
        "\n",
        "    # Plot the image with bounding boxes\n",
        "    plt.imshow(image)\n",
        "    plt.axis('off')  # Hide the axis\n",
        "    plt.show()  # Display the image"
      ],
      "metadata": {
        "id": "Ts9a-J6VBVr-"
      },
      "execution_count": 7,
      "outputs": []
    },
    {
      "cell_type": "code",
      "source": [
        "predict_and_plot(test.iloc[0].img_path)"
      ],
      "metadata": {
        "id": "b78fJF32Bcy-"
      },
      "execution_count": null,
      "outputs": []
    },
    {
      "cell_type": "code",
      "source": [
        "predict_and_plot(test.iloc[1].img_path)"
      ],
      "metadata": {
        "id": "6rwXuDWXB5ft"
      },
      "execution_count": null,
      "outputs": []
    },
    {
      "cell_type": "code",
      "source": [
        "predict_and_plot(test.iloc[2].img_path)"
      ],
      "metadata": {
        "id": "ARqdBITEDEhB"
      },
      "execution_count": null,
      "outputs": []
    },
    {
      "cell_type": "code",
      "source": [
        "!pip3 install pytesseract"
      ],
      "metadata": {
        "id": "CAFiBoQ-DMRG"
      },
      "execution_count": null,
      "outputs": []
    },
    {
      "cell_type": "code",
      "source": [
        "import pytesseract\n",
        "from pytesseract import Output"
      ],
      "metadata": {
        "id": "lTrUTtmzDSB4"
      },
      "execution_count": null,
      "outputs": []
    },
    {
      "cell_type": "code",
      "source": [
        "import cv2\n",
        "import matplotlib.pyplot as plt\n",
        "from ultralytics import YOLO\n",
        "import pytesseract\n",
        "from pytesseract import Output\n",
        "\n",
        "\n",
        "def predict_and_plot(path_test_car):\n",
        "    \"\"\"\n",
        "    Predicts and plots the bounding boxes on the given test image using the trained YOLO model.\n",
        "    Also performs OCR on the detected bounding boxes to extract text.\n",
        "\n",
        "    Parameters:\n",
        "    path_test_car (str): Path to the test image file.\n",
        "    \"\"\"\n",
        "    # Perform prediction on the test image using the model\n",
        "    results = model.predict(path_test_car, device='cpu')\n",
        "\n",
        "    # Load the image using OpenCV\n",
        "    image = cv2.imread(path_test_car)\n",
        "    # Convert the image from BGR (OpenCV default) to RGB (matplotlib default)\n",
        "    image = cv2.cvtColor(image, cv2.COLOR_BGR2RGB)\n",
        "\n",
        "    # Extract the bounding boxes and labels from the results\n",
        "    for result in results:\n",
        "        for box in result.boxes:\n",
        "            # Get the coordinates of the bounding box\n",
        "            x1, y1, x2, y2 = map(int, box.xyxy[0])\n",
        "            # Get the confidence score of the prediction\n",
        "            confidence = box.conf[0]\n",
        "\n",
        "            # Draw the bounding box on the image\n",
        "            cv2.rectangle(image, (x1, y1), (x2, y2), (0, 255, 0), 2)\n",
        "            # Draw the confidence score near the bounding box\n",
        "            cv2.putText(image, f'{confidence*100:.2f}%', (x1, y1 - 10),\n",
        "                        cv2.FONT_HERSHEY_SIMPLEX, 0.9, (255, 0, 0), 2)\n",
        "\n",
        "            # Crop the bounding box from the image for OCR\n",
        "            roi = image[y1:y2, x1:x2]\n",
        "\n",
        "            # Perform OCR on the cropped image\n",
        "            text = pytesseract.image_to_string(roi, config='--psm 6')\n",
        "            print(f\"Detected text: {text}\")\n",
        "\n",
        "    # Plot the image with bounding boxes\n",
        "    plt.imshow(image)\n",
        "    plt.axis('off')  # Hide the axis\n",
        "    plt.show()  # Display the image"
      ],
      "metadata": {
        "id": "OPXW3LjIDkH1"
      },
      "execution_count": null,
      "outputs": []
    },
    {
      "cell_type": "code",
      "source": [
        "predict_and_plot(test.iloc[0].img_path)"
      ],
      "metadata": {
        "id": "O8QVkdx5Dm7W"
      },
      "execution_count": null,
      "outputs": []
    },
    {
      "cell_type": "code",
      "source": [
        "predict_and_plot(test.iloc[10].img_path)"
      ],
      "metadata": {
        "id": "9JliW8vDDw5H"
      },
      "execution_count": null,
      "outputs": []
    },
    {
      "cell_type": "code",
      "source": [],
      "metadata": {
        "id": "UvlSQahiD1Fv"
      },
      "execution_count": null,
      "outputs": []
    }
  ]
}